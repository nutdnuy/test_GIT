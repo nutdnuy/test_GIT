{
  "nbformat": 4,
  "nbformat_minor": 0,
  "metadata": {
    "colab": {
      "name": "Volatility and Risk",
      "provenance": []
    },
    "kernelspec": {
      "name": "python3",
      "display_name": "Python 3"
    }
  },
  "cells": [
    {
      "cell_type": "markdown",
      "metadata": {
        "id": "9WoJ0Mp43hHy",
        "colab_type": "text"
      },
      "source": [
        "#IMPORT LIBERLY"
      ]
    },
    {
      "cell_type": "code",
      "metadata": {
        "id": "lC6Kh0K8zah1",
        "colab_type": "code",
        "colab": {}
      },
      "source": [
        " # load packages\n",
        "import pandas as pd\n",
        "import numpy as np\n",
        "import pandas_datareader as pdr\n",
        "import seaborn as sns\n",
        "from matplotlib import pyplot as plt\n",
        "# not needed, only to prettify the plots.\n",
        "import matplotlib\n",
        "from IPython.display import set_matplotlib_formats\n",
        "%matplotlib inline"
      ],
      "execution_count": 0,
      "outputs": []
    },
    {
      "cell_type": "markdown",
      "metadata": {
        "id": "_WWRJ74sxKYQ",
        "colab_type": "text"
      },
      "source": [
        "# Volatility and Risk"
      ]
    },
    {
      "cell_type": "markdown",
      "metadata": {
        "id": "EvlmysOB0pFU",
        "colab_type": "text"
      },
      "source": [
        "##ดึงข้อมูล"
      ]
    },
    {
      "cell_type": "code",
      "metadata": {
        "id": "cbhDoyzO0n-7",
        "colab_type": "code",
        "colab": {}
      },
      "source": [
        "from pandas_datareader import data as pdr\n",
        "\n",
        "import fix_yahoo_finance as yf\n",
        "yf.pdr_override() # <== that's all it takes :-)"
      ],
      "execution_count": 0,
      "outputs": []
    },
    {
      "cell_type": "code",
      "metadata": {
        "id": "MNSwYNmd0r_c",
        "colab_type": "code",
        "outputId": "6f839b40-62ee-4deb-a9ce-50f891dac441",
        "colab": {
          "base_uri": "https://localhost:8080/",
          "height": 34
        }
      },
      "source": [
        "# ===========\n",
        "today = \"2020-01-01\"  # to make static this script.\n",
        "tckr = 'VOO'  \n",
        "# download data\n",
        "data = pdr.get_data_yahoo(tckr, \"2010-01-01\", today)\n",
        "# add frequency needed for some pandas functionalities releated with offsets\n",
        "data = data.asfreq('B')  \n",
        "data.columns = data.columns.map(lambda col: col.lower())"
      ],
      "execution_count": 79,
      "outputs": [
        {
          "output_type": "stream",
          "text": [
            "[*********************100%***********************]  1 of 1 downloaded\n"
          ],
          "name": "stdout"
        }
      ]
    },
    {
      "cell_type": "code",
      "metadata": {
        "id": "71HdK-q22Bri",
        "colab_type": "code",
        "outputId": "2b4e367b-4c3e-40d8-a334-8fe1e456e93a",
        "colab": {
          "base_uri": "https://localhost:8080/",
          "height": 700
        }
      },
      "source": [
        "data.head(20)  # first values"
      ],
      "execution_count": 80,
      "outputs": [
        {
          "output_type": "execute_result",
          "data": {
            "text/html": [
              "<div>\n",
              "<style scoped>\n",
              "    .dataframe tbody tr th:only-of-type {\n",
              "        vertical-align: middle;\n",
              "    }\n",
              "\n",
              "    .dataframe tbody tr th {\n",
              "        vertical-align: top;\n",
              "    }\n",
              "\n",
              "    .dataframe thead th {\n",
              "        text-align: right;\n",
              "    }\n",
              "</style>\n",
              "<table border=\"1\" class=\"dataframe\">\n",
              "  <thead>\n",
              "    <tr style=\"text-align: right;\">\n",
              "      <th></th>\n",
              "      <th>open</th>\n",
              "      <th>high</th>\n",
              "      <th>low</th>\n",
              "      <th>close</th>\n",
              "      <th>adj close</th>\n",
              "      <th>volume</th>\n",
              "    </tr>\n",
              "    <tr>\n",
              "      <th>Date</th>\n",
              "      <th></th>\n",
              "      <th></th>\n",
              "      <th></th>\n",
              "      <th></th>\n",
              "      <th></th>\n",
              "      <th></th>\n",
              "    </tr>\n",
              "  </thead>\n",
              "  <tbody>\n",
              "    <tr>\n",
              "      <th>2010-09-09</th>\n",
              "      <td>102.500000</td>\n",
              "      <td>102.500000</td>\n",
              "      <td>101.139999</td>\n",
              "      <td>101.320000</td>\n",
              "      <td>83.143929</td>\n",
              "      <td>26500.0</td>\n",
              "    </tr>\n",
              "    <tr>\n",
              "      <th>2010-09-10</th>\n",
              "      <td>101.680000</td>\n",
              "      <td>101.860001</td>\n",
              "      <td>101.300003</td>\n",
              "      <td>101.779999</td>\n",
              "      <td>83.521400</td>\n",
              "      <td>8600.0</td>\n",
              "    </tr>\n",
              "    <tr>\n",
              "      <th>2010-09-13</th>\n",
              "      <td>102.959999</td>\n",
              "      <td>103.139999</td>\n",
              "      <td>102.500000</td>\n",
              "      <td>103.059998</td>\n",
              "      <td>84.571770</td>\n",
              "      <td>33700.0</td>\n",
              "    </tr>\n",
              "    <tr>\n",
              "      <th>2010-09-14</th>\n",
              "      <td>102.839996</td>\n",
              "      <td>103.480003</td>\n",
              "      <td>102.379997</td>\n",
              "      <td>103.040001</td>\n",
              "      <td>84.555374</td>\n",
              "      <td>59400.0</td>\n",
              "    </tr>\n",
              "    <tr>\n",
              "      <th>2010-09-15</th>\n",
              "      <td>102.620003</td>\n",
              "      <td>103.379997</td>\n",
              "      <td>102.400002</td>\n",
              "      <td>103.300003</td>\n",
              "      <td>84.768715</td>\n",
              "      <td>9200.0</td>\n",
              "    </tr>\n",
              "    <tr>\n",
              "      <th>2010-09-16</th>\n",
              "      <td>103.019997</td>\n",
              "      <td>103.320000</td>\n",
              "      <td>102.699997</td>\n",
              "      <td>103.260002</td>\n",
              "      <td>84.735901</td>\n",
              "      <td>59500.0</td>\n",
              "    </tr>\n",
              "    <tr>\n",
              "      <th>2010-09-17</th>\n",
              "      <td>103.879997</td>\n",
              "      <td>103.879997</td>\n",
              "      <td>103.019997</td>\n",
              "      <td>103.360001</td>\n",
              "      <td>84.817970</td>\n",
              "      <td>49300.0</td>\n",
              "    </tr>\n",
              "    <tr>\n",
              "      <th>2010-09-20</th>\n",
              "      <td>103.739998</td>\n",
              "      <td>105.040001</td>\n",
              "      <td>103.459999</td>\n",
              "      <td>105.040001</td>\n",
              "      <td>86.196617</td>\n",
              "      <td>19000.0</td>\n",
              "    </tr>\n",
              "    <tr>\n",
              "      <th>2010-09-21</th>\n",
              "      <td>105.019997</td>\n",
              "      <td>105.440002</td>\n",
              "      <td>104.279999</td>\n",
              "      <td>104.720001</td>\n",
              "      <td>85.933998</td>\n",
              "      <td>19200.0</td>\n",
              "    </tr>\n",
              "    <tr>\n",
              "      <th>2010-09-22</th>\n",
              "      <td>104.559998</td>\n",
              "      <td>105.040001</td>\n",
              "      <td>103.959999</td>\n",
              "      <td>104.160004</td>\n",
              "      <td>85.474480</td>\n",
              "      <td>18100.0</td>\n",
              "    </tr>\n",
              "    <tr>\n",
              "      <th>2010-09-23</th>\n",
              "      <td>103.320000</td>\n",
              "      <td>104.339996</td>\n",
              "      <td>103.120003</td>\n",
              "      <td>103.300003</td>\n",
              "      <td>84.768715</td>\n",
              "      <td>33300.0</td>\n",
              "    </tr>\n",
              "    <tr>\n",
              "      <th>2010-09-24</th>\n",
              "      <td>103.940002</td>\n",
              "      <td>104.900002</td>\n",
              "      <td>103.860001</td>\n",
              "      <td>104.839996</td>\n",
              "      <td>86.499718</td>\n",
              "      <td>24100.0</td>\n",
              "    </tr>\n",
              "    <tr>\n",
              "      <th>2010-09-27</th>\n",
              "      <td>104.980003</td>\n",
              "      <td>104.980003</td>\n",
              "      <td>104.339996</td>\n",
              "      <td>104.339996</td>\n",
              "      <td>86.087166</td>\n",
              "      <td>15000.0</td>\n",
              "    </tr>\n",
              "    <tr>\n",
              "      <th>2010-09-28</th>\n",
              "      <td>104.320000</td>\n",
              "      <td>105.019997</td>\n",
              "      <td>103.419998</td>\n",
              "      <td>105.019997</td>\n",
              "      <td>86.648224</td>\n",
              "      <td>49800.0</td>\n",
              "    </tr>\n",
              "    <tr>\n",
              "      <th>2010-09-29</th>\n",
              "      <td>104.580002</td>\n",
              "      <td>104.919998</td>\n",
              "      <td>104.220001</td>\n",
              "      <td>104.519997</td>\n",
              "      <td>86.235687</td>\n",
              "      <td>15900.0</td>\n",
              "    </tr>\n",
              "    <tr>\n",
              "      <th>2010-09-30</th>\n",
              "      <td>105.199997</td>\n",
              "      <td>105.680000</td>\n",
              "      <td>103.959999</td>\n",
              "      <td>104.360001</td>\n",
              "      <td>86.103699</td>\n",
              "      <td>44700.0</td>\n",
              "    </tr>\n",
              "    <tr>\n",
              "      <th>2010-10-01</th>\n",
              "      <td>105.080002</td>\n",
              "      <td>105.160004</td>\n",
              "      <td>104.160004</td>\n",
              "      <td>104.720001</td>\n",
              "      <td>86.400734</td>\n",
              "      <td>17100.0</td>\n",
              "    </tr>\n",
              "    <tr>\n",
              "      <th>2010-10-04</th>\n",
              "      <td>105.260002</td>\n",
              "      <td>105.260002</td>\n",
              "      <td>103.500000</td>\n",
              "      <td>103.839996</td>\n",
              "      <td>85.674652</td>\n",
              "      <td>88700.0</td>\n",
              "    </tr>\n",
              "    <tr>\n",
              "      <th>2010-10-05</th>\n",
              "      <td>105.019997</td>\n",
              "      <td>106.199997</td>\n",
              "      <td>104.820000</td>\n",
              "      <td>106.120003</td>\n",
              "      <td>87.555801</td>\n",
              "      <td>19800.0</td>\n",
              "    </tr>\n",
              "    <tr>\n",
              "      <th>2010-10-06</th>\n",
              "      <td>106.120003</td>\n",
              "      <td>106.279999</td>\n",
              "      <td>105.620003</td>\n",
              "      <td>105.940002</td>\n",
              "      <td>87.407318</td>\n",
              "      <td>276900.0</td>\n",
              "    </tr>\n",
              "  </tbody>\n",
              "</table>\n",
              "</div>"
            ],
            "text/plain": [
              "                  open        high         low       close  adj close    volume\n",
              "Date                                                                           \n",
              "2010-09-09  102.500000  102.500000  101.139999  101.320000  83.143929   26500.0\n",
              "2010-09-10  101.680000  101.860001  101.300003  101.779999  83.521400    8600.0\n",
              "2010-09-13  102.959999  103.139999  102.500000  103.059998  84.571770   33700.0\n",
              "2010-09-14  102.839996  103.480003  102.379997  103.040001  84.555374   59400.0\n",
              "2010-09-15  102.620003  103.379997  102.400002  103.300003  84.768715    9200.0\n",
              "2010-09-16  103.019997  103.320000  102.699997  103.260002  84.735901   59500.0\n",
              "2010-09-17  103.879997  103.879997  103.019997  103.360001  84.817970   49300.0\n",
              "2010-09-20  103.739998  105.040001  103.459999  105.040001  86.196617   19000.0\n",
              "2010-09-21  105.019997  105.440002  104.279999  104.720001  85.933998   19200.0\n",
              "2010-09-22  104.559998  105.040001  103.959999  104.160004  85.474480   18100.0\n",
              "2010-09-23  103.320000  104.339996  103.120003  103.300003  84.768715   33300.0\n",
              "2010-09-24  103.940002  104.900002  103.860001  104.839996  86.499718   24100.0\n",
              "2010-09-27  104.980003  104.980003  104.339996  104.339996  86.087166   15000.0\n",
              "2010-09-28  104.320000  105.019997  103.419998  105.019997  86.648224   49800.0\n",
              "2010-09-29  104.580002  104.919998  104.220001  104.519997  86.235687   15900.0\n",
              "2010-09-30  105.199997  105.680000  103.959999  104.360001  86.103699   44700.0\n",
              "2010-10-01  105.080002  105.160004  104.160004  104.720001  86.400734   17100.0\n",
              "2010-10-04  105.260002  105.260002  103.500000  103.839996  85.674652   88700.0\n",
              "2010-10-05  105.019997  106.199997  104.820000  106.120003  87.555801   19800.0\n",
              "2010-10-06  106.120003  106.279999  105.620003  105.940002  87.407318  276900.0"
            ]
          },
          "metadata": {
            "tags": []
          },
          "execution_count": 80
        }
      ]
    },
    {
      "cell_type": "code",
      "metadata": {
        "id": "EYE7nI1f9Rma",
        "colab_type": "code",
        "outputId": "b38cdfd7-a1d9-4699-f372-503e6ba87cdb",
        "colab": {
          "base_uri": "https://localhost:8080/",
          "height": 450
        }
      },
      "source": [
        "prices = data[['close']]\n",
        "prices = prices.dropna()\n",
        "prices"
      ],
      "execution_count": 81,
      "outputs": [
        {
          "output_type": "execute_result",
          "data": {
            "text/html": [
              "<div>\n",
              "<style scoped>\n",
              "    .dataframe tbody tr th:only-of-type {\n",
              "        vertical-align: middle;\n",
              "    }\n",
              "\n",
              "    .dataframe tbody tr th {\n",
              "        vertical-align: top;\n",
              "    }\n",
              "\n",
              "    .dataframe thead th {\n",
              "        text-align: right;\n",
              "    }\n",
              "</style>\n",
              "<table border=\"1\" class=\"dataframe\">\n",
              "  <thead>\n",
              "    <tr style=\"text-align: right;\">\n",
              "      <th></th>\n",
              "      <th>close</th>\n",
              "    </tr>\n",
              "    <tr>\n",
              "      <th>Date</th>\n",
              "      <th></th>\n",
              "    </tr>\n",
              "  </thead>\n",
              "  <tbody>\n",
              "    <tr>\n",
              "      <th>2010-09-09</th>\n",
              "      <td>101.320000</td>\n",
              "    </tr>\n",
              "    <tr>\n",
              "      <th>2010-09-10</th>\n",
              "      <td>101.779999</td>\n",
              "    </tr>\n",
              "    <tr>\n",
              "      <th>2010-09-13</th>\n",
              "      <td>103.059998</td>\n",
              "    </tr>\n",
              "    <tr>\n",
              "      <th>2010-09-14</th>\n",
              "      <td>103.040001</td>\n",
              "    </tr>\n",
              "    <tr>\n",
              "      <th>2010-09-15</th>\n",
              "      <td>103.300003</td>\n",
              "    </tr>\n",
              "    <tr>\n",
              "      <th>...</th>\n",
              "      <td>...</td>\n",
              "    </tr>\n",
              "    <tr>\n",
              "      <th>2019-12-24</th>\n",
              "      <td>295.160004</td>\n",
              "    </tr>\n",
              "    <tr>\n",
              "      <th>2019-12-26</th>\n",
              "      <td>296.670013</td>\n",
              "    </tr>\n",
              "    <tr>\n",
              "      <th>2019-12-27</th>\n",
              "      <td>296.670013</td>\n",
              "    </tr>\n",
              "    <tr>\n",
              "      <th>2019-12-30</th>\n",
              "      <td>295.040009</td>\n",
              "    </tr>\n",
              "    <tr>\n",
              "      <th>2019-12-31</th>\n",
              "      <td>295.799988</td>\n",
              "    </tr>\n",
              "  </tbody>\n",
              "</table>\n",
              "<p>2344 rows × 1 columns</p>\n",
              "</div>"
            ],
            "text/plain": [
              "                 close\n",
              "Date                  \n",
              "2010-09-09  101.320000\n",
              "2010-09-10  101.779999\n",
              "2010-09-13  103.059998\n",
              "2010-09-14  103.040001\n",
              "2010-09-15  103.300003\n",
              "...                ...\n",
              "2019-12-24  295.160004\n",
              "2019-12-26  296.670013\n",
              "2019-12-27  296.670013\n",
              "2019-12-30  295.040009\n",
              "2019-12-31  295.799988\n",
              "\n",
              "[2344 rows x 1 columns]"
            ]
          },
          "metadata": {
            "tags": []
          },
          "execution_count": 81
        }
      ]
    },
    {
      "cell_type": "code",
      "metadata": {
        "id": "TDy4rHdb2mTA",
        "colab_type": "code",
        "outputId": "f21df998-9dde-477e-f875-39984c8ed910",
        "colab": {
          "base_uri": "https://localhost:8080/",
          "height": 286
        }
      },
      "source": [
        "returns = prices.pct_change()\n",
        "returns = returns.dropna()\n",
        "returns.plot()"
      ],
      "execution_count": 82,
      "outputs": [
        {
          "output_type": "execute_result",
          "data": {
            "text/plain": [
              "<matplotlib.axes._subplots.AxesSubplot at 0x7f43d5f36828>"
            ]
          },
          "metadata": {
            "tags": []
          },
          "execution_count": 82
        },
        {
          "output_type": "display_data",
          "data": {
            "image/png": "[encoded data removed]",
            "text/plain": [
              "<Figure size 432x288 with 1 Axes>"
            ]
          },
          "metadata": {
            "tags": []
          }
        }
      ]
    },
    {
      "cell_type": "code",
      "metadata": {
        "id": "w5KRlBAS_L3f",
        "colab_type": "code",
        "outputId": "3eb55db6-f76f-42f8-d848-d60ad2f0bb76",
        "colab": {
          "base_uri": "https://localhost:8080/",
          "height": 450
        }
      },
      "source": [
        "returns.rename(columns={'close':'returns_Vanguard_S&P_500_ETF'},inplace=True)\n",
        "returns"
      ],
      "execution_count": 83,
      "outputs": [
        {
          "output_type": "execute_result",
          "data": {
            "text/html": [
              "<div>\n",
              "<style scoped>\n",
              "    .dataframe tbody tr th:only-of-type {\n",
              "        vertical-align: middle;\n",
              "    }\n",
              "\n",
              "    .dataframe tbody tr th {\n",
              "        vertical-align: top;\n",
              "    }\n",
              "\n",
              "    .dataframe thead th {\n",
              "        text-align: right;\n",
              "    }\n",
              "</style>\n",
              "<table border=\"1\" class=\"dataframe\">\n",
              "  <thead>\n",
              "    <tr style=\"text-align: right;\">\n",
              "      <th></th>\n",
              "      <th>returns_Vanguard_S&amp;P_500_ETF</th>\n",
              "    </tr>\n",
              "    <tr>\n",
              "      <th>Date</th>\n",
              "      <th></th>\n",
              "    </tr>\n",
              "  </thead>\n",
              "  <tbody>\n",
              "    <tr>\n",
              "      <th>2010-09-10</th>\n",
              "      <td>0.004540</td>\n",
              "    </tr>\n",
              "    <tr>\n",
              "      <th>2010-09-13</th>\n",
              "      <td>0.012576</td>\n",
              "    </tr>\n",
              "    <tr>\n",
              "      <th>2010-09-14</th>\n",
              "      <td>-0.000194</td>\n",
              "    </tr>\n",
              "    <tr>\n",
              "      <th>2010-09-15</th>\n",
              "      <td>0.002523</td>\n",
              "    </tr>\n",
              "    <tr>\n",
              "      <th>2010-09-16</th>\n",
              "      <td>-0.000387</td>\n",
              "    </tr>\n",
              "    <tr>\n",
              "      <th>...</th>\n",
              "      <td>...</td>\n",
              "    </tr>\n",
              "    <tr>\n",
              "      <th>2019-12-24</th>\n",
              "      <td>0.000000</td>\n",
              "    </tr>\n",
              "    <tr>\n",
              "      <th>2019-12-26</th>\n",
              "      <td>0.005116</td>\n",
              "    </tr>\n",
              "    <tr>\n",
              "      <th>2019-12-27</th>\n",
              "      <td>0.000000</td>\n",
              "    </tr>\n",
              "    <tr>\n",
              "      <th>2019-12-30</th>\n",
              "      <td>-0.005494</td>\n",
              "    </tr>\n",
              "    <tr>\n",
              "      <th>2019-12-31</th>\n",
              "      <td>0.002576</td>\n",
              "    </tr>\n",
              "  </tbody>\n",
              "</table>\n",
              "<p>2343 rows × 1 columns</p>\n",
              "</div>"
            ],
            "text/plain": [
              "            returns_Vanguard_S&P_500_ETF\n",
              "Date                                    \n",
              "2010-09-10                      0.004540\n",
              "2010-09-13                      0.012576\n",
              "2010-09-14                     -0.000194\n",
              "2010-09-15                      0.002523\n",
              "2010-09-16                     -0.000387\n",
              "...                                  ...\n",
              "2019-12-24                      0.000000\n",
              "2019-12-26                      0.005116\n",
              "2019-12-27                      0.000000\n",
              "2019-12-30                     -0.005494\n",
              "2019-12-31                      0.002576\n",
              "\n",
              "[2343 rows x 1 columns]"
            ]
          },
          "metadata": {
            "tags": []
          },
          "execution_count": 83
        }
      ]
    },
    {
      "cell_type": "markdown",
      "metadata": {
        "id": "_S_4Fj2QyLzV",
        "colab_type": "text"
      },
      "source": [
        "## Volatility and Risk"
      ]
    },
    {
      "cell_type": "markdown",
      "metadata": {
        "id": "KW0784qg4Fpl",
        "colab_type": "text"
      },
      "source": [
        ""
      ]
    },
    {
      "cell_type": "code",
      "metadata": {
        "id": "K-7FAufS-6nx",
        "colab_type": "code",
        "outputId": "e1a356fa-01a0-4a71-bec9-7ac4740322a7",
        "colab": {
          "base_uri": "https://localhost:8080/",
          "height": 51
        }
      },
      "source": [
        "deviations = returns - returns.mean()\n",
        "squared_deviations = deviations**2\n",
        "mean_squared_deviations = squared_deviations.mean()\n",
        "\n",
        "\n",
        "volatility = np.sqrt(mean_squared_deviations)\n",
        "volatility"
      ],
      "execution_count": 84,
      "outputs": [
        {
          "output_type": "execute_result",
          "data": {
            "text/plain": [
              "returns_Vanguard_S&P_500_ETF    0.008976\n",
              "dtype: float64"
            ]
          },
          "metadata": {
            "tags": []
          },
          "execution_count": 84
        }
      ]
    },
    {
      "cell_type": "code",
      "metadata": {
        "id": "arWKrhJx_Ay2",
        "colab_type": "code",
        "outputId": "98b7dcb4-ade3-4527-a02d-8aa8254a1c8f",
        "colab": {
          "base_uri": "https://localhost:8080/",
          "height": 51
        }
      },
      "source": [
        "returns.std()"
      ],
      "execution_count": 85,
      "outputs": [
        {
          "output_type": "execute_result",
          "data": {
            "text/plain": [
              "returns_Vanguard_S&P_500_ETF    0.008977\n",
              "dtype: float64"
            ]
          },
          "metadata": {
            "tags": []
          },
          "execution_count": 85
        }
      ]
    },
    {
      "cell_type": "code",
      "metadata": {
        "id": "okrZLz3C_0ud",
        "colab_type": "code",
        "outputId": "dfc3d3aa-6b37-42c1-e9a3-aa4681307eb4",
        "colab": {
          "base_uri": "https://localhost:8080/",
          "height": 34
        }
      },
      "source": [
        "returns.shape"
      ],
      "execution_count": 86,
      "outputs": [
        {
          "output_type": "execute_result",
          "data": {
            "text/plain": [
              "(2343, 1)"
            ]
          },
          "metadata": {
            "tags": []
          },
          "execution_count": 86
        }
      ]
    },
    {
      "cell_type": "code",
      "metadata": {
        "id": "U9fikWD2_4B0",
        "colab_type": "code",
        "outputId": "63969d9e-ca47-4c0d-f1af-634004cca4f7",
        "colab": {
          "base_uri": "https://localhost:8080/",
          "height": 51
        }
      },
      "source": [
        "number_of_obs = returns.shape[0]\n",
        "mean_squared_deviations = squared_deviations.sum()/(number_of_obs-1)\n",
        "volatility = np.sqrt(mean_squared_deviations)\n",
        "volatility"
      ],
      "execution_count": 87,
      "outputs": [
        {
          "output_type": "execute_result",
          "data": {
            "text/plain": [
              "returns_Vanguard_S&P_500_ETF    0.008977\n",
              "dtype: float64"
            ]
          },
          "metadata": {
            "tags": []
          },
          "execution_count": 87
        }
      ]
    },
    {
      "cell_type": "code",
      "metadata": {
        "id": "q5TP2CXQ_7fk",
        "colab_type": "code",
        "outputId": "eebd4085-e081-4b6b-e6df-7e86e9818870",
        "colab": {
          "base_uri": "https://localhost:8080/",
          "height": 51
        }
      },
      "source": [
        "returns.std()"
      ],
      "execution_count": 88,
      "outputs": [
        {
          "output_type": "execute_result",
          "data": {
            "text/plain": [
              "returns_Vanguard_S&P_500_ETF    0.008977\n",
              "dtype: float64"
            ]
          },
          "metadata": {
            "tags": []
          },
          "execution_count": 88
        }
      ]
    },
    {
      "cell_type": "markdown",
      "metadata": {
        "id": "4UGoMQc3AEam",
        "colab_type": "text"
      },
      "source": [
        "## Annualizing Volatility\n",
        "\n",
        "We annualize volatility by scaling (multiplying) it by the square root of the number of periods per observation\n",
        "\n",
        "Therefore, to annualize the volatility of a monthly series, we muiltiply it by the square root of 12. Instead of using the `np.sqrt()` we can raise it to the power of $0.5$"
      ]
    },
    {
      "cell_type": "code",
      "metadata": {
        "id": "NSiAP9TI_-hD",
        "colab_type": "code",
        "outputId": "25ccf5a1-683b-4bb4-bcf6-d2f15f6a997e",
        "colab": {
          "base_uri": "https://localhost:8080/",
          "height": 51
        }
      },
      "source": [
        "annualized_vol = returns.std()*(12**0.5)\n",
        "annualized_vol"
      ],
      "execution_count": 89,
      "outputs": [
        {
          "output_type": "execute_result",
          "data": {
            "text/plain": [
              "returns_Vanguard_S&P_500_ETF    0.031099\n",
              "dtype: float64"
            ]
          },
          "metadata": {
            "tags": []
          },
          "execution_count": 89
        }
      ]
    },
    {
      "cell_type": "markdown",
      "metadata": {
        "id": "GGlUKM8kWfoT",
        "colab_type": "text"
      },
      "source": [
        "#Risk Adjusted Returns"
      ]
    },
    {
      "cell_type": "markdown",
      "metadata": {
        "id": "2l6rd8pExXiu",
        "colab_type": "text"
      },
      "source": [
        "## Import_data"
      ]
    },
    {
      "cell_type": "code",
      "metadata": {
        "id": "k4bMyXcPAHSI",
        "colab_type": "code",
        "colab": {}
      },
      "source": [
        "from pandas_datareader import data as pdr\n",
        "\n",
        "import fix_yahoo_finance as yf\n",
        "yf.pdr_override() # <== that's all it takes :-)"
      ],
      "execution_count": 0,
      "outputs": []
    },
    {
      "cell_type": "markdown",
      "metadata": {
        "id": "bdrKaSLcxniC",
        "colab_type": "text"
      },
      "source": [
        "#### data_1 Large-Cap"
      ]
    },
    {
      "cell_type": "code",
      "metadata": {
        "id": "-tWEq288xd2O",
        "colab_type": "code",
        "colab": {
          "base_uri": "https://localhost:8080/",
          "height": 34
        },
        "outputId": "e58a600c-cdd5-4f70-abd2-1707f2c9df05"
      },
      "source": [
        "# ===========\n",
        "today = \"2020-01-01\"  # to make static this script.\n",
        "tckr = 'VV'  \n",
        "# download data\n",
        "data_1 = pdr.get_data_yahoo(tckr, \"2010-01-01\", today)\n",
        "# add frequency needed for some pandas functionalities releated with offsets\n",
        "data_1 = data_1.asfreq('B')  \n",
        "data_1.columns = data_1.columns.map(lambda col: col.lower())"
      ],
      "execution_count": 91,
      "outputs": [
        {
          "output_type": "stream",
          "text": [
            "[*********************100%***********************]  1 of 1 downloaded\n"
          ],
          "name": "stdout"
        }
      ]
    },
    {
      "cell_type": "code",
      "metadata": {
        "id": "HyI4k-VSySQj",
        "colab_type": "code",
        "colab": {
          "base_uri": "https://localhost:8080/",
          "height": 235
        },
        "outputId": "431aadef-869a-4379-8653-bdbd0aa92ac9"
      },
      "source": [
        "data_1.head(5)"
      ],
      "execution_count": 92,
      "outputs": [
        {
          "output_type": "execute_result",
          "data": {
            "text/html": [
              "<div>\n",
              "<style scoped>\n",
              "    .dataframe tbody tr th:only-of-type {\n",
              "        vertical-align: middle;\n",
              "    }\n",
              "\n",
              "    .dataframe tbody tr th {\n",
              "        vertical-align: top;\n",
              "    }\n",
              "\n",
              "    .dataframe thead th {\n",
              "        text-align: right;\n",
              "    }\n",
              "</style>\n",
              "<table border=\"1\" class=\"dataframe\">\n",
              "  <thead>\n",
              "    <tr style=\"text-align: right;\">\n",
              "      <th></th>\n",
              "      <th>open</th>\n",
              "      <th>high</th>\n",
              "      <th>low</th>\n",
              "      <th>close</th>\n",
              "      <th>adj close</th>\n",
              "      <th>volume</th>\n",
              "    </tr>\n",
              "    <tr>\n",
              "      <th>Date</th>\n",
              "      <th></th>\n",
              "      <th></th>\n",
              "      <th></th>\n",
              "      <th></th>\n",
              "      <th></th>\n",
              "      <th></th>\n",
              "    </tr>\n",
              "  </thead>\n",
              "  <tbody>\n",
              "    <tr>\n",
              "      <th>2010-01-04</th>\n",
              "      <td>51.119999</td>\n",
              "      <td>51.520000</td>\n",
              "      <td>51.070000</td>\n",
              "      <td>51.480000</td>\n",
              "      <td>42.083466</td>\n",
              "      <td>180300.0</td>\n",
              "    </tr>\n",
              "    <tr>\n",
              "      <th>2010-01-05</th>\n",
              "      <td>51.509998</td>\n",
              "      <td>51.689999</td>\n",
              "      <td>51.360001</td>\n",
              "      <td>51.669998</td>\n",
              "      <td>42.238789</td>\n",
              "      <td>210700.0</td>\n",
              "    </tr>\n",
              "    <tr>\n",
              "      <th>2010-01-06</th>\n",
              "      <td>51.630001</td>\n",
              "      <td>51.830002</td>\n",
              "      <td>51.580002</td>\n",
              "      <td>51.740002</td>\n",
              "      <td>42.296024</td>\n",
              "      <td>207600.0</td>\n",
              "    </tr>\n",
              "    <tr>\n",
              "      <th>2010-01-07</th>\n",
              "      <td>51.669998</td>\n",
              "      <td>51.970001</td>\n",
              "      <td>51.470001</td>\n",
              "      <td>51.939999</td>\n",
              "      <td>42.459515</td>\n",
              "      <td>152800.0</td>\n",
              "    </tr>\n",
              "    <tr>\n",
              "      <th>2010-01-08</th>\n",
              "      <td>51.720001</td>\n",
              "      <td>52.110001</td>\n",
              "      <td>51.680000</td>\n",
              "      <td>52.080002</td>\n",
              "      <td>42.573963</td>\n",
              "      <td>117200.0</td>\n",
              "    </tr>\n",
              "  </tbody>\n",
              "</table>\n",
              "</div>"
            ],
            "text/plain": [
              "                 open       high        low      close  adj close    volume\n",
              "Date                                                                       \n",
              "2010-01-04  51.119999  51.520000  51.070000  51.480000  42.083466  180300.0\n",
              "2010-01-05  51.509998  51.689999  51.360001  51.669998  42.238789  210700.0\n",
              "2010-01-06  51.630001  51.830002  51.580002  51.740002  42.296024  207600.0\n",
              "2010-01-07  51.669998  51.970001  51.470001  51.939999  42.459515  152800.0\n",
              "2010-01-08  51.720001  52.110001  51.680000  52.080002  42.573963  117200.0"
            ]
          },
          "metadata": {
            "tags": []
          },
          "execution_count": 92
        }
      ]
    },
    {
      "cell_type": "code",
      "metadata": {
        "id": "Qw_M0JMhyn4g",
        "colab_type": "code",
        "colab": {
          "base_uri": "https://localhost:8080/",
          "height": 235
        },
        "outputId": "361d619f-6591-4b18-869b-4eb03fc25159"
      },
      "source": [
        "prices_1 = data_1[['close']]\n",
        "prices_1 = prices_1.dropna()\n",
        "\n",
        "prices_1.head()"
      ],
      "execution_count": 93,
      "outputs": [
        {
          "output_type": "execute_result",
          "data": {
            "text/html": [
              "<div>\n",
              "<style scoped>\n",
              "    .dataframe tbody tr th:only-of-type {\n",
              "        vertical-align: middle;\n",
              "    }\n",
              "\n",
              "    .dataframe tbody tr th {\n",
              "        vertical-align: top;\n",
              "    }\n",
              "\n",
              "    .dataframe thead th {\n",
              "        text-align: right;\n",
              "    }\n",
              "</style>\n",
              "<table border=\"1\" class=\"dataframe\">\n",
              "  <thead>\n",
              "    <tr style=\"text-align: right;\">\n",
              "      <th></th>\n",
              "      <th>close</th>\n",
              "    </tr>\n",
              "    <tr>\n",
              "      <th>Date</th>\n",
              "      <th></th>\n",
              "    </tr>\n",
              "  </thead>\n",
              "  <tbody>\n",
              "    <tr>\n",
              "      <th>2010-01-04</th>\n",
              "      <td>51.480000</td>\n",
              "    </tr>\n",
              "    <tr>\n",
              "      <th>2010-01-05</th>\n",
              "      <td>51.669998</td>\n",
              "    </tr>\n",
              "    <tr>\n",
              "      <th>2010-01-06</th>\n",
              "      <td>51.740002</td>\n",
              "    </tr>\n",
              "    <tr>\n",
              "      <th>2010-01-07</th>\n",
              "      <td>51.939999</td>\n",
              "    </tr>\n",
              "    <tr>\n",
              "      <th>2010-01-08</th>\n",
              "      <td>52.080002</td>\n",
              "    </tr>\n",
              "  </tbody>\n",
              "</table>\n",
              "</div>"
            ],
            "text/plain": [
              "                close\n",
              "Date                 \n",
              "2010-01-04  51.480000\n",
              "2010-01-05  51.669998\n",
              "2010-01-06  51.740002\n",
              "2010-01-07  51.939999\n",
              "2010-01-08  52.080002"
            ]
          },
          "metadata": {
            "tags": []
          },
          "execution_count": 93
        }
      ]
    },
    {
      "cell_type": "code",
      "metadata": {
        "id": "zdHJuF6NzHJ4",
        "colab_type": "code",
        "colab": {
          "base_uri": "https://localhost:8080/",
          "height": 235
        },
        "outputId": "899e6c33-9cdf-4e88-9ab3-74f8562a3a94"
      },
      "source": [
        "returns_1 = prices_1.pct_change()\n",
        "returns_1 = returns_1.dropna()\n",
        "\n",
        "returns_1.rename(columns={'close':'returns_Vanguard_US_Large-Cap'},inplace=True)\n",
        "\n",
        "returns_1.tail()"
      ],
      "execution_count": 94,
      "outputs": [
        {
          "output_type": "execute_result",
          "data": {
            "text/html": [
              "<div>\n",
              "<style scoped>\n",
              "    .dataframe tbody tr th:only-of-type {\n",
              "        vertical-align: middle;\n",
              "    }\n",
              "\n",
              "    .dataframe tbody tr th {\n",
              "        vertical-align: top;\n",
              "    }\n",
              "\n",
              "    .dataframe thead th {\n",
              "        text-align: right;\n",
              "    }\n",
              "</style>\n",
              "<table border=\"1\" class=\"dataframe\">\n",
              "  <thead>\n",
              "    <tr style=\"text-align: right;\">\n",
              "      <th></th>\n",
              "      <th>returns_Vanguard_US_Large-Cap</th>\n",
              "    </tr>\n",
              "    <tr>\n",
              "      <th>Date</th>\n",
              "      <th></th>\n",
              "    </tr>\n",
              "  </thead>\n",
              "  <tbody>\n",
              "    <tr>\n",
              "      <th>2019-12-24</th>\n",
              "      <td>-0.004855</td>\n",
              "    </tr>\n",
              "    <tr>\n",
              "      <th>2019-12-26</th>\n",
              "      <td>0.004878</td>\n",
              "    </tr>\n",
              "    <tr>\n",
              "      <th>2019-12-27</th>\n",
              "      <td>-0.000337</td>\n",
              "    </tr>\n",
              "    <tr>\n",
              "      <th>2019-12-30</th>\n",
              "      <td>-0.005531</td>\n",
              "    </tr>\n",
              "    <tr>\n",
              "      <th>2019-12-31</th>\n",
              "      <td>0.002713</td>\n",
              "    </tr>\n",
              "  </tbody>\n",
              "</table>\n",
              "</div>"
            ],
            "text/plain": [
              "            returns_Vanguard_US_Large-Cap\n",
              "Date                                     \n",
              "2019-12-24                      -0.004855\n",
              "2019-12-26                       0.004878\n",
              "2019-12-27                      -0.000337\n",
              "2019-12-30                      -0.005531\n",
              "2019-12-31                       0.002713"
            ]
          },
          "metadata": {
            "tags": []
          },
          "execution_count": 94
        }
      ]
    },
    {
      "cell_type": "markdown",
      "metadata": {
        "id": "EPWFbAwVxvFZ",
        "colab_type": "text"
      },
      "source": [
        "#### data_2_small_cap"
      ]
    },
    {
      "cell_type": "code",
      "metadata": {
        "id": "7-QRUuvzxutj",
        "colab_type": "code",
        "colab": {
          "base_uri": "https://localhost:8080/",
          "height": 34
        },
        "outputId": "59caca9f-edbf-4e92-a969-a45059258d71"
      },
      "source": [
        "# ===========\n",
        "today = \"2020-01-01\"  # to make static this script.\n",
        "tckr = 'VB'  \n",
        "# download data\n",
        "data_2 = pdr.get_data_yahoo(tckr, \"2010-01-01\", today)\n",
        "# add frequency needed for some pandas functionalities releated with offsets\n",
        "data_2 = data_2.asfreq('B')  \n",
        "data_2.columns = data_2.columns.map(lambda col: col.lower())"
      ],
      "execution_count": 95,
      "outputs": [
        {
          "output_type": "stream",
          "text": [
            "[*********************100%***********************]  1 of 1 downloaded\n"
          ],
          "name": "stdout"
        }
      ]
    },
    {
      "cell_type": "code",
      "metadata": {
        "id": "DhOHjNo2xgnC",
        "colab_type": "code",
        "colab": {
          "base_uri": "https://localhost:8080/",
          "height": 235
        },
        "outputId": "4ccc034e-404f-4646-ea9e-95a1f6c4189b"
      },
      "source": [
        "data_2.head(5)"
      ],
      "execution_count": 96,
      "outputs": [
        {
          "output_type": "execute_result",
          "data": {
            "text/html": [
              "<div>\n",
              "<style scoped>\n",
              "    .dataframe tbody tr th:only-of-type {\n",
              "        vertical-align: middle;\n",
              "    }\n",
              "\n",
              "    .dataframe tbody tr th {\n",
              "        vertical-align: top;\n",
              "    }\n",
              "\n",
              "    .dataframe thead th {\n",
              "        text-align: right;\n",
              "    }\n",
              "</style>\n",
              "<table border=\"1\" class=\"dataframe\">\n",
              "  <thead>\n",
              "    <tr style=\"text-align: right;\">\n",
              "      <th></th>\n",
              "      <th>open</th>\n",
              "      <th>high</th>\n",
              "      <th>low</th>\n",
              "      <th>close</th>\n",
              "      <th>adj close</th>\n",
              "      <th>volume</th>\n",
              "    </tr>\n",
              "    <tr>\n",
              "      <th>Date</th>\n",
              "      <th></th>\n",
              "      <th></th>\n",
              "      <th></th>\n",
              "      <th></th>\n",
              "      <th></th>\n",
              "      <th></th>\n",
              "    </tr>\n",
              "  </thead>\n",
              "  <tbody>\n",
              "    <tr>\n",
              "      <th>2010-01-04</th>\n",
              "      <td>58.160000</td>\n",
              "      <td>58.689999</td>\n",
              "      <td>57.990002</td>\n",
              "      <td>58.599998</td>\n",
              "      <td>50.489262</td>\n",
              "      <td>353900.0</td>\n",
              "    </tr>\n",
              "    <tr>\n",
              "      <th>2010-01-05</th>\n",
              "      <td>58.639999</td>\n",
              "      <td>58.900002</td>\n",
              "      <td>58.330002</td>\n",
              "      <td>58.779999</td>\n",
              "      <td>50.644363</td>\n",
              "      <td>395900.0</td>\n",
              "    </tr>\n",
              "    <tr>\n",
              "      <th>2010-01-06</th>\n",
              "      <td>58.709999</td>\n",
              "      <td>59.009998</td>\n",
              "      <td>58.669998</td>\n",
              "      <td>58.820000</td>\n",
              "      <td>50.678822</td>\n",
              "      <td>363800.0</td>\n",
              "    </tr>\n",
              "    <tr>\n",
              "      <th>2010-01-07</th>\n",
              "      <td>58.740002</td>\n",
              "      <td>59.240002</td>\n",
              "      <td>58.310001</td>\n",
              "      <td>59.099998</td>\n",
              "      <td>50.920067</td>\n",
              "      <td>202900.0</td>\n",
              "    </tr>\n",
              "    <tr>\n",
              "      <th>2010-01-08</th>\n",
              "      <td>59.060001</td>\n",
              "      <td>59.540001</td>\n",
              "      <td>58.880001</td>\n",
              "      <td>59.540001</td>\n",
              "      <td>51.299171</td>\n",
              "      <td>469700.0</td>\n",
              "    </tr>\n",
              "  </tbody>\n",
              "</table>\n",
              "</div>"
            ],
            "text/plain": [
              "                 open       high        low      close  adj close    volume\n",
              "Date                                                                       \n",
              "2010-01-04  58.160000  58.689999  57.990002  58.599998  50.489262  353900.0\n",
              "2010-01-05  58.639999  58.900002  58.330002  58.779999  50.644363  395900.0\n",
              "2010-01-06  58.709999  59.009998  58.669998  58.820000  50.678822  363800.0\n",
              "2010-01-07  58.740002  59.240002  58.310001  59.099998  50.920067  202900.0\n",
              "2010-01-08  59.060001  59.540001  58.880001  59.540001  51.299171  469700.0"
            ]
          },
          "metadata": {
            "tags": []
          },
          "execution_count": 96
        }
      ]
    },
    {
      "cell_type": "code",
      "metadata": {
        "id": "QUHpQA690Pz8",
        "colab_type": "code",
        "colab": {
          "base_uri": "https://localhost:8080/",
          "height": 235
        },
        "outputId": "53f931fa-942c-4a73-e15f-97164fb2b6bf"
      },
      "source": [
        "prices_2 = data_2[['close']]\n",
        "prices_2 = prices_2.dropna()\n",
        "prices_2.head()"
      ],
      "execution_count": 97,
      "outputs": [
        {
          "output_type": "execute_result",
          "data": {
            "text/html": [
              "<div>\n",
              "<style scoped>\n",
              "    .dataframe tbody tr th:only-of-type {\n",
              "        vertical-align: middle;\n",
              "    }\n",
              "\n",
              "    .dataframe tbody tr th {\n",
              "        vertical-align: top;\n",
              "    }\n",
              "\n",
              "    .dataframe thead th {\n",
              "        text-align: right;\n",
              "    }\n",
              "</style>\n",
              "<table border=\"1\" class=\"dataframe\">\n",
              "  <thead>\n",
              "    <tr style=\"text-align: right;\">\n",
              "      <th></th>\n",
              "      <th>close</th>\n",
              "    </tr>\n",
              "    <tr>\n",
              "      <th>Date</th>\n",
              "      <th></th>\n",
              "    </tr>\n",
              "  </thead>\n",
              "  <tbody>\n",
              "    <tr>\n",
              "      <th>2010-01-04</th>\n",
              "      <td>58.599998</td>\n",
              "    </tr>\n",
              "    <tr>\n",
              "      <th>2010-01-05</th>\n",
              "      <td>58.779999</td>\n",
              "    </tr>\n",
              "    <tr>\n",
              "      <th>2010-01-06</th>\n",
              "      <td>58.820000</td>\n",
              "    </tr>\n",
              "    <tr>\n",
              "      <th>2010-01-07</th>\n",
              "      <td>59.099998</td>\n",
              "    </tr>\n",
              "    <tr>\n",
              "      <th>2010-01-08</th>\n",
              "      <td>59.540001</td>\n",
              "    </tr>\n",
              "  </tbody>\n",
              "</table>\n",
              "</div>"
            ],
            "text/plain": [
              "                close\n",
              "Date                 \n",
              "2010-01-04  58.599998\n",
              "2010-01-05  58.779999\n",
              "2010-01-06  58.820000\n",
              "2010-01-07  59.099998\n",
              "2010-01-08  59.540001"
            ]
          },
          "metadata": {
            "tags": []
          },
          "execution_count": 97
        }
      ]
    },
    {
      "cell_type": "code",
      "metadata": {
        "id": "6QrwoqwO0Yqw",
        "colab_type": "code",
        "colab": {
          "base_uri": "https://localhost:8080/",
          "height": 235
        },
        "outputId": "e7d752d1-74f3-4ff5-fcf9-097ab4e36093"
      },
      "source": [
        "returns_2 = prices_2.pct_change()\n",
        "returns_2 = returns_2.dropna()\n",
        "\n",
        "returns_2.rename(columns={'close':'returns_Vanguard_US_Small-Cap'},inplace=True)\n",
        "\n",
        "returns_2.tail()"
      ],
      "execution_count": 98,
      "outputs": [
        {
          "output_type": "execute_result",
          "data": {
            "text/html": [
              "<div>\n",
              "<style scoped>\n",
              "    .dataframe tbody tr th:only-of-type {\n",
              "        vertical-align: middle;\n",
              "    }\n",
              "\n",
              "    .dataframe tbody tr th {\n",
              "        vertical-align: top;\n",
              "    }\n",
              "\n",
              "    .dataframe thead th {\n",
              "        text-align: right;\n",
              "    }\n",
              "</style>\n",
              "<table border=\"1\" class=\"dataframe\">\n",
              "  <thead>\n",
              "    <tr style=\"text-align: right;\">\n",
              "      <th></th>\n",
              "      <th>returns_Vanguard_US_Small-Cap</th>\n",
              "    </tr>\n",
              "    <tr>\n",
              "      <th>Date</th>\n",
              "      <th></th>\n",
              "    </tr>\n",
              "  </thead>\n",
              "  <tbody>\n",
              "    <tr>\n",
              "      <th>2019-12-24</th>\n",
              "      <td>-0.004558</td>\n",
              "    </tr>\n",
              "    <tr>\n",
              "      <th>2019-12-26</th>\n",
              "      <td>0.001747</td>\n",
              "    </tr>\n",
              "    <tr>\n",
              "      <th>2019-12-27</th>\n",
              "      <td>-0.003067</td>\n",
              "    </tr>\n",
              "    <tr>\n",
              "      <th>2019-12-30</th>\n",
              "      <td>-0.003016</td>\n",
              "    </tr>\n",
              "    <tr>\n",
              "      <th>2019-12-31</th>\n",
              "      <td>0.002299</td>\n",
              "    </tr>\n",
              "  </tbody>\n",
              "</table>\n",
              "</div>"
            ],
            "text/plain": [
              "            returns_Vanguard_US_Small-Cap\n",
              "Date                                     \n",
              "2019-12-24                      -0.004558\n",
              "2019-12-26                       0.001747\n",
              "2019-12-27                      -0.003067\n",
              "2019-12-30                      -0.003016\n",
              "2019-12-31                       0.002299"
            ]
          },
          "metadata": {
            "tags": []
          },
          "execution_count": 98
        }
      ]
    },
    {
      "cell_type": "markdown",
      "metadata": {
        "id": "etbhjnwV0jeR",
        "colab_type": "text"
      },
      "source": [
        "#### รวมข้อมูล"
      ]
    },
    {
      "cell_type": "code",
      "metadata": {
        "id": "x6K7_5BE0ixh",
        "colab_type": "code",
        "colab": {
          "base_uri": "https://localhost:8080/",
          "height": 286
        },
        "outputId": "4f659944-850c-4ca6-cd36-ada60573b5c5"
      },
      "source": [
        "return_join = pd.merge(returns_1, returns_2, on='Date', how=\"outer\")\n",
        "\n",
        "return_join.plot()"
      ],
      "execution_count": 99,
      "outputs": [
        {
          "output_type": "execute_result",
          "data": {
            "text/plain": [
              "<matplotlib.axes._subplots.AxesSubplot at 0x7f43d5e5af98>"
            ]
          },
          "metadata": {
            "tags": []
          },
          "execution_count": 99
        },
        {
          "output_type": "display_data",
          "data": {
            "image/png": "[encoded data removed]",
            "text/plain": [
              "<Figure size 432x288 with 1 Axes>"
            ]
          },
          "metadata": {
            "tags": []
          }
        }
      ]
    },
    {
      "cell_type": "code",
      "metadata": {
        "id": "fkh5xwFe1j1t",
        "colab_type": "code",
        "colab": {
          "base_uri": "https://localhost:8080/",
          "height": 68
        },
        "outputId": "d0b97a98-6d7b-45c5-c936-3e6370756a64"
      },
      "source": [
        "annualized_vol = return_join.std()*np.sqrt(12)\n",
        "annualized_vol"
      ],
      "execution_count": 100,
      "outputs": [
        {
          "output_type": "execute_result",
          "data": {
            "text/plain": [
              "returns_Vanguard_US_Large-Cap    0.032367\n",
              "returns_Vanguard_US_Small-Cap    0.039425\n",
              "dtype: float64"
            ]
          },
          "metadata": {
            "tags": []
          },
          "execution_count": 100
        }
      ]
    },
    {
      "cell_type": "markdown",
      "metadata": {
        "id": "8DNP76i12-II",
        "colab_type": "text"
      },
      "source": [
        "compute the annualized returns as follows:"
      ]
    },
    {
      "cell_type": "code",
      "metadata": {
        "id": "wOfYrTnw2sdA",
        "colab_type": "code",
        "colab": {
          "base_uri": "https://localhost:8080/",
          "height": 68
        },
        "outputId": "388da569-b554-43c7-a9d1-5956d344239a"
      },
      "source": [
        "n_months = return_join.shape[0]\n",
        "return_per_month = (return_join+1).prod()**(1/n_months) - 1\n",
        "return_per_month"
      ],
      "execution_count": 101,
      "outputs": [
        {
          "output_type": "execute_result",
          "data": {
            "text/plain": [
              "returns_Vanguard_US_Large-Cap    0.000420\n",
              "returns_Vanguard_US_Small-Cap    0.000413\n",
              "dtype: float64"
            ]
          },
          "metadata": {
            "tags": []
          },
          "execution_count": 101
        }
      ]
    },
    {
      "cell_type": "code",
      "metadata": {
        "id": "IOUcQ05U3Blv",
        "colab_type": "code",
        "colab": {
          "base_uri": "https://localhost:8080/",
          "height": 68
        },
        "outputId": "4dc68cc0-8134-4d1a-9aa6-1ee43c2cd846"
      },
      "source": [
        "annualized_return = (return_per_month + 1)**12-1\n",
        "\n",
        "annualized_return = (return_join+1).prod()**(12/n_months) - 1\n",
        "annualized_return"
      ],
      "execution_count": 102,
      "outputs": [
        {
          "output_type": "execute_result",
          "data": {
            "text/plain": [
              "returns_Vanguard_US_Large-Cap    0.005046\n",
              "returns_Vanguard_US_Small-Cap    0.004970\n",
              "dtype: float64"
            ]
          },
          "metadata": {
            "tags": []
          },
          "execution_count": 102
        }
      ]
    },
    {
      "cell_type": "code",
      "metadata": {
        "id": "Mo9fLeL-3EzT",
        "colab_type": "code",
        "colab": {
          "base_uri": "https://localhost:8080/",
          "height": 68
        },
        "outputId": "4f6287c6-8bf8-4ab6-b480-23699a7f0025"
      },
      "source": [
        "annualized_return/annualized_vol"
      ],
      "execution_count": 103,
      "outputs": [
        {
          "output_type": "execute_result",
          "data": {
            "text/plain": [
              "returns_Vanguard_US_Large-Cap    0.155907\n",
              "returns_Vanguard_US_Small-Cap    0.126067\n",
              "dtype: float64"
            ]
          },
          "metadata": {
            "tags": []
          },
          "execution_count": 103
        }
      ]
    },
    {
      "cell_type": "code",
      "metadata": {
        "id": "ToP9VB3r3QdP",
        "colab_type": "code",
        "colab": {
          "base_uri": "https://localhost:8080/",
          "height": 68
        },
        "outputId": "d2370b9c-6a58-4972-8ad9-07349be355a4"
      },
      "source": [
        "riskfree_rate = 0.03\n",
        "excess_return = annualized_return - riskfree_rate\n",
        "sharpe_ratio = excess_return/annualized_vol\n",
        "sharpe_ratio"
      ],
      "execution_count": 104,
      "outputs": [
        {
          "output_type": "execute_result",
          "data": {
            "text/plain": [
              "returns_Vanguard_US_Large-Cap   -0.770973\n",
              "returns_Vanguard_US_Small-Cap   -0.634875\n",
              "dtype: float64"
            ]
          },
          "metadata": {
            "tags": []
          },
          "execution_count": 104
        }
      ]
    }
  ]
}