{
  "nbformat": 4,
  "nbformat_minor": 0,
  "metadata": {
    "colab": {
      "name": "ipywidgets.ipynb",
      "provenance": [],
      "authorship_tag": "ABX9TyOBthkpDtYqvl/fBCwo6TsI",
      "include_colab_link": true
    },
    "kernelspec": {
      "name": "python3",
      "display_name": "Python 3"
    },
    "language_info": {
      "name": "python"
    },
    "widgets": {
      "application/vnd.jupyter.widget-state+json": {
        "e27bad9115f94b638b2f9cdd3085d8ea": {
          "model_module": "@jupyter-widgets/controls",
          "model_name": "IntSliderModel",
          "state": {
            "_view_name": "IntSliderView",
            "style": "IPY_MODEL_9622f9b4e8684ee1a49d849ce6878cde",
            "_dom_classes": [],
            "description": "",
            "step": 1,
            "_model_name": "IntSliderModel",
            "orientation": "horizontal",
            "max": 100,
            "_view_module": "@jupyter-widgets/controls",
            "_model_module_version": "1.5.0",
            "value": 0,
            "_view_count": null,
            "disabled": false,
            "_view_module_version": "1.5.0",
            "min": 0,
            "continuous_update": true,
            "readout_format": "d",
            "description_tooltip": null,
            "readout": true,
            "_model_module": "@jupyter-widgets/controls",
            "layout": "IPY_MODEL_84ad964cdd834294a945d8ac2cd7a02b"
          }
        },
        "9622f9b4e8684ee1a49d849ce6878cde": {
          "model_module": "@jupyter-widgets/controls",
          "model_name": "SliderStyleModel",
          "state": {
            "_view_name": "StyleView",
            "handle_color": null,
            "_model_name": "SliderStyleModel",
            "description_width": "",
            "_view_module": "@jupyter-widgets/base",
            "_model_module_version": "1.5.0",
            "_view_count": null,
            "_view_module_version": "1.2.0",
            "_model_module": "@jupyter-widgets/controls"
          }
        },
        "84ad964cdd834294a945d8ac2cd7a02b": {
          "model_module": "@jupyter-widgets/base",
          "model_name": "LayoutModel",
          "state": {
            "_view_name": "LayoutView",
            "grid_template_rows": null,
            "right": null,
            "justify_content": null,
            "_view_module": "@jupyter-widgets/base",
            "overflow": null,
            "_model_module_version": "1.2.0",
            "_view_count": null,
            "flex_flow": null,
            "width": null,
            "min_width": null,
            "border": null,
            "align_items": null,
            "bottom": null,
            "_model_module": "@jupyter-widgets/base",
            "top": null,
            "grid_column": null,
            "overflow_y": null,
            "overflow_x": null,
            "grid_auto_flow": null,
            "grid_area": null,
            "grid_template_columns": null,
            "flex": null,
            "_model_name": "LayoutModel",
            "justify_items": null,
            "grid_row": null,
            "max_height": null,
            "align_content": null,
            "visibility": null,
            "align_self": null,
            "height": null,
            "min_height": null,
            "padding": null,
            "grid_auto_rows": null,
            "grid_gap": null,
            "max_width": null,
            "order": null,
            "_view_module_version": "1.2.0",
            "grid_template_areas": null,
            "object_position": null,
            "object_fit": null,
            "grid_auto_columns": null,
            "margin": null,
            "display": null,
            "left": null
          }
        },
        "794a2bd4a2384cd7af06dc6852d1bd51": {
          "model_module": "@jupyter-widgets/controls",
          "model_name": "IntSliderModel",
          "state": {
            "_view_name": "IntSliderView",
            "style": "IPY_MODEL_f793ff02c8324f1899fb96ad9df95b0f",
            "_dom_classes": [],
            "description": "",
            "step": 1,
            "_model_name": "IntSliderModel",
            "orientation": "horizontal",
            "max": 100,
            "_view_module": "@jupyter-widgets/controls",
            "_model_module_version": "1.5.0",
            "value": 46,
            "_view_count": null,
            "disabled": false,
            "_view_module_version": "1.5.0",
            "min": 0,
            "continuous_update": true,
            "readout_format": "d",
            "description_tooltip": null,
            "readout": true,
            "_model_module": "@jupyter-widgets/controls",
            "layout": "IPY_MODEL_fa4e976b0ebd45b78001cca60cec7644"
          }
        },
        "f793ff02c8324f1899fb96ad9df95b0f": {
          "model_module": "@jupyter-widgets/controls",
          "model_name": "SliderStyleModel",
          "state": {
            "_view_name": "StyleView",
            "handle_color": null,
            "_model_name": "SliderStyleModel",
            "description_width": "",
            "_view_module": "@jupyter-widgets/base",
            "_model_module_version": "1.5.0",
            "_view_count": null,
            "_view_module_version": "1.2.0",
            "_model_module": "@jupyter-widgets/controls"
          }
        },
        "fa4e976b0ebd45b78001cca60cec7644": {
          "model_module": "@jupyter-widgets/base",
          "model_name": "LayoutModel",
          "state": {
            "_view_name": "LayoutView",
            "grid_template_rows": null,
            "right": null,
            "justify_content": null,
            "_view_module": "@jupyter-widgets/base",
            "overflow": null,
            "_model_module_version": "1.2.0",
            "_view_count": null,
            "flex_flow": null,
            "width": null,
            "min_width": null,
            "border": null,
            "align_items": null,
            "bottom": null,
            "_model_module": "@jupyter-widgets/base",
            "top": null,
            "grid_column": null,
            "overflow_y": null,
            "overflow_x": null,
            "grid_auto_flow": null,
            "grid_area": null,
            "grid_template_columns": null,
            "flex": null,
            "_model_name": "LayoutModel",
            "justify_items": null,
            "grid_row": null,
            "max_height": null,
            "align_content": null,
            "visibility": null,
            "align_self": null,
            "height": null,
            "min_height": null,
            "padding": null,
            "grid_auto_rows": null,
            "grid_gap": null,
            "max_width": null,
            "order": null,
            "_view_module_version": "1.2.0",
            "grid_template_areas": null,
            "object_position": null,
            "object_fit": null,
            "grid_auto_columns": null,
            "margin": null,
            "display": null,
            "left": null
          }
        },
        "7b5da48c15484c6aa01b274e1766bae3": {
          "model_module": "@jupyter-widgets/controls",
          "model_name": "IntSliderModel",
          "state": {
            "_view_name": "IntSliderView",
            "style": "IPY_MODEL_b73b6f71ca4e47d583e2d7e6405c7137",
            "_dom_classes": [],
            "description": "",
            "step": 1,
            "_model_name": "IntSliderModel",
            "orientation": "horizontal",
            "max": 10,
            "_view_module": "@jupyter-widgets/controls",
            "_model_module_version": "1.5.0",
            "value": 7,
            "_view_count": null,
            "disabled": false,
            "_view_module_version": "1.5.0",
            "min": 0,
            "continuous_update": true,
            "readout_format": "d",
            "description_tooltip": null,
            "readout": true,
            "_model_module": "@jupyter-widgets/controls",
            "layout": "IPY_MODEL_a8332660c300402b91b422dd8c4b30e8"
          }
        },
        "b73b6f71ca4e47d583e2d7e6405c7137": {
          "model_module": "@jupyter-widgets/controls",
          "model_name": "SliderStyleModel",
          "state": {
            "_view_name": "StyleView",
            "handle_color": null,
            "_model_name": "SliderStyleModel",
            "description_width": "",
            "_view_module": "@jupyter-widgets/base",
            "_model_module_version": "1.5.0",
            "_view_count": null,
            "_view_module_version": "1.2.0",
            "_model_module": "@jupyter-widgets/controls"
          }
        },
        "a8332660c300402b91b422dd8c4b30e8": {
          "model_module": "@jupyter-widgets/base",
          "model_name": "LayoutModel",
          "state": {
            "_view_name": "LayoutView",
            "grid_template_rows": null,
            "right": null,
            "justify_content": null,
            "_view_module": "@jupyter-widgets/base",
            "overflow": null,
            "_model_module_version": "1.2.0",
            "_view_count": null,
            "flex_flow": null,
            "width": null,
            "min_width": null,
            "border": null,
            "align_items": null,
            "bottom": null,
            "_model_module": "@jupyter-widgets/base",
            "top": null,
            "grid_column": null,
            "overflow_y": null,
            "overflow_x": null,
            "grid_auto_flow": null,
            "grid_area": null,
            "grid_template_columns": null,
            "flex": null,
            "_model_name": "LayoutModel",
            "justify_items": null,
            "grid_row": null,
            "max_height": null,
            "align_content": null,
            "visibility": null,
            "align_self": null,
            "height": null,
            "min_height": null,
            "padding": null,
            "grid_auto_rows": null,
            "grid_gap": null,
            "max_width": null,
            "order": null,
            "_view_module_version": "1.2.0",
            "grid_template_areas": null,
            "object_position": null,
            "object_fit": null,
            "grid_auto_columns": null,
            "margin": null,
            "display": null,
            "left": null
          }
        },
        "8381455c1d3d4060b410e21893d50fc6": {
          "model_module": "@jupyter-widgets/controls",
          "model_name": "IntSliderModel",
          "state": {
            "_view_name": "IntSliderView",
            "style": "IPY_MODEL_e082fa886bfc433cb82b9b6280a5355e",
            "_dom_classes": [],
            "description": "Month:",
            "step": 1,
            "_model_name": "IntSliderModel",
            "orientation": "horizontal",
            "max": 12,
            "_view_module": "@jupyter-widgets/controls",
            "_model_module_version": "1.5.0",
            "value": 1,
            "_view_count": null,
            "disabled": false,
            "_view_module_version": "1.5.0",
            "min": 1,
            "continuous_update": true,
            "readout_format": "d",
            "description_tooltip": null,
            "readout": true,
            "_model_module": "@jupyter-widgets/controls",
            "layout": "IPY_MODEL_73aa867fe651474a8fab9296520037f2"
          }
        },
        "e082fa886bfc433cb82b9b6280a5355e": {
          "model_module": "@jupyter-widgets/controls",
          "model_name": "SliderStyleModel",
          "state": {
            "_view_name": "StyleView",
            "handle_color": null,
            "_model_name": "SliderStyleModel",
            "description_width": "",
            "_view_module": "@jupyter-widgets/base",
            "_model_module_version": "1.5.0",
            "_view_count": null,
            "_view_module_version": "1.2.0",
            "_model_module": "@jupyter-widgets/controls"
          }
        },
        "73aa867fe651474a8fab9296520037f2": {
          "model_module": "@jupyter-widgets/base",
          "model_name": "LayoutModel",
          "state": {
            "_view_name": "LayoutView",
            "grid_template_rows": null,
            "right": null,
            "justify_content": null,
            "_view_module": "@jupyter-widgets/base",
            "overflow": null,
            "_model_module_version": "1.2.0",
            "_view_count": null,
            "flex_flow": null,
            "width": null,
            "min_width": null,
            "border": null,
            "align_items": null,
            "bottom": null,
            "_model_module": "@jupyter-widgets/base",
            "top": null,
            "grid_column": null,
            "overflow_y": null,
            "overflow_x": null,
            "grid_auto_flow": null,
            "grid_area": null,
            "grid_template_columns": null,
            "flex": null,
            "_model_name": "LayoutModel",
            "justify_items": null,
            "grid_row": null,
            "max_height": null,
            "align_content": null,
            "visibility": null,
            "align_self": null,
            "height": null,
            "min_height": null,
            "padding": null,
            "grid_auto_rows": null,
            "grid_gap": null,
            "max_width": null,
            "order": null,
            "_view_module_version": "1.2.0",
            "grid_template_areas": null,
            "object_position": null,
            "object_fit": null,
            "grid_auto_columns": null,
            "margin": null,
            "display": null,
            "left": null
          }
        },
        "216a5db0b1f94f898c70dd509a9c7ed3": {
          "model_module": "@jupyter-widgets/controls",
          "model_name": "IntSliderModel",
          "state": {
            "_view_name": "IntSliderView",
            "style": "IPY_MODEL_c4754e3910a24096b046558cfde9ba5d",
            "_dom_classes": [],
            "description": "Month:",
            "step": 1,
            "_model_name": "IntSliderModel",
            "orientation": "vertical",
            "max": 12,
            "_view_module": "@jupyter-widgets/controls",
            "_model_module_version": "1.5.0",
            "value": 6,
            "_view_count": null,
            "disabled": false,
            "_view_module_version": "1.5.0",
            "min": 1,
            "continuous_update": false,
            "readout_format": "d",
            "description_tooltip": null,
            "readout": true,
            "_model_module": "@jupyter-widgets/controls",
            "layout": "IPY_MODEL_8dfd4742718c468b947fdf76f4c9d6dc"
          }
        },
        "c4754e3910a24096b046558cfde9ba5d": {
          "model_module": "@jupyter-widgets/controls",
          "model_name": "SliderStyleModel",
          "state": {
            "_view_name": "StyleView",
            "handle_color": null,
            "_model_name": "SliderStyleModel",
            "description_width": "",
            "_view_module": "@jupyter-widgets/base",
            "_model_module_version": "1.5.0",
            "_view_count": null,
            "_view_module_version": "1.2.0",
            "_model_module": "@jupyter-widgets/controls"
          }
        },
        "8dfd4742718c468b947fdf76f4c9d6dc": {
          "model_module": "@jupyter-widgets/base",
          "model_name": "LayoutModel",
          "state": {
            "_view_name": "LayoutView",
            "grid_template_rows": null,
            "right": null,
            "justify_content": null,
            "_view_module": "@jupyter-widgets/base",
            "overflow": null,
            "_model_module_version": "1.2.0",
            "_view_count": null,
            "flex_flow": null,
            "width": null,
            "min_width": null,
            "border": null,
            "align_items": null,
            "bottom": null,
            "_model_module": "@jupyter-widgets/base",
            "top": null,
            "grid_column": null,
            "overflow_y": null,
            "overflow_x": null,
            "grid_auto_flow": null,
            "grid_area": null,
            "grid_template_columns": null,
            "flex": null,
            "_model_name": "LayoutModel",
            "justify_items": null,
            "grid_row": null,
            "max_height": null,
            "align_content": null,
            "visibility": null,
            "align_self": null,
            "height": null,
            "min_height": null,
            "padding": null,
            "grid_auto_rows": null,
            "grid_gap": null,
            "max_width": null,
            "order": null,
            "_view_module_version": "1.2.0",
            "grid_template_areas": null,
            "object_position": null,
            "object_fit": null,
            "grid_auto_columns": null,
            "margin": null,
            "display": null,
            "left": null
          }
        },
        "896a2115998349c0b7d00a588c2fc27e": {
          "model_module": "@jupyter-widgets/controls",
          "model_name": "IntRangeSliderModel",
          "state": {
            "_view_name": "IntRangeSliderView",
            "style": "IPY_MODEL_5dd792e7a18b4d18ac29adf276509095",
            "_dom_classes": [],
            "description": "Month:",
            "step": 1,
            "_model_name": "IntRangeSliderModel",
            "orientation": "horizontal",
            "max": 12,
            "_view_module": "@jupyter-widgets/controls",
            "_model_module_version": "1.5.0",
            "value": [
              5,
              7
            ],
            "_view_count": null,
            "disabled": false,
            "_view_module_version": "1.5.0",
            "min": 1,
            "continuous_update": false,
            "readout_format": "d",
            "description_tooltip": null,
            "readout": true,
            "_model_module": "@jupyter-widgets/controls",
            "layout": "IPY_MODEL_d7e748fa6252445e818f15236215fec3"
          }
        },
        "5dd792e7a18b4d18ac29adf276509095": {
          "model_module": "@jupyter-widgets/controls",
          "model_name": "SliderStyleModel",
          "state": {
            "_view_name": "StyleView",
            "handle_color": null,
            "_model_name": "SliderStyleModel",
            "description_width": "",
            "_view_module": "@jupyter-widgets/base",
            "_model_module_version": "1.5.0",
            "_view_count": null,
            "_view_module_version": "1.2.0",
            "_model_module": "@jupyter-widgets/controls"
          }
        },
        "d7e748fa6252445e818f15236215fec3": {
          "model_module": "@jupyter-widgets/base",
          "model_name": "LayoutModel",
          "state": {
            "_view_name": "LayoutView",
            "grid_template_rows": null,
            "right": null,
            "justify_content": null,
            "_view_module": "@jupyter-widgets/base",
            "overflow": null,
            "_model_module_version": "1.2.0",
            "_view_count": null,
            "flex_flow": null,
            "width": null,
            "min_width": null,
            "border": null,
            "align_items": null,
            "bottom": null,
            "_model_module": "@jupyter-widgets/base",
            "top": null,
            "grid_column": null,
            "overflow_y": null,
            "overflow_x": null,
            "grid_auto_flow": null,
            "grid_area": null,
            "grid_template_columns": null,
            "flex": null,
            "_model_name": "LayoutModel",
            "justify_items": null,
            "grid_row": null,
            "max_height": null,
            "align_content": null,
            "visibility": null,
            "align_self": null,
            "height": null,
            "min_height": null,
            "padding": null,
            "grid_auto_rows": null,
            "grid_gap": null,
            "max_width": null,
            "order": null,
            "_view_module_version": "1.2.0",
            "grid_template_areas": null,
            "object_position": null,
            "object_fit": null,
            "grid_auto_columns": null,
            "margin": null,
            "display": null,
            "left": null
          }
        },
        "966411ef01e14bafa3d862717fbcdd01": {
          "model_module": "@jupyter-widgets/controls",
          "model_name": "FloatLogSliderModel",
          "state": {
            "_view_name": "FloatLogSliderView",
            "orientation": "horizontal",
            "_view_module": "@jupyter-widgets/controls",
            "_model_module_version": "1.5.0",
            "_view_count": null,
            "disabled": false,
            "readout_format": ".3g",
            "_model_module": "@jupyter-widgets/controls",
            "style": "IPY_MODEL_66c49cca536c4deda26778147b9b4b74",
            "layout": "IPY_MODEL_871ac3c062e447da9fdf02139e606c06",
            "min": -10,
            "continuous_update": true,
            "description_tooltip": null,
            "_dom_classes": [],
            "description": "Log Slider",
            "_model_name": "FloatLogSliderModel",
            "max": 10,
            "readout": true,
            "step": 0.2,
            "base": 10,
            "value": 10000000000,
            "_view_module_version": "1.5.0"
          }
        },
        "66c49cca536c4deda26778147b9b4b74": {
          "model_module": "@jupyter-widgets/controls",
          "model_name": "SliderStyleModel",
          "state": {
            "_view_name": "StyleView",
            "handle_color": null,
            "_model_name": "SliderStyleModel",
            "description_width": "",
            "_view_module": "@jupyter-widgets/base",
            "_model_module_version": "1.5.0",
            "_view_count": null,
            "_view_module_version": "1.2.0",
            "_model_module": "@jupyter-widgets/controls"
          }
        },
        "871ac3c062e447da9fdf02139e606c06": {
          "model_module": "@jupyter-widgets/base",
          "model_name": "LayoutModel",
          "state": {
            "_view_name": "LayoutView",
            "grid_template_rows": null,
            "right": null,
            "justify_content": null,
            "_view_module": "@jupyter-widgets/base",
            "overflow": null,
            "_model_module_version": "1.2.0",
            "_view_count": null,
            "flex_flow": null,
            "width": null,
            "min_width": null,
            "border": null,
            "align_items": null,
            "bottom": null,
            "_model_module": "@jupyter-widgets/base",
            "top": null,
            "grid_column": null,
            "overflow_y": null,
            "overflow_x": null,
            "grid_auto_flow": null,
            "grid_area": null,
            "grid_template_columns": null,
            "flex": null,
            "_model_name": "LayoutModel",
            "justify_items": null,
            "grid_row": null,
            "max_height": null,
            "align_content": null,
            "visibility": null,
            "align_self": null,
            "height": null,
            "min_height": null,
            "padding": null,
            "grid_auto_rows": null,
            "grid_gap": null,
            "max_width": null,
            "order": null,
            "_view_module_version": "1.2.0",
            "grid_template_areas": null,
            "object_position": null,
            "object_fit": null,
            "grid_auto_columns": null,
            "margin": null,
            "display": null,
            "left": null
          }
        },
        "ce2157a6359747928a0631ce993387fb": {
          "model_module": "@jupyter-widgets/controls",
          "model_name": "TextModel",
          "state": {
            "_view_name": "TextView",
            "style": "IPY_MODEL_bdcbd8aa97c14ca8811431b4ffcbd62e",
            "_dom_classes": [],
            "description": "",
            "_model_name": "TextModel",
            "placeholder": "​",
            "_view_module": "@jupyter-widgets/controls",
            "_model_module_version": "1.5.0",
            "value": "",
            "_view_count": null,
            "disabled": false,
            "_view_module_version": "1.5.0",
            "continuous_update": true,
            "description_tooltip": null,
            "_model_module": "@jupyter-widgets/controls",
            "layout": "IPY_MODEL_6e938e9177ec4d1bb85d1e3f464697c8"
          }
        },
        "bdcbd8aa97c14ca8811431b4ffcbd62e": {
          "model_module": "@jupyter-widgets/controls",
          "model_name": "DescriptionStyleModel",
          "state": {
            "_view_name": "StyleView",
            "_model_name": "DescriptionStyleModel",
            "description_width": "",
            "_view_module": "@jupyter-widgets/base",
            "_model_module_version": "1.5.0",
            "_view_count": null,
            "_view_module_version": "1.2.0",
            "_model_module": "@jupyter-widgets/controls"
          }
        },
        "6e938e9177ec4d1bb85d1e3f464697c8": {
          "model_module": "@jupyter-widgets/base",
          "model_name": "LayoutModel",
          "state": {
            "_view_name": "LayoutView",
            "grid_template_rows": null,
            "right": null,
            "justify_content": null,
            "_view_module": "@jupyter-widgets/base",
            "overflow": null,
            "_model_module_version": "1.2.0",
            "_view_count": null,
            "flex_flow": null,
            "width": null,
            "min_width": null,
            "border": null,
            "align_items": null,
            "bottom": null,
            "_model_module": "@jupyter-widgets/base",
            "top": null,
            "grid_column": null,
            "overflow_y": null,
            "overflow_x": null,
            "grid_auto_flow": null,
            "grid_area": null,
            "grid_template_columns": null,
            "flex": null,
            "_model_name": "LayoutModel",
            "justify_items": null,
            "grid_row": null,
            "max_height": null,
            "align_content": null,
            "visibility": null,
            "align_self": null,
            "height": null,
            "min_height": null,
            "padding": null,
            "grid_auto_rows": null,
            "grid_gap": null,
            "max_width": null,
            "order": null,
            "_view_module_version": "1.2.0",
            "grid_template_areas": null,
            "object_position": null,
            "object_fit": null,
            "grid_auto_columns": null,
            "margin": null,
            "display": null,
            "left": null
          }
        },
        "81a94a92acf0481f80520441d7435af6": {
          "model_module": "@jupyter-widgets/controls",
          "model_name": "TextModel",
          "state": {
            "_view_name": "TextView",
            "style": "IPY_MODEL_8480545408734df3a47666d8f62ca100",
            "_dom_classes": [],
            "description": "",
            "_model_name": "TextModel",
            "placeholder": "​",
            "_view_module": "@jupyter-widgets/controls",
            "_model_module_version": "1.5.0",
            "value": "",
            "_view_count": null,
            "disabled": false,
            "_view_module_version": "1.5.0",
            "continuous_update": true,
            "description_tooltip": null,
            "_model_module": "@jupyter-widgets/controls",
            "layout": "IPY_MODEL_5f7a7fddb297459ab8ffd49c048d93f8"
          }
        },
        "8480545408734df3a47666d8f62ca100": {
          "model_module": "@jupyter-widgets/controls",
          "model_name": "DescriptionStyleModel",
          "state": {
            "_view_name": "StyleView",
            "_model_name": "DescriptionStyleModel",
            "description_width": "",
            "_view_module": "@jupyter-widgets/base",
            "_model_module_version": "1.5.0",
            "_view_count": null,
            "_view_module_version": "1.2.0",
            "_model_module": "@jupyter-widgets/controls"
          }
        },
        "5f7a7fddb297459ab8ffd49c048d93f8": {
          "model_module": "@jupyter-widgets/base",
          "model_name": "LayoutModel",
          "state": {
            "_view_name": "LayoutView",
            "grid_template_rows": null,
            "right": null,
            "justify_content": null,
            "_view_module": "@jupyter-widgets/base",
            "overflow": null,
            "_model_module_version": "1.2.0",
            "_view_count": null,
            "flex_flow": null,
            "width": null,
            "min_width": null,
            "border": null,
            "align_items": null,
            "bottom": null,
            "_model_module": "@jupyter-widgets/base",
            "top": null,
            "grid_column": null,
            "overflow_y": null,
            "overflow_x": null,
            "grid_auto_flow": null,
            "grid_area": null,
            "grid_template_columns": null,
            "flex": null,
            "_model_name": "LayoutModel",
            "justify_items": null,
            "grid_row": null,
            "max_height": null,
            "align_content": null,
            "visibility": null,
            "align_self": null,
            "height": null,
            "min_height": null,
            "padding": null,
            "grid_auto_rows": null,
            "grid_gap": null,
            "max_width": null,
            "order": null,
            "_view_module_version": "1.2.0",
            "grid_template_areas": null,
            "object_position": null,
            "object_fit": null,
            "grid_auto_columns": null,
            "margin": null,
            "display": null,
            "left": null
          }
        },
        "96c8852926df494cb367216ca7064564": {
          "model_module": "@jupyter-widgets/controls",
          "model_name": "TextModel",
          "state": {
            "_view_name": "TextView",
            "style": "IPY_MODEL_1b0627f828e1499589ebf768b64a9234",
            "_dom_classes": [],
            "description": "",
            "_model_name": "TextModel",
            "placeholder": "​",
            "_view_module": "@jupyter-widgets/controls",
            "_model_module_version": "1.5.0",
            "value": "Hello World!",
            "_view_count": null,
            "disabled": true,
            "_view_module_version": "1.5.0",
            "continuous_update": true,
            "description_tooltip": null,
            "_model_module": "@jupyter-widgets/controls",
            "layout": "IPY_MODEL_b0963e189b1f43548f3f7bb832c0f68b"
          }
        },
        "1b0627f828e1499589ebf768b64a9234": {
          "model_module": "@jupyter-widgets/controls",
          "model_name": "DescriptionStyleModel",
          "state": {
            "_view_name": "StyleView",
            "_model_name": "DescriptionStyleModel",
            "description_width": "",
            "_view_module": "@jupyter-widgets/base",
            "_model_module_version": "1.5.0",
            "_view_count": null,
            "_view_module_version": "1.2.0",
            "_model_module": "@jupyter-widgets/controls"
          }
        },
        "b0963e189b1f43548f3f7bb832c0f68b": {
          "model_module": "@jupyter-widgets/base",
          "model_name": "LayoutModel",
          "state": {
            "_view_name": "LayoutView",
            "grid_template_rows": null,
            "right": null,
            "justify_content": null,
            "_view_module": "@jupyter-widgets/base",
            "overflow": null,
            "_model_module_version": "1.2.0",
            "_view_count": null,
            "flex_flow": null,
            "width": null,
            "min_width": null,
            "border": null,
            "align_items": null,
            "bottom": null,
            "_model_module": "@jupyter-widgets/base",
            "top": null,
            "grid_column": null,
            "overflow_y": null,
            "overflow_x": null,
            "grid_auto_flow": null,
            "grid_area": null,
            "grid_template_columns": null,
            "flex": null,
            "_model_name": "LayoutModel",
            "justify_items": null,
            "grid_row": null,
            "max_height": null,
            "align_content": null,
            "visibility": null,
            "align_self": null,
            "height": null,
            "min_height": null,
            "padding": null,
            "grid_auto_rows": null,
            "grid_gap": null,
            "max_width": null,
            "order": null,
            "_view_module_version": "1.2.0",
            "grid_template_areas": null,
            "object_position": null,
            "object_fit": null,
            "grid_auto_columns": null,
            "margin": null,
            "display": null,
            "left": null
          }
        },
        "220410beae8a4bd0b6326d4066d651f5": {
          "model_module": "@jupyter-widgets/controls",
          "model_name": "BoundedIntTextModel",
          "state": {
            "_view_name": "IntTextView",
            "style": "IPY_MODEL_6141c976d8e54286b06c5aa842314e31",
            "_dom_classes": [],
            "description": "Text:",
            "_model_name": "BoundedIntTextModel",
            "max": 10,
            "_view_module": "@jupyter-widgets/controls",
            "_model_module_version": "1.5.0",
            "value": 7,
            "_view_count": null,
            "disabled": false,
            "_view_module_version": "1.5.0",
            "min": 0,
            "continuous_update": false,
            "step": 1,
            "description_tooltip": null,
            "_model_module": "@jupyter-widgets/controls",
            "layout": "IPY_MODEL_a0cb669c4c4544bfb51d3841822748dd"
          }
        },
        "6141c976d8e54286b06c5aa842314e31": {
          "model_module": "@jupyter-widgets/controls",
          "model_name": "DescriptionStyleModel",
          "state": {
            "_view_name": "StyleView",
            "_model_name": "DescriptionStyleModel",
            "description_width": "",
            "_view_module": "@jupyter-widgets/base",
            "_model_module_version": "1.5.0",
            "_view_count": null,
            "_view_module_version": "1.2.0",
            "_model_module": "@jupyter-widgets/controls"
          }
        },
        "a0cb669c4c4544bfb51d3841822748dd": {
          "model_module": "@jupyter-widgets/base",
          "model_name": "LayoutModel",
          "state": {
            "_view_name": "LayoutView",
            "grid_template_rows": null,
            "right": null,
            "justify_content": null,
            "_view_module": "@jupyter-widgets/base",
            "overflow": null,
            "_model_module_version": "1.2.0",
            "_view_count": null,
            "flex_flow": null,
            "width": null,
            "min_width": null,
            "border": null,
            "align_items": null,
            "bottom": null,
            "_model_module": "@jupyter-widgets/base",
            "top": null,
            "grid_column": null,
            "overflow_y": null,
            "overflow_x": null,
            "grid_auto_flow": null,
            "grid_area": null,
            "grid_template_columns": null,
            "flex": null,
            "_model_name": "LayoutModel",
            "justify_items": null,
            "grid_row": null,
            "max_height": null,
            "align_content": null,
            "visibility": null,
            "align_self": null,
            "height": null,
            "min_height": null,
            "padding": null,
            "grid_auto_rows": null,
            "grid_gap": null,
            "max_width": null,
            "order": null,
            "_view_module_version": "1.2.0",
            "grid_template_areas": null,
            "object_position": null,
            "object_fit": null,
            "grid_auto_columns": null,
            "margin": null,
            "display": null,
            "left": null
          }
        },
        "63c2cf07708f487d8829638220abc193": {
          "model_module": "@jupyter-widgets/controls",
          "model_name": "BoundedFloatTextModel",
          "state": {
            "_view_name": "FloatTextView",
            "style": "IPY_MODEL_91391069033b4d9dabc0010486386d75",
            "_dom_classes": [],
            "description": "Text:",
            "_model_name": "BoundedFloatTextModel",
            "max": 10,
            "_view_module": "@jupyter-widgets/controls",
            "_model_module_version": "1.5.0",
            "value": 7.5,
            "_view_count": null,
            "disabled": false,
            "_view_module_version": "1.5.0",
            "min": 0,
            "continuous_update": false,
            "step": 0.1,
            "description_tooltip": null,
            "_model_module": "@jupyter-widgets/controls",
            "layout": "IPY_MODEL_52b2e7147dcf456d949e0fb666b7db20"
          }
        },
        "91391069033b4d9dabc0010486386d75": {
          "model_module": "@jupyter-widgets/controls",
          "model_name": "DescriptionStyleModel",
          "state": {
            "_view_name": "StyleView",
            "_model_name": "DescriptionStyleModel",
            "description_width": "",
            "_view_module": "@jupyter-widgets/base",
            "_model_module_version": "1.5.0",
            "_view_count": null,
            "_view_module_version": "1.2.0",
            "_model_module": "@jupyter-widgets/controls"
          }
        },
        "52b2e7147dcf456d949e0fb666b7db20": {
          "model_module": "@jupyter-widgets/base",
          "model_name": "LayoutModel",
          "state": {
            "_view_name": "LayoutView",
            "grid_template_rows": null,
            "right": null,
            "justify_content": null,
            "_view_module": "@jupyter-widgets/base",
            "overflow": null,
            "_model_module_version": "1.2.0",
            "_view_count": null,
            "flex_flow": null,
            "width": null,
            "min_width": null,
            "border": null,
            "align_items": null,
            "bottom": null,
            "_model_module": "@jupyter-widgets/base",
            "top": null,
            "grid_column": null,
            "overflow_y": null,
            "overflow_x": null,
            "grid_auto_flow": null,
            "grid_area": null,
            "grid_template_columns": null,
            "flex": null,
            "_model_name": "LayoutModel",
            "justify_items": null,
            "grid_row": null,
            "max_height": null,
            "align_content": null,
            "visibility": null,
            "align_self": null,
            "height": null,
            "min_height": null,
            "padding": null,
            "grid_auto_rows": null,
            "grid_gap": null,
            "max_width": null,
            "order": null,
            "_view_module_version": "1.2.0",
            "grid_template_areas": null,
            "object_position": null,
            "object_fit": null,
            "grid_auto_columns": null,
            "margin": null,
            "display": null,
            "left": null
          }
        },
        "a4a6f10b8f3c4ea0a94173a2c7c4cda4": {
          "model_module": "@jupyter-widgets/controls",
          "model_name": "ButtonModel",
          "state": {
            "_view_name": "ButtonView",
            "style": "IPY_MODEL_363ebacfa8524ed2b11953ff9501bbe7",
            "_dom_classes": [],
            "description": "Hello",
            "_model_name": "ButtonModel",
            "button_style": "",
            "_view_module": "@jupyter-widgets/controls",
            "_model_module_version": "1.5.0",
            "tooltip": "",
            "_view_count": null,
            "disabled": false,
            "_view_module_version": "1.5.0",
            "layout": "IPY_MODEL_770523f236ca49dc81770b78d8383bf6",
            "_model_module": "@jupyter-widgets/controls",
            "icon": ""
          }
        },
        "363ebacfa8524ed2b11953ff9501bbe7": {
          "model_module": "@jupyter-widgets/controls",
          "model_name": "ButtonStyleModel",
          "state": {
            "_view_name": "StyleView",
            "_model_name": "ButtonStyleModel",
            "_view_module": "@jupyter-widgets/base",
            "_model_module_version": "1.5.0",
            "_view_count": null,
            "button_color": null,
            "font_weight": "",
            "_view_module_version": "1.2.0",
            "_model_module": "@jupyter-widgets/controls"
          }
        },
        "770523f236ca49dc81770b78d8383bf6": {
          "model_module": "@jupyter-widgets/base",
          "model_name": "LayoutModel",
          "state": {
            "_view_name": "LayoutView",
            "grid_template_rows": null,
            "right": null,
            "justify_content": null,
            "_view_module": "@jupyter-widgets/base",
            "overflow": null,
            "_model_module_version": "1.2.0",
            "_view_count": null,
            "flex_flow": null,
            "width": null,
            "min_width": null,
            "border": null,
            "align_items": null,
            "bottom": null,
            "_model_module": "@jupyter-widgets/base",
            "top": null,
            "grid_column": null,
            "overflow_y": null,
            "overflow_x": null,
            "grid_auto_flow": null,
            "grid_area": null,
            "grid_template_columns": null,
            "flex": null,
            "_model_name": "LayoutModel",
            "justify_items": null,
            "grid_row": null,
            "max_height": null,
            "align_content": null,
            "visibility": null,
            "align_self": null,
            "height": null,
            "min_height": null,
            "padding": null,
            "grid_auto_rows": null,
            "grid_gap": null,
            "max_width": null,
            "order": null,
            "_view_module_version": "1.2.0",
            "grid_template_areas": null,
            "object_position": null,
            "object_fit": null,
            "grid_auto_columns": null,
            "margin": null,
            "display": null,
            "left": null
          }
        },
        "0c1941e8c46443e3b08f57fa04722f59": {
          "model_module": "@jupyter-widgets/controls",
          "model_name": "DatePickerModel",
          "state": {
            "_view_name": "DatePickerView",
            "style": "IPY_MODEL_fbb0db249a4d429797596ec45e335a3a",
            "_dom_classes": [],
            "description": "Pick a Date",
            "_model_name": "DatePickerModel",
            "_view_module": "@jupyter-widgets/controls",
            "_model_module_version": "1.5.0",
            "value": null,
            "_view_count": null,
            "disabled": false,
            "_view_module_version": "1.5.0",
            "description_tooltip": null,
            "_model_module": "@jupyter-widgets/controls",
            "layout": "IPY_MODEL_005595602195499b8b93e38c83ff9e5b"
          }
        },
        "fbb0db249a4d429797596ec45e335a3a": {
          "model_module": "@jupyter-widgets/controls",
          "model_name": "DescriptionStyleModel",
          "state": {
            "_view_name": "StyleView",
            "_model_name": "DescriptionStyleModel",
            "description_width": "",
            "_view_module": "@jupyter-widgets/base",
            "_model_module_version": "1.5.0",
            "_view_count": null,
            "_view_module_version": "1.2.0",
            "_model_module": "@jupyter-widgets/controls"
          }
        },
        "005595602195499b8b93e38c83ff9e5b": {
          "model_module": "@jupyter-widgets/base",
          "model_name": "LayoutModel",
          "state": {
            "_view_name": "LayoutView",
            "grid_template_rows": null,
            "right": null,
            "justify_content": null,
            "_view_module": "@jupyter-widgets/base",
            "overflow": null,
            "_model_module_version": "1.2.0",
            "_view_count": null,
            "flex_flow": null,
            "width": null,
            "min_width": null,
            "border": null,
            "align_items": null,
            "bottom": null,
            "_model_module": "@jupyter-widgets/base",
            "top": null,
            "grid_column": null,
            "overflow_y": null,
            "overflow_x": null,
            "grid_auto_flow": null,
            "grid_area": null,
            "grid_template_columns": null,
            "flex": null,
            "_model_name": "LayoutModel",
            "justify_items": null,
            "grid_row": null,
            "max_height": null,
            "align_content": null,
            "visibility": null,
            "align_self": null,
            "height": null,
            "min_height": null,
            "padding": null,
            "grid_auto_rows": null,
            "grid_gap": null,
            "max_width": null,
            "order": null,
            "_view_module_version": "1.2.0",
            "grid_template_areas": null,
            "object_position": null,
            "object_fit": null,
            "grid_auto_columns": null,
            "margin": null,
            "display": null,
            "left": null
          }
        },
        "6b1149a2a33f417bb94e939fa3cccc6d": {
          "model_module": "@jupyter-widgets/controls",
          "model_name": "ColorPickerModel",
          "state": {
            "_view_name": "ColorPickerView",
            "style": "IPY_MODEL_a5dc295914e044f486dfc553b9bc96ab",
            "_dom_classes": [],
            "description": "Pick a color",
            "_model_name": "ColorPickerModel",
            "_view_module": "@jupyter-widgets/controls",
            "_model_module_version": "1.5.0",
            "value": "blue",
            "_view_count": null,
            "disabled": false,
            "_view_module_version": "1.5.0",
            "description_tooltip": null,
            "_model_module": "@jupyter-widgets/controls",
            "concise": false,
            "layout": "IPY_MODEL_31b295beb48c4a9fa9f948dc916e1720"
          }
        },
        "a5dc295914e044f486dfc553b9bc96ab": {
          "model_module": "@jupyter-widgets/controls",
          "model_name": "DescriptionStyleModel",
          "state": {
            "_view_name": "StyleView",
            "_model_name": "DescriptionStyleModel",
            "description_width": "",
            "_view_module": "@jupyter-widgets/base",
            "_model_module_version": "1.5.0",
            "_view_count": null,
            "_view_module_version": "1.2.0",
            "_model_module": "@jupyter-widgets/controls"
          }
        },
        "31b295beb48c4a9fa9f948dc916e1720": {
          "model_module": "@jupyter-widgets/base",
          "model_name": "LayoutModel",
          "state": {
            "_view_name": "LayoutView",
            "grid_template_rows": null,
            "right": null,
            "justify_content": null,
            "_view_module": "@jupyter-widgets/base",
            "overflow": null,
            "_model_module_version": "1.2.0",
            "_view_count": null,
            "flex_flow": null,
            "width": null,
            "min_width": null,
            "border": null,
            "align_items": null,
            "bottom": null,
            "_model_module": "@jupyter-widgets/base",
            "top": null,
            "grid_column": null,
            "overflow_y": null,
            "overflow_x": null,
            "grid_auto_flow": null,
            "grid_area": null,
            "grid_template_columns": null,
            "flex": null,
            "_model_name": "LayoutModel",
            "justify_items": null,
            "grid_row": null,
            "max_height": null,
            "align_content": null,
            "visibility": null,
            "align_self": null,
            "height": null,
            "min_height": null,
            "padding": null,
            "grid_auto_rows": null,
            "grid_gap": null,
            "max_width": null,
            "order": null,
            "_view_module_version": "1.2.0",
            "grid_template_areas": null,
            "object_position": null,
            "object_fit": null,
            "grid_auto_columns": null,
            "margin": null,
            "display": null,
            "left": null
          }
        },
        "522dd1854e744d02a9af42d21bcef968": {
          "model_module": "@jupyter-widgets/controls",
          "model_name": "FileUploadModel",
          "state": {
            "_view_name": "FileUploadView",
            "_counter": 0,
            "style": "IPY_MODEL_06c38134c13e4688a8ea4e2622b3d59e",
            "_dom_classes": [],
            "description": "Upload",
            "multiple": false,
            "_model_name": "FileUploadModel",
            "data": [],
            "button_style": "",
            "_view_module": "@jupyter-widgets/controls",
            "_model_module_version": "1.5.0",
            "accept": "",
            "_view_count": null,
            "disabled": false,
            "_view_module_version": "1.5.0",
            "error": "",
            "description_tooltip": null,
            "metadata": [],
            "_model_module": "@jupyter-widgets/controls",
            "layout": "IPY_MODEL_f960b44ac5de4d44b633f59be4b0b072",
            "icon": "upload"
          }
        },
        "06c38134c13e4688a8ea4e2622b3d59e": {
          "model_module": "@jupyter-widgets/controls",
          "model_name": "ButtonStyleModel",
          "state": {
            "_view_name": "StyleView",
            "_model_name": "ButtonStyleModel",
            "_view_module": "@jupyter-widgets/base",
            "_model_module_version": "1.5.0",
            "_view_count": null,
            "button_color": null,
            "font_weight": "",
            "_view_module_version": "1.2.0",
            "_model_module": "@jupyter-widgets/controls"
          }
        },
        "f960b44ac5de4d44b633f59be4b0b072": {
          "model_module": "@jupyter-widgets/base",
          "model_name": "LayoutModel",
          "state": {
            "_view_name": "LayoutView",
            "grid_template_rows": null,
            "right": null,
            "justify_content": null,
            "_view_module": "@jupyter-widgets/base",
            "overflow": null,
            "_model_module_version": "1.2.0",
            "_view_count": null,
            "flex_flow": null,
            "width": null,
            "min_width": null,
            "border": null,
            "align_items": null,
            "bottom": null,
            "_model_module": "@jupyter-widgets/base",
            "top": null,
            "grid_column": null,
            "overflow_y": null,
            "overflow_x": null,
            "grid_auto_flow": null,
            "grid_area": null,
            "grid_template_columns": null,
            "flex": null,
            "_model_name": "LayoutModel",
            "justify_items": null,
            "grid_row": null,
            "max_height": null,
            "align_content": null,
            "visibility": null,
            "align_self": null,
            "height": null,
            "min_height": null,
            "padding": null,
            "grid_auto_rows": null,
            "grid_gap": null,
            "max_width": null,
            "order": null,
            "_view_module_version": "1.2.0",
            "grid_template_areas": null,
            "object_position": null,
            "object_fit": null,
            "grid_auto_columns": null,
            "margin": null,
            "display": null,
            "left": null
          }
        },
        "8c78b392b7dc420cb4d719fd522acb04": {
          "model_module": "@jupyter-widgets/controls",
          "model_name": "VBoxModel",
          "state": {
            "_view_name": "VBoxView",
            "_dom_classes": [
              "widget-interact"
            ],
            "_model_name": "VBoxModel",
            "_view_module": "@jupyter-widgets/controls",
            "_model_module_version": "1.5.0",
            "_view_count": null,
            "_view_module_version": "1.5.0",
            "box_style": "",
            "layout": "IPY_MODEL_8974f8dcea014295bee9892d2ad56605",
            "_model_module": "@jupyter-widgets/controls",
            "children": [
              "IPY_MODEL_4aea10bc6f3d49529916b7244f6dc836",
              "IPY_MODEL_8c97becafad14038a75cf6e6f0930db9"
            ]
          }
        },
        "8974f8dcea014295bee9892d2ad56605": {
          "model_module": "@jupyter-widgets/base",
          "model_name": "LayoutModel",
          "state": {
            "_view_name": "LayoutView",
            "grid_template_rows": null,
            "right": null,
            "justify_content": null,
            "_view_module": "@jupyter-widgets/base",
            "overflow": null,
            "_model_module_version": "1.2.0",
            "_view_count": null,
            "flex_flow": null,
            "width": null,
            "min_width": null,
            "border": null,
            "align_items": null,
            "bottom": null,
            "_model_module": "@jupyter-widgets/base",
            "top": null,
            "grid_column": null,
            "overflow_y": null,
            "overflow_x": null,
            "grid_auto_flow": null,
            "grid_area": null,
            "grid_template_columns": null,
            "flex": null,
            "_model_name": "LayoutModel",
            "justify_items": null,
            "grid_row": null,
            "max_height": null,
            "align_content": null,
            "visibility": null,
            "align_self": null,
            "height": null,
            "min_height": null,
            "padding": null,
            "grid_auto_rows": null,
            "grid_gap": null,
            "max_width": null,
            "order": null,
            "_view_module_version": "1.2.0",
            "grid_template_areas": null,
            "object_position": null,
            "object_fit": null,
            "grid_auto_columns": null,
            "margin": null,
            "display": null,
            "left": null
          }
        },
        "4aea10bc6f3d49529916b7244f6dc836": {
          "model_module": "@jupyter-widgets/controls",
          "model_name": "FloatSliderModel",
          "state": {
            "_view_name": "FloatSliderView",
            "style": "IPY_MODEL_15e6702df99045f1838f0dd1c42b2dac",
            "_dom_classes": [],
            "description": "bw",
            "step": 0.1,
            "_model_name": "FloatSliderModel",
            "orientation": "horizontal",
            "max": 3,
            "_view_module": "@jupyter-widgets/controls",
            "_model_module_version": "1.5.0",
            "value": 1.4,
            "_view_count": null,
            "disabled": false,
            "_view_module_version": "1.5.0",
            "min": 0.1,
            "continuous_update": true,
            "readout_format": ".2f",
            "description_tooltip": null,
            "readout": true,
            "_model_module": "@jupyter-widgets/controls",
            "layout": "IPY_MODEL_c8ebfaa3287b41349034685eef33730e"
          }
        },
        "8c97becafad14038a75cf6e6f0930db9": {
          "model_module": "@jupyter-widgets/output",
          "model_name": "OutputModel",
          "state": {
            "_view_name": "OutputView",
            "msg_id": "",
            "_dom_classes": [],
            "_model_name": "OutputModel",
            "outputs": [
              {
                "output_type": "display_data",
                "metadata": {
                  "tags": [],
                  "needs_background": "light"
                },
                "image/png": "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\n",
                "text/plain": "<Figure size 432x288 with 1 Axes>"
              }
            ],
            "_view_module": "@jupyter-widgets/output",
            "_model_module_version": "1.0.0",
            "_view_count": null,
            "_view_module_version": "1.0.0",
            "layout": "IPY_MODEL_b5c4fe80c1de4256b2db6fb7d63f167d",
            "_model_module": "@jupyter-widgets/output"
          }
        },
        "15e6702df99045f1838f0dd1c42b2dac": {
          "model_module": "@jupyter-widgets/controls",
          "model_name": "SliderStyleModel",
          "state": {
            "_view_name": "StyleView",
            "handle_color": null,
            "_model_name": "SliderStyleModel",
            "description_width": "",
            "_view_module": "@jupyter-widgets/base",
            "_model_module_version": "1.5.0",
            "_view_count": null,
            "_view_module_version": "1.2.0",
            "_model_module": "@jupyter-widgets/controls"
          }
        },
        "c8ebfaa3287b41349034685eef33730e": {
          "model_module": "@jupyter-widgets/base",
          "model_name": "LayoutModel",
          "state": {
            "_view_name": "LayoutView",
            "grid_template_rows": null,
            "right": null,
            "justify_content": null,
            "_view_module": "@jupyter-widgets/base",
            "overflow": null,
            "_model_module_version": "1.2.0",
            "_view_count": null,
            "flex_flow": null,
            "width": null,
            "min_width": null,
            "border": null,
            "align_items": null,
            "bottom": null,
            "_model_module": "@jupyter-widgets/base",
            "top": null,
            "grid_column": null,
            "overflow_y": null,
            "overflow_x": null,
            "grid_auto_flow": null,
            "grid_area": null,
            "grid_template_columns": null,
            "flex": null,
            "_model_name": "LayoutModel",
            "justify_items": null,
            "grid_row": null,
            "max_height": null,
            "align_content": null,
            "visibility": null,
            "align_self": null,
            "height": null,
            "min_height": null,
            "padding": null,
            "grid_auto_rows": null,
            "grid_gap": null,
            "max_width": null,
            "order": null,
            "_view_module_version": "1.2.0",
            "grid_template_areas": null,
            "object_position": null,
            "object_fit": null,
            "grid_auto_columns": null,
            "margin": null,
            "display": null,
            "left": null
          }
        },
        "b5c4fe80c1de4256b2db6fb7d63f167d": {
          "model_module": "@jupyter-widgets/base",
          "model_name": "LayoutModel",
          "state": {
            "_view_name": "LayoutView",
            "grid_template_rows": null,
            "right": null,
            "justify_content": null,
            "_view_module": "@jupyter-widgets/base",
            "overflow": null,
            "_model_module_version": "1.2.0",
            "_view_count": null,
            "flex_flow": null,
            "width": null,
            "min_width": null,
            "border": null,
            "align_items": null,
            "bottom": null,
            "_model_module": "@jupyter-widgets/base",
            "top": null,
            "grid_column": null,
            "overflow_y": null,
            "overflow_x": null,
            "grid_auto_flow": null,
            "grid_area": null,
            "grid_template_columns": null,
            "flex": null,
            "_model_name": "LayoutModel",
            "justify_items": null,
            "grid_row": null,
            "max_height": null,
            "align_content": null,
            "visibility": null,
            "align_self": null,
            "height": null,
            "min_height": null,
            "padding": null,
            "grid_auto_rows": null,
            "grid_gap": null,
            "max_width": null,
            "order": null,
            "_view_module_version": "1.2.0",
            "grid_template_areas": null,
            "object_position": null,
            "object_fit": null,
            "grid_auto_columns": null,
            "margin": null,
            "display": null,
            "left": null
          }
        },
        "fd1d3d12954a4591b065971b77eb0528": {
          "model_module": "@jupyter-widgets/controls",
          "model_name": "VBoxModel",
          "state": {
            "_view_name": "VBoxView",
            "_dom_classes": [
              "widget-interact"
            ],
            "_model_name": "VBoxModel",
            "_view_module": "@jupyter-widgets/controls",
            "_model_module_version": "1.5.0",
            "_view_count": null,
            "_view_module_version": "1.5.0",
            "box_style": "",
            "layout": "IPY_MODEL_0b458ff13bc94b8c8254ba65efe7e2f8",
            "_model_module": "@jupyter-widgets/controls",
            "children": [
              "IPY_MODEL_c992a7cb3ec6495cb75c527561f928fb",
              "IPY_MODEL_4d92150f90e34412bf51aef89e00896f"
            ]
          }
        },
        "0b458ff13bc94b8c8254ba65efe7e2f8": {
          "model_module": "@jupyter-widgets/base",
          "model_name": "LayoutModel",
          "state": {
            "_view_name": "LayoutView",
            "grid_template_rows": null,
            "right": null,
            "justify_content": null,
            "_view_module": "@jupyter-widgets/base",
            "overflow": null,
            "_model_module_version": "1.2.0",
            "_view_count": null,
            "flex_flow": null,
            "width": null,
            "min_width": null,
            "border": null,
            "align_items": null,
            "bottom": null,
            "_model_module": "@jupyter-widgets/base",
            "top": null,
            "grid_column": null,
            "overflow_y": null,
            "overflow_x": null,
            "grid_auto_flow": null,
            "grid_area": null,
            "grid_template_columns": null,
            "flex": null,
            "_model_name": "LayoutModel",
            "justify_items": null,
            "grid_row": null,
            "max_height": null,
            "align_content": null,
            "visibility": null,
            "align_self": null,
            "height": null,
            "min_height": null,
            "padding": null,
            "grid_auto_rows": null,
            "grid_gap": null,
            "max_width": null,
            "order": null,
            "_view_module_version": "1.2.0",
            "grid_template_areas": null,
            "object_position": null,
            "object_fit": null,
            "grid_auto_columns": null,
            "margin": null,
            "display": null,
            "left": null
          }
        },
        "c992a7cb3ec6495cb75c527561f928fb": {
          "model_module": "@jupyter-widgets/controls",
          "model_name": "FloatSliderModel",
          "state": {
            "_view_name": "FloatSliderView",
            "style": "IPY_MODEL_2e6dcefeffc24f40919001ae2e77461f",
            "_dom_classes": [],
            "description": "bw",
            "step": 0.1,
            "_model_name": "FloatSliderModel",
            "orientation": "horizontal",
            "max": 3,
            "_view_module": "@jupyter-widgets/controls",
            "_model_module_version": "1.5.0",
            "value": 0.9,
            "_view_count": null,
            "disabled": false,
            "_view_module_version": "1.5.0",
            "min": 0.1,
            "continuous_update": true,
            "readout_format": ".2f",
            "description_tooltip": null,
            "readout": true,
            "_model_module": "@jupyter-widgets/controls",
            "layout": "IPY_MODEL_e132cae7972141fba220e6d8c9b8cad4"
          }
        },
        "4d92150f90e34412bf51aef89e00896f": {
          "model_module": "@jupyter-widgets/output",
          "model_name": "OutputModel",
          "state": {
            "_view_name": "OutputView",
            "msg_id": "",
            "_dom_classes": [],
            "_model_name": "OutputModel",
            "outputs": [
              {
                "output_type": "display_data",
                "metadata": {
                  "tags": [],
                  "needs_background": "light"
                },
                "image/png": "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\n",
                "text/plain": "<Figure size 432x288 with 1 Axes>"
              }
            ],
            "_view_module": "@jupyter-widgets/output",
            "_model_module_version": "1.0.0",
            "_view_count": null,
            "_view_module_version": "1.0.0",
            "layout": "IPY_MODEL_b964ee859a8d4147a6b829525494d0c7",
            "_model_module": "@jupyter-widgets/output"
          }
        },
        "2e6dcefeffc24f40919001ae2e77461f": {
          "model_module": "@jupyter-widgets/controls",
          "model_name": "SliderStyleModel",
          "state": {
            "_view_name": "StyleView",
            "handle_color": null,
            "_model_name": "SliderStyleModel",
            "description_width": "",
            "_view_module": "@jupyter-widgets/base",
            "_model_module_version": "1.5.0",
            "_view_count": null,
            "_view_module_version": "1.2.0",
            "_model_module": "@jupyter-widgets/controls"
          }
        },
        "e132cae7972141fba220e6d8c9b8cad4": {
          "model_module": "@jupyter-widgets/base",
          "model_name": "LayoutModel",
          "state": {
            "_view_name": "LayoutView",
            "grid_template_rows": null,
            "right": null,
            "justify_content": null,
            "_view_module": "@jupyter-widgets/base",
            "overflow": null,
            "_model_module_version": "1.2.0",
            "_view_count": null,
            "flex_flow": null,
            "width": null,
            "min_width": null,
            "border": null,
            "align_items": null,
            "bottom": null,
            "_model_module": "@jupyter-widgets/base",
            "top": null,
            "grid_column": null,
            "overflow_y": null,
            "overflow_x": null,
            "grid_auto_flow": null,
            "grid_area": null,
            "grid_template_columns": null,
            "flex": null,
            "_model_name": "LayoutModel",
            "justify_items": null,
            "grid_row": null,
            "max_height": null,
            "align_content": null,
            "visibility": null,
            "align_self": null,
            "height": null,
            "min_height": null,
            "padding": null,
            "grid_auto_rows": null,
            "grid_gap": null,
            "max_width": null,
            "order": null,
            "_view_module_version": "1.2.0",
            "grid_template_areas": null,
            "object_position": null,
            "object_fit": null,
            "grid_auto_columns": null,
            "margin": null,
            "display": null,
            "left": null
          }
        },
        "b964ee859a8d4147a6b829525494d0c7": {
          "model_module": "@jupyter-widgets/base",
          "model_name": "LayoutModel",
          "state": {
            "_view_name": "LayoutView",
            "grid_template_rows": null,
            "right": null,
            "justify_content": null,
            "_view_module": "@jupyter-widgets/base",
            "overflow": null,
            "_model_module_version": "1.2.0",
            "_view_count": null,
            "flex_flow": null,
            "width": null,
            "min_width": null,
            "border": null,
            "align_items": null,
            "bottom": null,
            "_model_module": "@jupyter-widgets/base",
            "top": null,
            "grid_column": null,
            "overflow_y": null,
            "overflow_x": null,
            "grid_auto_flow": null,
            "grid_area": null,
            "grid_template_columns": null,
            "flex": null,
            "_model_name": "LayoutModel",
            "justify_items": null,
            "grid_row": null,
            "max_height": null,
            "align_content": null,
            "visibility": null,
            "align_self": null,
            "height": null,
            "min_height": null,
            "padding": null,
            "grid_auto_rows": null,
            "grid_gap": null,
            "max_width": null,
            "order": null,
            "_view_module_version": "1.2.0",
            "grid_template_areas": null,
            "object_position": null,
            "object_fit": null,
            "grid_auto_columns": null,
            "margin": null,
            "display": null,
            "left": null
          }
        },
        "56b6e4b4fd3c4a3f99488735a3c0fcbd": {
          "model_module": "@jupyter-widgets/controls",
          "model_name": "VBoxModel",
          "state": {
            "_view_name": "VBoxView",
            "_dom_classes": [
              "widget-interact"
            ],
            "_model_name": "VBoxModel",
            "_view_module": "@jupyter-widgets/controls",
            "_model_module_version": "1.5.0",
            "_view_count": null,
            "_view_module_version": "1.5.0",
            "box_style": "",
            "layout": "IPY_MODEL_19b6c6882bdc4062833553b8b69c3cbf",
            "_model_module": "@jupyter-widgets/controls",
            "children": [
              "IPY_MODEL_1a7a7f19aa794009afb9fa2ef509bab1",
              "IPY_MODEL_8bfbefdeac974faea90c878786f2b951"
            ]
          }
        },
        "19b6c6882bdc4062833553b8b69c3cbf": {
          "model_module": "@jupyter-widgets/base",
          "model_name": "LayoutModel",
          "state": {
            "_view_name": "LayoutView",
            "grid_template_rows": null,
            "right": null,
            "justify_content": null,
            "_view_module": "@jupyter-widgets/base",
            "overflow": null,
            "_model_module_version": "1.2.0",
            "_view_count": null,
            "flex_flow": null,
            "width": null,
            "min_width": null,
            "border": null,
            "align_items": null,
            "bottom": null,
            "_model_module": "@jupyter-widgets/base",
            "top": null,
            "grid_column": null,
            "overflow_y": null,
            "overflow_x": null,
            "grid_auto_flow": null,
            "grid_area": null,
            "grid_template_columns": null,
            "flex": null,
            "_model_name": "LayoutModel",
            "justify_items": null,
            "grid_row": null,
            "max_height": null,
            "align_content": null,
            "visibility": null,
            "align_self": null,
            "height": null,
            "min_height": null,
            "padding": null,
            "grid_auto_rows": null,
            "grid_gap": null,
            "max_width": null,
            "order": null,
            "_view_module_version": "1.2.0",
            "grid_template_areas": null,
            "object_position": null,
            "object_fit": null,
            "grid_auto_columns": null,
            "margin": null,
            "display": null,
            "left": null
          }
        },
        "1a7a7f19aa794009afb9fa2ef509bab1": {
          "model_module": "@jupyter-widgets/controls",
          "model_name": "FloatSliderModel",
          "state": {
            "_view_name": "FloatSliderView",
            "style": "IPY_MODEL_cd551a978f244faeba582da2a78f6fa7",
            "_dom_classes": [],
            "description": "bw",
            "step": 0.1,
            "_model_name": "FloatSliderModel",
            "orientation": "horizontal",
            "max": 3,
            "_view_module": "@jupyter-widgets/controls",
            "_model_module_version": "1.5.0",
            "value": 0.1,
            "_view_count": null,
            "disabled": false,
            "_view_module_version": "1.5.0",
            "min": 0.1,
            "continuous_update": true,
            "readout_format": ".2f",
            "description_tooltip": null,
            "readout": true,
            "_model_module": "@jupyter-widgets/controls",
            "layout": "IPY_MODEL_44a82bff7a314f1c8a3a6a0822654d32"
          }
        },
        "8bfbefdeac974faea90c878786f2b951": {
          "model_module": "@jupyter-widgets/output",
          "model_name": "OutputModel",
          "state": {
            "_view_name": "OutputView",
            "msg_id": "",
            "_dom_classes": [],
            "_model_name": "OutputModel",
            "outputs": [
              {
                "output_type": "display_data",
                "metadata": {
                  "tags": [],
                  "needs_background": "light"
                },
                "image/png": "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\n",
                "text/plain": "<Figure size 432x288 with 1 Axes>"
              }
            ],
            "_view_module": "@jupyter-widgets/output",
            "_model_module_version": "1.0.0",
            "_view_count": null,
            "_view_module_version": "1.0.0",
            "layout": "IPY_MODEL_22c58a21ac3d468ba3362ede6e629bce",
            "_model_module": "@jupyter-widgets/output"
          }
        },
        "cd551a978f244faeba582da2a78f6fa7": {
          "model_module": "@jupyter-widgets/controls",
          "model_name": "SliderStyleModel",
          "state": {
            "_view_name": "StyleView",
            "handle_color": null,
            "_model_name": "SliderStyleModel",
            "description_width": "",
            "_view_module": "@jupyter-widgets/base",
            "_model_module_version": "1.5.0",
            "_view_count": null,
            "_view_module_version": "1.2.0",
            "_model_module": "@jupyter-widgets/controls"
          }
        },
        "44a82bff7a314f1c8a3a6a0822654d32": {
          "model_module": "@jupyter-widgets/base",
          "model_name": "LayoutModel",
          "state": {
            "_view_name": "LayoutView",
            "grid_template_rows": null,
            "right": null,
            "justify_content": null,
            "_view_module": "@jupyter-widgets/base",
            "overflow": null,
            "_model_module_version": "1.2.0",
            "_view_count": null,
            "flex_flow": null,
            "width": null,
            "min_width": null,
            "border": null,
            "align_items": null,
            "bottom": null,
            "_model_module": "@jupyter-widgets/base",
            "top": null,
            "grid_column": null,
            "overflow_y": null,
            "overflow_x": null,
            "grid_auto_flow": null,
            "grid_area": null,
            "grid_template_columns": null,
            "flex": null,
            "_model_name": "LayoutModel",
            "justify_items": null,
            "grid_row": null,
            "max_height": null,
            "align_content": null,
            "visibility": null,
            "align_self": null,
            "height": null,
            "min_height": null,
            "padding": null,
            "grid_auto_rows": null,
            "grid_gap": null,
            "max_width": null,
            "order": null,
            "_view_module_version": "1.2.0",
            "grid_template_areas": null,
            "object_position": null,
            "object_fit": null,
            "grid_auto_columns": null,
            "margin": null,
            "display": null,
            "left": null
          }
        },
        "22c58a21ac3d468ba3362ede6e629bce": {
          "model_module": "@jupyter-widgets/base",
          "model_name": "LayoutModel",
          "state": {
            "_view_name": "LayoutView",
            "grid_template_rows": null,
            "right": null,
            "justify_content": null,
            "_view_module": "@jupyter-widgets/base",
            "overflow": null,
            "_model_module_version": "1.2.0",
            "_view_count": null,
            "flex_flow": null,
            "width": null,
            "min_width": null,
            "border": null,
            "align_items": null,
            "bottom": null,
            "_model_module": "@jupyter-widgets/base",
            "top": null,
            "grid_column": null,
            "overflow_y": null,
            "overflow_x": null,
            "grid_auto_flow": null,
            "grid_area": null,
            "grid_template_columns": null,
            "flex": null,
            "_model_name": "LayoutModel",
            "justify_items": null,
            "grid_row": null,
            "max_height": null,
            "align_content": null,
            "visibility": null,
            "align_self": null,
            "height": null,
            "min_height": null,
            "padding": null,
            "grid_auto_rows": null,
            "grid_gap": null,
            "max_width": null,
            "order": null,
            "_view_module_version": "1.2.0",
            "grid_template_areas": null,
            "object_position": null,
            "object_fit": null,
            "grid_auto_columns": null,
            "margin": null,
            "display": null,
            "left": null
          }
        },
        "e7261350c79a4570836749cfe0ff775e": {
          "model_module": "@jupyter-widgets/controls",
          "model_name": "VBoxModel",
          "state": {
            "_view_name": "VBoxView",
            "_dom_classes": [
              "widget-interact"
            ],
            "_model_name": "VBoxModel",
            "_view_module": "@jupyter-widgets/controls",
            "_model_module_version": "1.5.0",
            "_view_count": null,
            "_view_module_version": "1.5.0",
            "box_style": "",
            "layout": "IPY_MODEL_dd3a603372e74b8db4ea0e3fcc34f3cb",
            "_model_module": "@jupyter-widgets/controls",
            "children": [
              "IPY_MODEL_72669925473547bdbe1e498af26debee",
              "IPY_MODEL_1394a289e1ab429ca15112bb54dfc8d6",
              "IPY_MODEL_4d6fab4eeff1478a9801fe71d5c88f79"
            ]
          }
        },
        "dd3a603372e74b8db4ea0e3fcc34f3cb": {
          "model_module": "@jupyter-widgets/base",
          "model_name": "LayoutModel",
          "state": {
            "_view_name": "LayoutView",
            "grid_template_rows": null,
            "right": null,
            "justify_content": null,
            "_view_module": "@jupyter-widgets/base",
            "overflow": null,
            "_model_module_version": "1.2.0",
            "_view_count": null,
            "flex_flow": null,
            "width": null,
            "min_width": null,
            "border": null,
            "align_items": null,
            "bottom": null,
            "_model_module": "@jupyter-widgets/base",
            "top": null,
            "grid_column": null,
            "overflow_y": null,
            "overflow_x": null,
            "grid_auto_flow": null,
            "grid_area": null,
            "grid_template_columns": null,
            "flex": null,
            "_model_name": "LayoutModel",
            "justify_items": null,
            "grid_row": null,
            "max_height": null,
            "align_content": null,
            "visibility": null,
            "align_self": null,
            "height": null,
            "min_height": null,
            "padding": null,
            "grid_auto_rows": null,
            "grid_gap": null,
            "max_width": null,
            "order": null,
            "_view_module_version": "1.2.0",
            "grid_template_areas": null,
            "object_position": null,
            "object_fit": null,
            "grid_auto_columns": null,
            "margin": null,
            "display": null,
            "left": null
          }
        },
        "72669925473547bdbe1e498af26debee": {
          "model_module": "@jupyter-widgets/controls",
          "model_name": "CheckboxModel",
          "state": {
            "_view_name": "CheckboxView",
            "style": "IPY_MODEL_812ead97fa9848bc81e48191511b11ba",
            "_dom_classes": [],
            "description": "fill",
            "_model_name": "CheckboxModel",
            "_view_module": "@jupyter-widgets/controls",
            "_model_module_version": "1.5.0",
            "value": true,
            "_view_count": null,
            "disabled": false,
            "_view_module_version": "1.5.0",
            "indent": true,
            "description_tooltip": null,
            "_model_module": "@jupyter-widgets/controls",
            "layout": "IPY_MODEL_5672b92a12a54daea86897d6d2e2f68e"
          }
        },
        "1394a289e1ab429ca15112bb54dfc8d6": {
          "model_module": "@jupyter-widgets/controls",
          "model_name": "DropdownModel",
          "state": {
            "_options_labels": [
              "blue",
              "red",
              "green",
              "orange"
            ],
            "_view_name": "DropdownView",
            "style": "IPY_MODEL_12896c06f76a4f5c8ad181547ec67cfa",
            "_dom_classes": [],
            "description": "color",
            "_model_name": "DropdownModel",
            "index": 2,
            "_view_module": "@jupyter-widgets/controls",
            "_model_module_version": "1.5.0",
            "_view_count": null,
            "disabled": false,
            "_view_module_version": "1.5.0",
            "description_tooltip": null,
            "_model_module": "@jupyter-widgets/controls",
            "layout": "IPY_MODEL_a6446c5f072b481db3c36a9912d2cd0d"
          }
        },
        "4d6fab4eeff1478a9801fe71d5c88f79": {
          "model_module": "@jupyter-widgets/output",
          "model_name": "OutputModel",
          "state": {
            "_view_name": "OutputView",
            "msg_id": "",
            "_dom_classes": [],
            "_model_name": "OutputModel",
            "outputs": [
              {
                "output_type": "display_data",
                "metadata": {
                  "tags": [],
                  "needs_background": "light"
                },
                "image/png": "iVBORw0KGgoAAAANSUhEUgAAAZ4AAAEKCAYAAAAiizNaAAAABHNCSVQICAgIfAhkiAAAAAlwSFlzAAALEgAACxIB0t1+/AAAADh0RVh0U29mdHdhcmUAbWF0cGxvdGxpYiB2ZXJzaW9uMy4yLjIsIGh0dHA6Ly9tYXRwbG90bGliLm9yZy+WH4yJAAAgAElEQVR4nO3deXxV1bXA8d/KBGGeAmEmQAADyBQBQeqADI5gpYqtlra2tq/YWqt9xdfWVl5bh7Za+6QOFVrAganaRgQBQRGsDAEBmQkzyBAggAxJSLLeH+fkchMzQXLvucP6fj73k3322efctXuty3POPnuLqmKMMcYES4zXARhjjIkulniMMcYElSUeY4wxQWWJxxhjTFBZ4jHGGBNUlniMMcYEVUATj4iMFJFtIpIlIhPK2F9LRGa6+1eKSAe3fpiIrBGRz9y/N/gd08+tzxKRv4iIuPVNRGSRiOxw/zYOZN+MMcZcnoAlHhGJBSYBNwFpwD0iklaq2f1Ajqp2Bp4DnnbrjwG3qWpPYBww3e+YF4HvAanuZ6RbPwFYrKqpwGJ32xhjTIgJ5BVPfyBLVXepaj4wAxhVqs0oYKpbngMMFRFR1U9V9XO3fhOQ6F4dtQQaqOoKdd58nQaMLuNcU/3qjTHGhJC4AJ67NbDfb/sAMKC8NqpaICKngKY4VzzF7gTWqmqeiLR2z+N/ztZuuYWqHnLLh4EWZQUlIg8ADwDUrVu3X7du3S61X8YYE9XWrFlzTFWTLvf4QCaeahOR7ji334ZfynGqqiJS5lxAqvoK8ApAenq6ZmZmVjtOY4yJJiKytzrHB/JW20Ggrd92G7euzDYiEgc0BI67222At4FvqupOv/ZtyjnnEfdWHO7fozXWE2OMMTUmkIlnNZAqIikikgCMBTJKtcnAGTwAMAZY4l6tNALeBSao6sfFjd1baadFZKA7mu2bwL/LONc4v3pjjDEhJGCJR1ULgAeBBcAWYJaqbhKRiSJyu9tsMtBURLKAn3JxJNqDQGfgcRFZ536au/t+CLwKZAE7gflu/VPAMBHZAdzobhtjjAkxEs3LItgzHmOMuXQiskZV0y/3eJu5wBhjTFBZ4jHGGBNUlniMMcYElSUeY4wxQWWJxxhjTFBZ4jHGGBNUlniMMcYElSUeY4wxQWWJxxhjTFBZ4jHGGBNUlniMMcYElSUeY4wxQWWJxxhjTFBZ4jHGGBNUlniMMcYElSUeY4wxQWWJxxhjTFBZ4jHGGBNUAU08IjJSRLaJSJaITChjfy0RmenuXykiHdz6piLygYicEZEX/NrXF5F1fp9jIvJnd9+3RCTbb993A9k3Y4wxlycuUCcWkVhgEjAMOACsFpEMVd3s1+x+IEdVO4vIWOBp4G4gF/gV0MP9AKCqXwC9/b5jDfCW3/lmquqDAeqSMcaYGhDIK57+QJaq7lLVfGAGMKpUm1HAVLc8BxgqIqKqZ1V1OU4CKpOIdAGaA8tqPnRjjDGBEsjE0xrY77d9wK0rs42qFgCngKZVPP9YnCsc9au7U0Q2iMgcEWl7eWEbY4wJpHAeXDAWeNNv+x2gg6peCSzi4pVUCSLygIhkikhmdnZ2EMI0xhjjL5CJ5yDgf9XRxq0rs42IxAENgeOVnVhEegFxqrqmuE5Vj6tqnrv5KtCvrGNV9RVVTVfV9KSkpKr2xRhjTA0JZOJZDaSKSIqIJOBcoWSUapMBjHPLY4AlpW6dleceSl7tICIt/TZvB7ZcVtTGGGMCKmCj2lS1QEQeBBYAscAUVd0kIhOBTFXNACYD00UkCziBk5wAEJE9QAMgQURGA8P9RsTdBdxc6it/LCK3AwXuub4VqL4ZY4y5fFK1C4zIlJ6erpmZmV6HYYwxYUVE1qhq+uUeH86DC4wxxoQhSzzGGGOCyhKPMcaYoLLEY4wxJqgs8RhjjAkqSzzGGGOCyhKPMcaYoLLEY4wxJqgs8RhjjAkqSzzGGGOCyhKPMcaYoLLEY4wxJqgs8RhjjAkqSzzGGGOCyhKPMcaYoLLEY4wxJqgs8RhjjAkqSzzGGGOCyhKPMcaYoApo4hGRkSKyTUSyRGRCGftrichMd/9KEeng1jcVkQ9E5IyIvFDqmA/dc65zP80rOpcxxpjQErDEIyKxwCTgJiANuEdE0ko1ux/IUdXOwHPA0259LvAr4NFyTv8NVe3tfo5Wci5jjDEhJJBXPP2BLFXdpar5wAxgVKk2o4CpbnkOMFRERFXPqupynARUVWWe6/LDN8YYEwiBTDytgf1+2wfcujLbqGoBcApoWoVz/929zfYrv+RSpXOJyAMikikimdnZ2ZfSH2OMMTUgHAcXfENVewJD3M99l3Kwqr6iqumqmp6UlBSQAI0xxpQvkInnINDWb7uNW1dmGxGJAxoCxys6qaoedP9+AbyBc0vvss5ljDEm+AKZeFYDqSKSIiIJwFggo1SbDGCcWx4DLFFVLe+EIhInIs3ccjxwK7Dxcs5ljDHGG3GBOrGqFojIg8ACIBaYoqqbRGQikKmqGcBkYLqIZAEncJITACKyB2gAJIjIaGA4sBdY4CadWOB94G/uIeWeyxhjTOiQaL4oSE9P18zMTK/DMMaYsCIia1Q1/XKPD8fBBcYYY8KYJR5jjDFBZYnHGGNMUFniMcYYE1SWeIwxxgSVJR5jjDFBZYnHGGNMUAXsBVJjynM2/yzrDq/j3IVztKzfku5J3bGJxI2JHpZ4TNBsPbaVX33wK+Zun0tuwcUVL5LrJfOTAT/hoYEPUTuutocRGmOCwW61mYBTVZ5c9iQ9X+zJnM1zSiQdgMNnDjNh8QR6v9SbrBNZHkVpjAkWSzwmoAqKChj3r3H8z5L/oaCowFffvmF7erXoRYNaDXx1245v4+rJV7P20FovQjXGBIndajMBo6o88M4DTN8w3VeXlpTGQwMeokvTLoCTmDK2ZfDympfJL8zn2Llj3PrGraz63iraNGjjVejGmACyKx4TMBOXTuTv6/7u27459WaeH/m8L+kAxMXE8dUrvspzI56jfkJ9AA6dOcSoGaPIL8wPeszGmMCzxGMCYtHORTyx9Anf9k2db+LRqx8lLqbsi+y0pDSeuO4JYiUWgLWH1vLbj34blFiNMcFlicfUuOPnjnPv2/eiOEtu9EnuwyNXP1LpkOk+Lfvw/X7f923/ftnv+fTQpwGN1RgTfJZ4TI17ZOEjHD17FIAmiU345Vd+SWxMbJWOvTPtTno27wlAoRby8IKHieY1o4yJRJZ4TI1avGsxU9dP9W0/evWjNElsUuXjYySGRwc96rvltnTvUjK2lV4x3RgTzizxmBpTWORcoRS7rsN1XN326ks+T7uG7bi96+2+7QmLJ1BYVFgjMRpjvBfQxCMiI0Vkm4hkiciEMvbXEpGZ7v6VItLBrW8qIh+IyBkRecGvfR0ReVdEtorIJhF5ym/ft0QkW0TWuZ/vBrJv5sumrp/KZ0c/A6B2XG3GXzX+ss81rtc46sbXBZwZD97a8laNxGiM8V7AEo+IxAKTgJuANOAeEUkr1ex+IEdVOwPPAU+79bnAr4BHyzj1H1W1G9AHGCwiN/ntm6mqvd3PqzXYHVOJ3IJcHv/gcd/22O5jaVan2WWfr2HthozuNtq3/btlv7NnPcZEiEBe8fQHslR1l6rmAzOAUaXajAKKHwjMAYaKiKjqWVVdjpOAfFT1nKp+4JbzgbWAvWUYAv7+6d85+MVBABrXbsxd3e+q9jnHpI3xzd22/sh6FuxcUO1zGmO8F8jE0xrY77d9wK0rs42qFgCngKZVObmINAJuAxb7Vd8pIhtEZI6ItC3nuAdEJFNEMrOzs6vWE1Oh/MJ8nlz+pG/7nh73kBifWO3zNqrdiFtSb/Ft/2XlX6p9TmOM98JycIGIxAFvAn9R1V1u9TtAB1W9EljExSupElT1FVVNV9X0pKSk4AQc4V7b8Br7Tzv/jdG4dmNu63pbjZ37jm53IDjv/8zPmm+TiBoTAQKZeA4C/lcdbdy6Mtu4yaQhcLwK534F2KGqfy6uUNXjqprnbr4K9LvMuM0lUFX+vML3M5S4PVYTWjdozYA2A3zbk1ZNqrFzG2O8EcjEsxpIFZEUEUkAxgKlX8jIAMa55THAEq3kCbKI/BYnQf2kVH1Lv83bgS3ViN1U0ZLdS0qMZLutS81d7RS7o9sdvvLU9VO/tKyCMSa8BCzxuM9sHgQW4CSBWaq6SUQmikjxSxqTgaYikgX8FPANuRaRPcCzwLdE5ICIpIlIG+AXOKPk1pYaNv1jd4j1euDHwLcC1Tdz0Z9XXrzaGdlpJPVr1a/x70hvlU5yvWQAcnJz+PfWf9f4dxhjgkeieYhqenq6ZmZmeh1G2Np3ah8pz6dQpEUATBs9jbYNyxzTUW1T10/lH+v+AcDwTsNZcK+NcDPGKyKyRlXTL/f4sBxcYELD5LWTfUknvWV6wJIOOFdTxYMMFu1cxL5T+wL2XcaYwLLEYy5LQVEBkz+d7Nu+tcutAf2+FvVa0K+lM15EUd787M2Afp8xJnAs8ZjLsnDnwhIvjA5qOyjg33ljpxt95Tc2vhHw7zPGBIYlHnNZpq2f5isP7zSc+Nj4gH/nNW2vISE2AYANRzaw8ejGgH+nMabmWeIxl+xk7kn+tfVfvu0RnUYE5XvrJtQtcWX1xmd21WNMOKpS4hGRt0TkFhGxRGWYs3kOeYXOu7qpTVJJaZwStO8emjLUV561aZZNHGpMGKpqIvkr8HVgh4g8JSJdAxiTCXGvf/a6rzys47Cgfnf/1v2pE18HgJ05O1l3eF1Qv98YU31VSjyq+r6qfgPoC+wB3heR/4jIt0Uk8Df3Tcg49MUhlu5ZCoAg3JByQ1C/PyE2ocTtttmbZwf1+40x1VflW2ci0hRnNoDvAp8Cz+MkokUBicyEpDmb56A4t7d6JfeiaZ0qTSZeo65tf62vPHvzbLvdZkyYqeoznreBZUAd4DZVvV1VZ6rqj4B6gQzQhJZZm2f5ytd3uN6TGPq37k9inLPsQtaJLBvdZkyYqeoVz99UNU1Vn1TVQ+AsWw1QnWkTTHj5/IvPWb5vOQAxEsOQdkM8iSMhNqHEjNX+I+yMMaGvqonnt2XUfVKTgZjQ5/8v+F4tetE4sbFnsfgnvbe3vu1ZHMaYSxdX0U4RScZZJTRRRPqAO1kWNMC57WaiiP+/4L262ik2oPUA4mLiKCgq4NPDn7Ln5B46NOrgaUzGmKqp7IpnBPBHnEXcngX+5H5+CvxPYEMzoSTnfA4f7vnQt31Nu2u8CwbnZdK+Lfv6tm2pBGPCR4WJR1Wnqur1wLdU9Xq/z+2q+laQYjQhYO72uRQUFQDQrWk3kup6v2z44LaDfeWM7aXXGDTGhKoKE4+I3OsWO4jIT0t/ghCfCRHvbH/HVx7cbnAFLYPH/32ej/Z+xMnckx5GY4ypqsputdV1/9YD6pfxMVEgvzCfBTsvLrzmf6XhpWZ1mtG1qTOJRkFRAe9lvedxRMaYqqhwcIGqvuz+fSI44ZhQtHzfck7nnQYguV5ySD3EH9R2ENuObwOcq7KxPcZ6HJExpjJVfYH0GRFpICLxIrJYRLL9bsNVdNxIEdkmIlkiMqGM/bVEZKa7f6WIdHDrm4rIByJyRkReKHVMPxH5zD3mLyIibn0TEVkkIjvcv96N9Y0wc7fP9ZWvbnM17v/kIcH/dtu8HfN8z6GMMaGrqu/xDFfV08CtOHO1dQZ+VtEBIhILTAJuAtKAe0QkrVSz+4EcVe0MPAc87dbnAr8CHi3j1C8C3wNS3c9It34CsFhVU4HF7rapAf6JZ2CbgR5G8mWdGnciqY4z0OFk7kn+s/8/HkdkjKlMVRNP8S25W4DZqnqqCsf0B7JUdZeq5gMzgFGl2owCprrlOcBQERFVPauqy3ESkI+ItAQaqOoKdSbomgaMLuNcU/3qTTVknchix4kdANSOq03v5N4eR1SSiJRIhu9uf9fDaIwxVVHVxDNXRLYC/YDFIpJEqaRQhtbAfr/tA25dmW1UtQA4BVQ062Rr9zxlnbNF8XQ+wGGgRVknEJEHRCRTRDKzs7Mr6YLxf2DfJ7mPbwXQUOKfeObumFtBS2NMKKjqsggTgEFAuqpeAM7y5auXkOFeDZU5ZbGqvqKq6aqanpTk/bsooc4/8fRv3d/DSMrXt2VfX0LcnL2ZPSf3eBuQMaZCl7KiaDfgbhH5JjAGGF5J+4NAW7/tNm5dmW1EJA5oCByv5JxtyjnnEfdWXPEtuaOVxGcqkVuQywd7PvBth2riqR1Xmz7JfXzbdrvNmNBW1VFt03GmzrkGuMr9VDYr9WogVURSRCQBGAuUfr08AxjnlscAS7SCxVXcW2mnRWSgO5rtm0DxXCn+5xrnV28u07K9yzh34RwAbRu0pVX9Vh5HVD7/2arnZc3zMBJjTGUqfI/HTzqQVlFSKE1VC0TkQWABEAtMUdVNIjIRyFTVDGAyMF1EsoATOMkJABHZgzMZaYKIjMYZWbcZ+CHwDyARmO9+AJ4CZonI/cBe4K6qxmrKtnDnQl85vVVor34xoPXFxLNk9xLOXzhPYnyihxEZY8pT1cSzEUgGDlXW0J+qzgPmlap73K+cC3ytnGM7lFOfCfQoo/44MPRS4jMVW7Tr4uKyV7W6ysNIKteqfivaNWzHvlP7yC3I5cM9H3JT6k1eh2WMKUNVn/E0AzaLyAIRySj+BDIw460jZ46w/sh6AGIlll7JvTyOqHL+Vz3v7rDnPMaEqqpe8fwmkEGY0LN492JfuXtSd+rEh/7ySwPbDGT25tkAzM+aj6qG1CwLxhhHVYdTL8WZsSDeLa8G1gYwLuMx/+c7/Vr18zCSquvZvCeJcc5znV05u9h+fLvHERljylLVUW3fw5lZ4GW3qjVgC91HKFUtccUT6gMLisXHxtOv5cUkOW+HjW4zJhRV9RnPeGAwcBpAVXcAzQMVlPHW9uPbOXDamSCibnxd39ID4cB/WPX8rPkVtDTGeKWqiSfPnW8N8L3sWeWh1Sa8+F/t9EruRWxMrIfRXBr/AQZL9y7lTP4ZD6MxxpSlqolnqYj8D5AoIsOA2cA7lRxjwpR/4unbsq+HkVy6pLpJdGzcEXAWsFuye4nHERljSqtq4pkAZAOfAd/HeTfnl4EKyninsKiQD3ZfnCanb3J4JR4oedUzf4fdbjMm1FR1VFsRzmCCH6rqGFX926XMYmDCx7rD68jJzQGgSWKTkFpttKr8E8+8rHnYP6rGhJYKE484fiMix4BtwDZ39dHHKzrOhC//W1O9k3uH5Xsw3Zt3p258XQD2ndrH5uzNHkdkjPFX2RXPwzij2a5S1Saq2gQYAAwWkYcDHp0JOv/ZqMPxNhtAXExciSHgNqzamNBSWeK5D7hHVXcXV6jqLuBenJmhTQS5UHiBZfuW+bb7tOxTQevQ5r+Eg81WbUxoqSzxxKvqsdKVqpoNxAcmJOOVzM8zfcOPW9RtQct6LT2O6PL5P+dZvm85p3Krslq7MSYYKks8+Ze5z4Qh/9ts4fp8p1jTOk1JbZIKQEFRQYmZto0x3qos8fQSkdNlfL4AegYjQBM8pRNPuBvYZqCvbLNVGxM6Kkw8qhqrqg3K+NRXVbvVFkHyCvL4eN/Hvm3/paTDlX/imbdjHkVa5GE0xphiVX2B1ES41Z+v5nzBeQBa1WtFi3otPI6o+ro27Uqj2o0AOHr2KGs+X+NxRMYYsMRjXP6zFfRuGf632QBiY2JLDDKYu32uh9EYY4oFNPGIyEgR2SYiWSIyoYz9tURkprt/pYh08Nv3mFu/TURGuHVdRWSd3+e0iPzE3fcbETnot+/mQPYt0pR4vtMiMhIPwNVtrvaV39lu0wsaEwqqugLpJRORWGASMAw4AKwWkQxV9X+N/H4gR1U7i8hY4GngbhFJA8YC3YFWwPsi0kVVtwG9/c5/EHjb73zPqeofA9WnSJVXkMcnBz7xbUfCwIJi6a3SiZVYCrWQTw9/ysHTB2ndoLXXYRkT1QJ5xdMfyFLVXe6SCjOAUaXajAKmuuU5wFBxxvCOAmaoap778mqWez5/Q4Gdqro3YD2IEisPriS3IBeA1vVbk1Q3yeOIak7dhLr0Su7l27bbbcZ4L5CJpzWw32/7gFtXZhtVLQBOAU2reOxY4M1SdQ+KyAYRmSIijcsKSkQeEJFMEcnMzs6+lP5ErA/3fOgrR9LVTjG73WZMaAnLwQUikgDcjrMuULEXgU44t+IOAX8q61hVfUVV01U1PSkpcv7LvjoiPfEMbjvYV35/1/u2OJwxHgtk4jkItPXbbuPWldnGXdW0IXC8CsfeBKxV1SPFFap6RFUL3SUc/saXb82ZMuQW5JZ4vtOrRa8KWoenlvVb+haHyyvMY9FOm8XAGC8FMvGsBlJFJMW9QhkLZJRqkwGMc8tjgCXuOj8ZwFh31FsKkAqs8jvuHkrdZhMR/4nF7gA21lhPItiqg6t8z3faNGgTUc93/A1qM8hXzthe+h9DY0wwBSzxuM9sHgQWAFuAWaq6SUQmisjtbrPJQFMRyQJ+irPSKaq6CZgFbAbeA8araiGAiNTFGSn3VqmvfEZEPhORDcD1OEs6mEqUeH8nAm+zFRvU9mLieWfbOxQUFXgYjTHRLWDDqQFUdR7OMtn+dY/7lXOBr5Vz7O+A35VRfxZnAELp+vuqG280+nDvh75yJN5mK9a1WVeaJTbj2PljHD9/nOX7lnNdh+u8DsuYqBSWgwtMzcgtyOWT/Ref70TC/GzliZEYBre7OMjgrS2lL5iNMcFiiSeKrTiwgrzCPADaNmhL0zpfupCMKEPaD/GV39rylk0aaoxHLPFEsWh5vlOsV4te1E+oD8DBLw6y+uBqjyMyJjpZ4oli/s93oiHxxMXElRhkMGfzHA+jMSZ6WeKJUucunGPFgRW+7WhIPADXdrjWV569eTbO6H1jTDBZ4olS/9n/H/ILndXL2zdsT5PEJh5HFBzpLdOpG18XgL2n9rL6c7vdZkywWeKJUv7PdyJ5NFtp8bHxDGl3cZDBrE2zPIzGmOhkiSdKLdmzxFfu0zJ6Eg9Q4v2dWZtm2eg2Y4LMEk8U+iLvC9+ILkEi+sXRsvRr1Y8GtRoAsP/0fpbtXeZxRMZEF0s8UeijvR9R6MxARKcmnWhYu6HHEQVXXExciaue1z973btgjIlClnii0OLdi33laBnNVtqNHW/0lWdvnk1eQZ6H0RgTXSzxRCH/xNO3ZV8PI/FOj6QeJNdLBuBk7kkyttmM1cYEiyWeKHP07FE2HNkAQKzERt3znWIiwohOI3zbf1/3dw+jMSa6WOKJMv7DqLs160ad+DoeRuOtkZ1H+soLdi7g4OnS6xQaYwLBEk+UsdtsFyXXS/a9w1SkRfxj3T+8DciYKGGJJ8q8v+t9XznaEw/Azak3+8qvrH2FwqJCD6MxJjpY4okiO0/sZPfJ3QDUjqtN96TuHkfkva+0/woNaznDyfed2se7O971OCJjIp8lniiyaNciX7lXi17Ex8Z7GE1oSIhN4JbUW3zbk1ZP8jAaY6JDQBOPiIwUkW0ikiUiE8rYX0tEZrr7V4pIB799j7n120RkhF/9HhH5TETWiUimX30TEVkkIjvcv40D2bdw5J940lulexhJaLmt620IAsDCnQvZdHSTxxEZE9kClnhEJBaYBNwEpAH3iEhaqWb3Azmq2hl4DnjaPTYNGAt0B0YCf3XPV+x6Ve2tqv7/9pwALFbVVGCxu21chUWFLNl9cX42SzwXJddLZnDbi8ti//GTP3oYjTGRL5BXPP2BLFXdpar5wAxgVKk2o4CpbnkOMFRExK2foap5qrobyHLPVxH/c00FRtdAHyLG6s9XczL3JADNEpvRvmF7jyMKLWN7jPWVX9/wug2tNiaAApl4WgP7/bYPuHVltlHVAuAU0LSSYxVYKCJrROQBvzYtVPWQWz4MtCgrKBF5QEQyRSQzOzv70nsVpt7Les9XTm+VjpPfTbHuzbvTo3kPAC4UXeDpj5/2OCJjIlc4Di64RlX74tzCGy8iXyndQJ1lJctcWlJVX1HVdFVNT0pKCnCoocM/8fRvU9nFY3T6Rs9v+Movr3mZfaf2eRiNMZErkInnINDWb7uNW1dmGxGJAxoCxys6VlWL/x4F3ubiLbgjItLSPVdL4GgN9iWsHT93nFUHVwEQIzH0a9nP44hC04DWA3xDzPML85m4dKLHERkTmQKZeFYDqSKSIiIJOIMFSs/EmAGMc8tjgCXu1UoGMNYd9ZYCpAKrRKSuiNQHEJG6wHBgYxnnGgf8O0D9CjuLdi1C3QvAK5pd4VuLxpQkInynz3d821M+ncKaz9cE5LvyCvKYvWk23/73t0mblEb9J+tT/8n6pDyfwl2z72La+mmcv3A+IN9tjNfiAnViVS0QkQeBBUAsMEVVN4nIRCBTVTOAycB0EckCTuAkJ9x2s4DNQAEwXlULRaQF8Lb7fCIOeENVi+8hPQXMEpH7gb3AXYHqW7iZnzXfV76q9VUeRhL6+rbsy4DWA1h5cCWK8uD8B/n4Ox8TIzXz32hn8s/w/IrneX7l82Sf+/IzxjP5Z9hzcg+zN8/m4QUP86uv/IrxV423d65MRBHnAiM6paena2ZmZuUNw1hhUSHJf0rm2LljALx4y4t0a9bN46hC24HTB/jOv7/DhaILADw34jl+MvAn1TqnqjJ9w3T+e9F/c+TskUs69soWVzLjzhlckXRFtWIwpqaIyJpSr7NckoBd8ZjQsPrz1b6k07h2Y7o07eJxRKGvTYM2jO0xlukbpgMw4f0JDE0ZSs8WPS/rfLtydvHdjO/ywZ4PStQ3r9uckZ1HclWrq2jXsB2xEsuhM4dYdXAV72x/h8NnDgOw4cgG0v+WzutffZ3R3ewtARP+wnFUm7kEc7fP9ZUHthlYY7eMIt19V95HapNUAPIK8xg1YxTZZy9t+H2RFvHCqhfo+WLPEkmnWZ1m/GzQz3jjq2/w7d7fpkfzHjSo1YC6CXXp3KQzX+/5daaNnsYP+v2A+BjnFtu5C+f46syvMmmVTeljwp/9WyjClU48pmriY+P5xZBfUDuuNgC7T+7mljdu4cT5E1U6fuuxrVz7j2v50fwfce7COcAZUfXvzrQAABZQSURBVHh397uZNnoaN6feTGxMbLnHx8fGc3ePu3np1pdoVb8VgO+Z07OfPFvN3hnjLUs8EWzfqX2sP7IegLiYOJsm5xK1b9SeXw75pW8et9Wfr+aaKdewOXtzucccO3eMRxc+Ss8Xe7J833JffYdGHZh08yR+kP4DEuMTqxxDx8YdmXTzJNKSLs429cjCR3hx9YuX0SNjQoMlngj2760XR5T3Se4T1auNXq7B7QaXGFiw5dgW+rzchx/N+xErD6zkdN5pjp49ysKdC/n+O9+nw5878KdP/kRBUQHgLC9+b897efnWly97UEej2o34w7A/cGXzK3114+eN583P3qxe54zxiI1qi+BRbUOnDfVNDPrwwIe5vevtHkcUvpbsXsJTy5/yjXSrip7Ne/LQgIfo1KRTjcRw/sJ5Hln4CFuObQEgPiaehfct5LoO19XI+Y2pquqOarMrngiVcz6HpXuW+rYHtR3kYTTh74aUG3j51pe5olnlQ5o7Nu7Ir6/9Nc+PfL7Gkg5AYnwiT934lG+C1wtFFxg9YzRbsrfU2HcYEww2nDpCzd0+l0J1lnG+otkVNKvTzOOIwl9K4xReuPkFPj30Ke/tfI9tx7Zx9OxR4mLiaFW/Fd2TunNDyg30aN4jYJOwNqjVgKdvfJrx88Zz/PxxTuWd4tY3b2XF/StIqhs9cw+a8GaJJ0LN2TLHVx7cbnAFLc2liJEY+rXqR79W3s1316JeC34/9Pc89N5D5BbksitnF1+d9VXev+99asXV8iwuY6rKbrVFoNN5p0vMRn1d++u8C8YERJemXfjFkF/4Rtwt37ec78/9PtH8zNaED0s8EShjWwb5hfkAdG7SmdYNSi+DZCLBNe2u4YF+F5ekmrp+Ks98/IyHERlTNZZ4ItDszbN95WvbX+thJCbQ7u5+NyM7j/RtT1g8gX9u/qeHERlTOUs8ESbnfE7J22w21DaiiQg/HfhTrmxx8R2fe9++lxUHVngYlTEVs8QTYeZsnuO7zda1aVfaNGjjcUQm0OJj45l43UTfb51bkMttb97GjuM7PI7MmLJZ4okwr3/2uq98Y8cbPYzEBFPD2g15cuiTvkX+jp07xojXRnDoi0MeR2bMl1niiSD7T+1n6V7npdEYieGGlBs8jsgEU5sGbfj9Db+nVqwzpHr3yd0Mf214lSc2NSZYLPFEkGnrp/nKfZP70iSxiYfRGC90b96dx6993Lf8xcajGxk+fTgnc096HJkxF1niiRBFWsSUdVN82yM6j/AwGuOlQW0HMWHwBN/2mkNrGD7drnxM6Aho4hGRkSKyTUSyRGRCGftrichMd/9KEengt+8xt36biIxw69qKyAcisllENonIQ37tfyMiB0Vknfu5OZB9CzUf7f2IXTm7AKiXUI8h7YZ4HJHx0rBOw3jk6kd826s/X831U6/3rWpqjJcClnhEJBaYBNwEpAH3iEhaqWb3Azmq2hl4DnjaPTYNGAt0B0YCf3XPVwA8oqppwEBgfKlzPqeqvd3PvED1LRS9uvZVX3loylCbOsVwa5dbeXjgw77tDUc2MGjyIBvtZjwXyCue/kCWqu5S1XxgBjCqVJtRwFS3PAcYKs7siqOAGaqap6q7gSygv6oeUtW1AKr6BbAFiPrX8o+ePVripdGbU6PqYs9U4Paut/PYNY/5nvnsPrmbgZMHlpi53JhgC2TiaQ3s99s+wJeThK+NqhYAp4CmVTnWvS3XB1jpV/2giGwQkSki0rj6XQgPUz6d4nt3p1uzbnRp2sXjiEwoGd5pOP97/f/6RrudOH+CYdOH8dfVf7W53YwnwnJwgYjUA/4J/ERVT7vVLwKdgN7AIeBP5Rz7gIhkikhmdnZ2UOINpMKiQl7KfMm3PbrbaA+jMaFqUNtBPDviWRrXdv577ELRBcbPG8+4f43jTP4Zj6Mz0SaQiecg0NZvu41bV2YbEYkDGgLHKzpWROJxks7rqvpWcQNVPaKqhapaBPwN51bfl6jqK6qarqrpSUnhv37J21vfZu+pvQA0rNWQ6ztc73FEJlSlJaXx4i0vktok1Vc3fcN0rvrbVXx66FMPIzPRJpCJZzWQKiIpIpKAM1ggo1SbDGCcWx4DLFHn2j8DGOuOeksBUoFV7vOfycAWVX3W/0Qi0tJv8w5gY433KMSoKn/4zx9827d1uY2E2AQPIzKhrkW9FvzfTf/HyE4XJxbdemwrA14dwFPLn6KwqNDD6Ey0CFjicZ/ZPAgswBkEMEtVN4nIRBG53W02GWgqIlnAT4EJ7rGbgFnAZuA9YLyqFgKDgfuAG8oYNv2MiHwmIhuA64GLw3ki1LJ9y1h1cBUA8THx3HHFHR5HZMJBrbha/Pyan/PzwT+ndlxtwLn19tjixxg8ZTCbszd7HKGJdBLNDxfT09M1MzPT6zAu28jXRrJg5wIAbkm9hUcHPepxRCbcHDh9gN8t+x1bj2311SXEJvCLIb9gwjUT7AralElE1qhq+uUeH5aDCwx8sv8TX9KJkRju6n6XxxGZcNSmQRteuOkFvtP7O8TFxAGQX5jPrz/8Nb1f6m3Drk1AWOIJU08sfcJXviHlBto1bOdhNCacxcbEcl+v+3jl1lfo1rSbr37LsS1cN/U67nv7Ppvl2tQoSzxh6IPdH5S42rnvyvs8jshEgpTGKbxw8wuMv2o8iXGJvvrXNrxGlxe68MzHz5BXkOdhhCZSWOIJM0VaxKOLLj7LGdZxmF3tmBoTGxPLmLQxTB09tcSy6Wfyz/Dz93/OFZOuYObGmfbiqakWSzxhZvr66aw9tBZwHgLf3+d+jyMykSipbhK/ue43/HHYH2nfsL2vfvfJ3Yz951j6v9qfRTsXWQIyl8USTxjJOZ/Dzxb9zLc9Jm0MSXXD/yVYE7r6terHq7e/yo/7/9i3uilA5ueZDH9tONf+41re3/W+JSBzSSzxhJHHFj9G9jlnmp/mdZtzb897PY7IRIO4mDjuuOIOXrvjNe7ufjfxMfG+fcv2LWPY9GEMeHUAMzfO5ELhBQ8jNeHC3uMJk/d4Fu5cyIjXLi7uNvG6iQxpb2vumODLPpvNtA3TmL9jPoVacqaD1vVb80C/B/h272/TtmHbcs5gwl113+OxxBMGiefE+RP0eqkXB04fAOCattcw8fqJODMIGeONw2cO8+bGN5m/Yz4Xikpe6QjCdR2u4+7udzOq2yiS6yV7FKUJBEs81RAOiadIixg1YxRzt88FnIlA/z7q7zROjJpVH0yIO3H+BP/a+i/mbp9LTm5OmW36tezHsI7DuLbDtQxoPcD++Q1zlniqIRwSz+8++h2//OCXvu3/vf5/uabdNR5GZEzZ8gvzWb5vOfN3zGft4bUUaVG5bVMapXBliyvp1qwbnRp3ol3DdrSq34rmdZvTJLEJ8bHx5R5rvGeJpxpCPfHM2DiDe/55j2/7rrS7+K+r/svDiIypmmPnjrF071KW71vOhiMbKkxCZakTX4cGtRpQN74udeLrUCe+DonxidSJr0O9hHo0SGhAw9oNaZLYhOZ1m9OqfivaNmhLSuMU6iXUC1CvTDFLPNUQyoln3o55jJ4x2nfvvE9yH54Z9oxvPi1jwsWZ/DOsO7yOtYfWsil7E7tydlFQVBCw72tVvxU9mvegd4vepLdK5+q2V9OmQZuAfV80ssRTDaGaeOZun8uYWWPIK3SmJ2nXsB0v3PQC9WvV9zgyY6ovvzCfvSf3sufUHg6ePsjnX3zOsXPHOHH+BDm5OZzJP3PJV0iVSWmUwg0pNzCi0wiGdRpGo9qNavT80cYSTzWEYuJ5OfNlxs8b7xummlwvmT+P+DMt6rXwODJjgkNVOV9wnnMXzpFbkEtuQS55BXnkFuaSe8HZPnvhLGfzz3Iq7xQ5uTkcP3ecI2ePcPjM4UqvpmIlliHthzC662hGdxtN+0btK2xvvswSTzWEUuI5k3+Gh+Y/xJR1U3x1yfWSeXb4s7Ss37KCI40xxQqLCjn4xUF25exi+/HtbDm2hS3ZW3x3D8qS3iqdMVeM4Wvdv0bHxh2DGG34ssRTDaGSeBbtXMQP3v0Bu3J2+epSm6Ty1I1P0SSxiYeRGRP+LhReYMuxLWR+nsmqg6vYdnxbuW37JPfhzivu5M60O+nWrFu57aKdJZ5q8DrxrDq4iieWPsG8HfNK1A/rOIyHBz5MYnxiOUcaYy7XifMn+Hj/xyzft5y1h9aWe2uua9Ou3NblNm7pcguD2g6y1Vj9WOKpBi8Sz4nzJ3h7y9tM/nQynxz4pMS+egn1eLD/gwzvONxmJTAmCM7kn+Hj/R+zdM9SMj/P/NIMDMXqJdTj2vbXcn2H6xnSfgi9k3tHdSIK6cQjIiOB54FY4FVVfarU/lrANKAfcBy4W1X3uPseA+4HCoEfq+qCis4pIinADKApsAa4T1XzK4ov0IlHVdl/ej8bjmxgxYEVfLjnQ1YcWPGl+a0EYUTnEXy3z3dpWqdpwOIxxpTvTP4ZVhxYwbJ9y1h1cBW5Bbnltk2ITaBXi170Tu5Nj+Y96NasG52bdKZtg7ZR8fJryCYeEYkFtgPDgAPAauAeVd3s1+aHwJWq+gMRGQvcoap3i0ga8CbQH2gFvA90cQ8r85wiMgt4S1VniMhLwHpVfbGiGC818ezO2c3MTc4MvHmFeeQV5HG+4DxnL5zldN5pcs7ncOzcMQ6fOeybRboy7Ru25+s9v24ja4wJIfkF+aw9tJYVB1aw9fjWSz5eEFrUa0HTxKY0TmxMw1oNqV+rPnXj65IYl0jtuNrUiqtFfEw88bHxxEossTGxvr+CMLTjUNKS0gLQu+qrbuIJ5NuI/YEsVd0FICIzgFHAZr82o4DfuOU5wAvi3GMaBcxQ1Txgt4hkueejrHOKyBbgBuDrbpup7nkrTDyXImNbBnfMvKPG3y/Ye2ovTy5/skbPaYzxlqIcPnOYw2cOV+s8z498nh8P+HENRRU6Apl4WgP7/bYPAAPKa6OqBSJyCudWWWtgRaljW7vlss7ZFDipqgVltC9BRB4AHnA380RkY5V604DW1CW8ptg9B9TxOogAiuT+RXLfwPpXRQ/95aGTD514aGf1z1Tjulbn4Kibf0VVXwFeARCRzOpcLoY6EcnUk9a/cBTJfQPrX7gTkWo9HA/kCqQHAf+VoNq4dWW2EZE4oCHOIIPyji2v/jjQyD1Hed9ljDEmBAQy8awGUkUkRUQSgLFARqk2GcA4tzwGWKLOaIcMYKyI1HJHq6UCq8o7p3vMB+45cM/57wD2zRhjzGUK2K0295nNg8ACnKHPU1R1k4hMBDJVNQOYDEx3Bw+cwEkkuO1m4QxEKADGqzpjkMs6p/uVPwdmiMhvgU/dc1fmlRrqbqiy/oWvSO4bWP/CXbX6F9UvkBpjjAm+QN5qM8YYY77EEo8xxpigitrEIyIjRWSbiGSJyASv46kuEdkjIp+JyLrioY4i0kREFonIDvdvY6/jrCoRmSIiR/3fsyqvP+L4i/tbbhCRvt5FXjXl9O83InLQ/Q3XicjNfvsec/u3TURGeBN11YlIWxH5QEQ2i8gmEXnIrQ/737CCvkXE7ycitUVklYisd/v3hFufIiIr3X7MdAd44Q4Cm+nWrxSRDpV+iapG3QdnYMJOoCOQAKwH0ryOq5p92gM0K1X3DDDBLU8AnvY6zkvoz1eAvsDGyvoD3AzMBwQYCKz0Ov7L7N9vgEfLaJvm/jNaC0hx/9mN9boPlfSvJdDXLdfHmeoqLRJ+wwr6FhG/n/sb1HPL8cBK9zeZBYx1618C/sst/xB4yS2PBWZW9h3ResXjm85HnYlEi6fziTSjcKYPwv072sNYLomqfoQz0tFfef0ZBUxTxwqcd7pCevW8cvpXHt8UUqq6G/CfQiokqeohVV3rlr8AtuDMJhL2v2EFfStPWP1+7m9wxt2Mdz+KMy3ZHLe+9G9X/JvOAYa6U5+VK1oTT1nT+VT0D044UGChiKxxpwUCaKGqh9zyYSDc188urz+R9Hs+6N5qmuJ3azSs++feeumD81/OEfUbluobRMjvJyKxIrIOOAoswrlKK29ashJTnwHFU5+VK1oTTyS6RlX7AjcB40XkK/471bkOjpix85HWH9eLQCegN3AI+JO34VSfiNQD/gn8RFVP++8L99+wjL5FzO+nqoWq2htnFpj+QI0uxxqtiacq0/mEFVU96P49CryN8w/LkeLbFe7fo95FWCPK609E/J6qesT9P3wR8Dcu3o4Jy/6JSDzOv5hfV9W33OqI+A3L6luk/X4AqnoSZ1aYqyl/WrLypj4rV7QmnqpM5xM2RKSuiNQvLgPDgY2UnJIoEqYRKq8/GcA33ZFRA4FTfrdzwkapZxp34PyGUP4UUiHLvcc/Gdiiqs/67Qr737C8vkXK7yciSSLSyC0n4qx/toXypyUrb+qz8nk9gsKrD84omu049y5/4XU81exLR5xRM+uBTcX9wbnPuhjYgbOYXhOvY72EPr2Jc7viAs795PvL6w/OKJxJ7m/5GZDudfyX2b/pbvwb3P8zt/Rr/wu3f9uAm7yOvwr9uwbnNtoGYJ37uTkSfsMK+hYRvx9wJc60Yxtwkufjbn1HnISZBcwGarn1td3tLHd/x8q+w6bMMcYYE1TReqvNGGOMRyzxGGOMCSpLPMYYY4LKEo8xxpigssRjjDEmqCzxGFMFItLBfyZpY8zls8RjTID5ve0d0sIlThP+LPEYU3WxIvI3d42ShSKSKCK9RWSFOzHk237ry3woIn8WZ22kh0TkayKy0V3j5CO3TayI/EFEVrvHf9+tv05EPhKRd931W14SkRh33z3irLu0UUSeduu+JiLPuuWHRGSXW+4oIh+75X4istSdRHaB37Q1JeIM7v+cJlrZf+EYU3WpwD2q+j0RmQXcCfw38CNVXSoiE4FfAz9x2yeoajqAiHwGjFDVg8XTkeDMVnBKVa8SkVrAxyKy0N3XH2cdl73Ae8BXReQ/wNNAPyAHZzby0cAyNw6AIcBxEWntlj9y5xX7P2CUqmaLyN3A74DvlI7TmGCwxGNM1e1W1XVueQ3OTMSNVHWpWzcVZ+qQYjP9yh8D/3ATVvGEmcOBK0WkeP6rhjjJLR9YparFVy5v4kzTcgH4UFWz3frXga+o6r9EpJ47X19b4A2cheaGuN/VFegBLHKXSYnFma6nrDiNCThLPMZUXZ5fuRBoVF5D19nigqr+QEQGALcAa0SkH878ZD9S1QX+B4nIdXx5uYDK5rb6D/BtnLnAluFczVwNPAK0Azap6tWVxWlMMNgzHmMu3ykgR0SGuNv3AUvLaiginVR1pao+DmTjXJksAP7LvRWGiHRxZxcH6O/Onh4D3A0sx5mA8VoRaSYiscA9ft+3DHgU+AhngsfrgTxVPYWTjJJE5Gr3e+JFpHvN/c9gzKWxKx5jqmcc8JKI1AF24Vx1lOUPIpKKc5WzGGcm8Q1AB2CtO9V+NheXE14NvAB0xpmO/m1VLRKRCe62AO+qavHU9MtwktlHqlooIvuBrQCqmu/ezvuLiDTE+f/9n3FmMjcm6Gx2amNCjHur7VFVvdXrWIwJBLvVZowxJqjsiscYY0xQ2RWPMcaYoLLEY4wxJqgs8RhjjAkqSzzGGGOCyhKPMcaYoPp/jEFttrHxBSkAAAAASUVORK5CYII=\n",
                "text/plain": "<Figure size 432x288 with 1 Axes>"
              }
            ],
            "_view_module": "@jupyter-widgets/output",
            "_model_module_version": "1.0.0",
            "_view_count": null,
            "_view_module_version": "1.0.0",
            "layout": "IPY_MODEL_5aad110f79854dffa5c4a4ad5b0b884d",
            "_model_module": "@jupyter-widgets/output"
          }
        },
        "812ead97fa9848bc81e48191511b11ba": {
          "model_module": "@jupyter-widgets/controls",
          "model_name": "DescriptionStyleModel",
          "state": {
            "_view_name": "StyleView",
            "_model_name": "DescriptionStyleModel",
            "description_width": "",
            "_view_module": "@jupyter-widgets/base",
            "_model_module_version": "1.5.0",
            "_view_count": null,
            "_view_module_version": "1.2.0",
            "_model_module": "@jupyter-widgets/controls"
          }
        },
        "5672b92a12a54daea86897d6d2e2f68e": {
          "model_module": "@jupyter-widgets/base",
          "model_name": "LayoutModel",
          "state": {
            "_view_name": "LayoutView",
            "grid_template_rows": null,
            "right": null,
            "justify_content": null,
            "_view_module": "@jupyter-widgets/base",
            "overflow": null,
            "_model_module_version": "1.2.0",
            "_view_count": null,
            "flex_flow": null,
            "width": null,
            "min_width": null,
            "border": null,
            "align_items": null,
            "bottom": null,
            "_model_module": "@jupyter-widgets/base",
            "top": null,
            "grid_column": null,
            "overflow_y": null,
            "overflow_x": null,
            "grid_auto_flow": null,
            "grid_area": null,
            "grid_template_columns": null,
            "flex": null,
            "_model_name": "LayoutModel",
            "justify_items": null,
            "grid_row": null,
            "max_height": null,
            "align_content": null,
            "visibility": null,
            "align_self": null,
            "height": null,
            "min_height": null,
            "padding": null,
            "grid_auto_rows": null,
            "grid_gap": null,
            "max_width": null,
            "order": null,
            "_view_module_version": "1.2.0",
            "grid_template_areas": null,
            "object_position": null,
            "object_fit": null,
            "grid_auto_columns": null,
            "margin": null,
            "display": null,
            "left": null
          }
        },
        "12896c06f76a4f5c8ad181547ec67cfa": {
          "model_module": "@jupyter-widgets/controls",
          "model_name": "DescriptionStyleModel",
          "state": {
            "_view_name": "StyleView",
            "_model_name": "DescriptionStyleModel",
            "description_width": "",
            "_view_module": "@jupyter-widgets/base",
            "_model_module_version": "1.5.0",
            "_view_count": null,
            "_view_module_version": "1.2.0",
            "_model_module": "@jupyter-widgets/controls"
          }
        },
        "a6446c5f072b481db3c36a9912d2cd0d": {
          "model_module": "@jupyter-widgets/base",
          "model_name": "LayoutModel",
          "state": {
            "_view_name": "LayoutView",
            "grid_template_rows": null,
            "right": null,
            "justify_content": null,
            "_view_module": "@jupyter-widgets/base",
            "overflow": null,
            "_model_module_version": "1.2.0",
            "_view_count": null,
            "flex_flow": null,
            "width": null,
            "min_width": null,
            "border": null,
            "align_items": null,
            "bottom": null,
            "_model_module": "@jupyter-widgets/base",
            "top": null,
            "grid_column": null,
            "overflow_y": null,
            "overflow_x": null,
            "grid_auto_flow": null,
            "grid_area": null,
            "grid_template_columns": null,
            "flex": null,
            "_model_name": "LayoutModel",
            "justify_items": null,
            "grid_row": null,
            "max_height": null,
            "align_content": null,
            "visibility": null,
            "align_self": null,
            "height": null,
            "min_height": null,
            "padding": null,
            "grid_auto_rows": null,
            "grid_gap": null,
            "max_width": null,
            "order": null,
            "_view_module_version": "1.2.0",
            "grid_template_areas": null,
            "object_position": null,
            "object_fit": null,
            "grid_auto_columns": null,
            "margin": null,
            "display": null,
            "left": null
          }
        },
        "5aad110f79854dffa5c4a4ad5b0b884d": {
          "model_module": "@jupyter-widgets/base",
          "model_name": "LayoutModel",
          "state": {
            "_view_name": "LayoutView",
            "grid_template_rows": null,
            "right": null,
            "justify_content": null,
            "_view_module": "@jupyter-widgets/base",
            "overflow": null,
            "_model_module_version": "1.2.0",
            "_view_count": null,
            "flex_flow": null,
            "width": null,
            "min_width": null,
            "border": null,
            "align_items": null,
            "bottom": null,
            "_model_module": "@jupyter-widgets/base",
            "top": null,
            "grid_column": null,
            "overflow_y": null,
            "overflow_x": null,
            "grid_auto_flow": null,
            "grid_area": null,
            "grid_template_columns": null,
            "flex": null,
            "_model_name": "LayoutModel",
            "justify_items": null,
            "grid_row": null,
            "max_height": null,
            "align_content": null,
            "visibility": null,
            "align_self": null,
            "height": null,
            "min_height": null,
            "padding": null,
            "grid_auto_rows": null,
            "grid_gap": null,
            "max_width": null,
            "order": null,
            "_view_module_version": "1.2.0",
            "grid_template_areas": null,
            "object_position": null,
            "object_fit": null,
            "grid_auto_columns": null,
            "margin": null,
            "display": null,
            "left": null
          }
        },
        "dddddea913614007a6cdfa18e8e174f3": {
          "model_module": "@jupyter-widgets/controls",
          "model_name": "VBoxModel",
          "state": {
            "_view_name": "VBoxView",
            "_dom_classes": [
              "widget-interact"
            ],
            "_model_name": "VBoxModel",
            "_view_module": "@jupyter-widgets/controls",
            "_model_module_version": "1.5.0",
            "_view_count": null,
            "_view_module_version": "1.5.0",
            "box_style": "",
            "layout": "IPY_MODEL_b2b55cfd54f34a01ab78dd0705c4c612",
            "_model_module": "@jupyter-widgets/controls",
            "children": [
              "IPY_MODEL_e6147e2ca96d49a092ddd0fbd82f38b0",
              "IPY_MODEL_869c7e96e4b14e1f925f58a41042b013",
              "IPY_MODEL_a0ee3e43a02b402bb0a891ade74b86d7"
            ]
          }
        },
        "b2b55cfd54f34a01ab78dd0705c4c612": {
          "model_module": "@jupyter-widgets/base",
          "model_name": "LayoutModel",
          "state": {
            "_view_name": "LayoutView",
            "grid_template_rows": null,
            "right": null,
            "justify_content": null,
            "_view_module": "@jupyter-widgets/base",
            "overflow": null,
            "_model_module_version": "1.2.0",
            "_view_count": null,
            "flex_flow": null,
            "width": null,
            "min_width": null,
            "border": null,
            "align_items": null,
            "bottom": null,
            "_model_module": "@jupyter-widgets/base",
            "top": null,
            "grid_column": null,
            "overflow_y": null,
            "overflow_x": null,
            "grid_auto_flow": null,
            "grid_area": null,
            "grid_template_columns": null,
            "flex": null,
            "_model_name": "LayoutModel",
            "justify_items": null,
            "grid_row": null,
            "max_height": null,
            "align_content": null,
            "visibility": null,
            "align_self": null,
            "height": null,
            "min_height": null,
            "padding": null,
            "grid_auto_rows": null,
            "grid_gap": null,
            "max_width": null,
            "order": null,
            "_view_module_version": "1.2.0",
            "grid_template_areas": null,
            "object_position": null,
            "object_fit": null,
            "grid_auto_columns": null,
            "margin": null,
            "display": null,
            "left": null
          }
        },
        "e6147e2ca96d49a092ddd0fbd82f38b0": {
          "model_module": "@jupyter-widgets/controls",
          "model_name": "CheckboxModel",
          "state": {
            "_view_name": "CheckboxView",
            "style": "IPY_MODEL_6f2d3ae6585441bda90e5b2622ca29e5",
            "_dom_classes": [],
            "description": "fill",
            "_model_name": "CheckboxModel",
            "_view_module": "@jupyter-widgets/controls",
            "_model_module_version": "1.5.0",
            "value": true,
            "_view_count": null,
            "disabled": false,
            "_view_module_version": "1.5.0",
            "indent": true,
            "description_tooltip": null,
            "_model_module": "@jupyter-widgets/controls",
            "layout": "IPY_MODEL_29df4b4158ec49dda0247f635ce0c058"
          }
        },
        "869c7e96e4b14e1f925f58a41042b013": {
          "model_module": "@jupyter-widgets/controls",
          "model_name": "DropdownModel",
          "state": {
            "_options_labels": [
              "blue",
              "red",
              "green",
              "orange"
            ],
            "_view_name": "DropdownView",
            "style": "IPY_MODEL_d17a3f5cf110473c8208e24b9f97f717",
            "_dom_classes": [],
            "description": "color",
            "_model_name": "DropdownModel",
            "index": 2,
            "_view_module": "@jupyter-widgets/controls",
            "_model_module_version": "1.5.0",
            "_view_count": null,
            "disabled": false,
            "_view_module_version": "1.5.0",
            "description_tooltip": null,
            "_model_module": "@jupyter-widgets/controls",
            "layout": "IPY_MODEL_b4f7c4395ea4497bbf258eb804ebf01d"
          }
        },
        "a0ee3e43a02b402bb0a891ade74b86d7": {
          "model_module": "@jupyter-widgets/output",
          "model_name": "OutputModel",
          "state": {
            "_view_name": "OutputView",
            "msg_id": "",
            "_dom_classes": [],
            "_model_name": "OutputModel",
            "outputs": [
              {
                "output_type": "display_data",
                "metadata": {
                  "tags": [],
                  "needs_background": "light"
                },
                "image/png": "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\n",
                "text/plain": "<Figure size 432x288 with 1 Axes>"
              }
            ],
            "_view_module": "@jupyter-widgets/output",
            "_model_module_version": "1.0.0",
            "_view_count": null,
            "_view_module_version": "1.0.0",
            "layout": "IPY_MODEL_e4967adb1dd945f581da5f8334764358",
            "_model_module": "@jupyter-widgets/output"
          }
        },
        "6f2d3ae6585441bda90e5b2622ca29e5": {
          "model_module": "@jupyter-widgets/controls",
          "model_name": "DescriptionStyleModel",
          "state": {
            "_view_name": "StyleView",
            "_model_name": "DescriptionStyleModel",
            "description_width": "",
            "_view_module": "@jupyter-widgets/base",
            "_model_module_version": "1.5.0",
            "_view_count": null,
            "_view_module_version": "1.2.0",
            "_model_module": "@jupyter-widgets/controls"
          }
        },
        "29df4b4158ec49dda0247f635ce0c058": {
          "model_module": "@jupyter-widgets/base",
          "model_name": "LayoutModel",
          "state": {
            "_view_name": "LayoutView",
            "grid_template_rows": null,
            "right": null,
            "justify_content": null,
            "_view_module": "@jupyter-widgets/base",
            "overflow": null,
            "_model_module_version": "1.2.0",
            "_view_count": null,
            "flex_flow": null,
            "width": null,
            "min_width": null,
            "border": null,
            "align_items": null,
            "bottom": null,
            "_model_module": "@jupyter-widgets/base",
            "top": null,
            "grid_column": null,
            "overflow_y": null,
            "overflow_x": null,
            "grid_auto_flow": null,
            "grid_area": null,
            "grid_template_columns": null,
            "flex": null,
            "_model_name": "LayoutModel",
            "justify_items": null,
            "grid_row": null,
            "max_height": null,
            "align_content": null,
            "visibility": null,
            "align_self": null,
            "height": null,
            "min_height": null,
            "padding": null,
            "grid_auto_rows": null,
            "grid_gap": null,
            "max_width": null,
            "order": null,
            "_view_module_version": "1.2.0",
            "grid_template_areas": null,
            "object_position": null,
            "object_fit": null,
            "grid_auto_columns": null,
            "margin": null,
            "display": null,
            "left": null
          }
        },
        "d17a3f5cf110473c8208e24b9f97f717": {
          "model_module": "@jupyter-widgets/controls",
          "model_name": "DescriptionStyleModel",
          "state": {
            "_view_name": "StyleView",
            "_model_name": "DescriptionStyleModel",
            "description_width": "",
            "_view_module": "@jupyter-widgets/base",
            "_model_module_version": "1.5.0",
            "_view_count": null,
            "_view_module_version": "1.2.0",
            "_model_module": "@jupyter-widgets/controls"
          }
        },
        "b4f7c4395ea4497bbf258eb804ebf01d": {
          "model_module": "@jupyter-widgets/base",
          "model_name": "LayoutModel",
          "state": {
            "_view_name": "LayoutView",
            "grid_template_rows": null,
            "right": null,
            "justify_content": null,
            "_view_module": "@jupyter-widgets/base",
            "overflow": null,
            "_model_module_version": "1.2.0",
            "_view_count": null,
            "flex_flow": null,
            "width": null,
            "min_width": null,
            "border": null,
            "align_items": null,
            "bottom": null,
            "_model_module": "@jupyter-widgets/base",
            "top": null,
            "grid_column": null,
            "overflow_y": null,
            "overflow_x": null,
            "grid_auto_flow": null,
            "grid_area": null,
            "grid_template_columns": null,
            "flex": null,
            "_model_name": "LayoutModel",
            "justify_items": null,
            "grid_row": null,
            "max_height": null,
            "align_content": null,
            "visibility": null,
            "align_self": null,
            "height": null,
            "min_height": null,
            "padding": null,
            "grid_auto_rows": null,
            "grid_gap": null,
            "max_width": null,
            "order": null,
            "_view_module_version": "1.2.0",
            "grid_template_areas": null,
            "object_position": null,
            "object_fit": null,
            "grid_auto_columns": null,
            "margin": null,
            "display": null,
            "left": null
          }
        },
        "e4967adb1dd945f581da5f8334764358": {
          "model_module": "@jupyter-widgets/base",
          "model_name": "LayoutModel",
          "state": {
            "_view_name": "LayoutView",
            "grid_template_rows": null,
            "right": null,
            "justify_content": null,
            "_view_module": "@jupyter-widgets/base",
            "overflow": null,
            "_model_module_version": "1.2.0",
            "_view_count": null,
            "flex_flow": null,
            "width": null,
            "min_width": null,
            "border": null,
            "align_items": null,
            "bottom": null,
            "_model_module": "@jupyter-widgets/base",
            "top": null,
            "grid_column": null,
            "overflow_y": null,
            "overflow_x": null,
            "grid_auto_flow": null,
            "grid_area": null,
            "grid_template_columns": null,
            "flex": null,
            "_model_name": "LayoutModel",
            "justify_items": null,
            "grid_row": null,
            "max_height": null,
            "align_content": null,
            "visibility": null,
            "align_self": null,
            "height": null,
            "min_height": null,
            "padding": null,
            "grid_auto_rows": null,
            "grid_gap": null,
            "max_width": null,
            "order": null,
            "_view_module_version": "1.2.0",
            "grid_template_areas": null,
            "object_position": null,
            "object_fit": null,
            "grid_auto_columns": null,
            "margin": null,
            "display": null,
            "left": null
          }
        },
        "a018b3640a7c4645ad5d42ac29c1d5f4": {
          "model_module": "@jupyter-widgets/controls",
          "model_name": "VBoxModel",
          "state": {
            "_view_name": "VBoxView",
            "_dom_classes": [
              "widget-interact"
            ],
            "_model_name": "VBoxModel",
            "_view_module": "@jupyter-widgets/controls",
            "_model_module_version": "1.5.0",
            "_view_count": null,
            "_view_module_version": "1.5.0",
            "box_style": "",
            "layout": "IPY_MODEL_be882cbafa3643d39d61574e4b292aa6",
            "_model_module": "@jupyter-widgets/controls",
            "children": [
              "IPY_MODEL_314b58fc09ff4496b073a21ea5658c5c",
              "IPY_MODEL_5fbde20a64b246a2bb4c4aa072d08c6a"
            ]
          }
        },
        "be882cbafa3643d39d61574e4b292aa6": {
          "model_module": "@jupyter-widgets/base",
          "model_name": "LayoutModel",
          "state": {
            "_view_name": "LayoutView",
            "grid_template_rows": null,
            "right": null,
            "justify_content": null,
            "_view_module": "@jupyter-widgets/base",
            "overflow": null,
            "_model_module_version": "1.2.0",
            "_view_count": null,
            "flex_flow": null,
            "width": null,
            "min_width": null,
            "border": null,
            "align_items": null,
            "bottom": null,
            "_model_module": "@jupyter-widgets/base",
            "top": null,
            "grid_column": null,
            "overflow_y": null,
            "overflow_x": null,
            "grid_auto_flow": null,
            "grid_area": null,
            "grid_template_columns": null,
            "flex": null,
            "_model_name": "LayoutModel",
            "justify_items": null,
            "grid_row": null,
            "max_height": null,
            "align_content": null,
            "visibility": null,
            "align_self": null,
            "height": null,
            "min_height": null,
            "padding": null,
            "grid_auto_rows": null,
            "grid_gap": null,
            "max_width": null,
            "order": null,
            "_view_module_version": "1.2.0",
            "grid_template_areas": null,
            "object_position": null,
            "object_fit": null,
            "grid_auto_columns": null,
            "margin": null,
            "display": null,
            "left": null
          }
        },
        "314b58fc09ff4496b073a21ea5658c5c": {
          "model_module": "@jupyter-widgets/controls",
          "model_name": "PlayModel",
          "state": {
            "_view_name": "PlayView",
            "style": "IPY_MODEL_dc4e702085f44ce09343973ab5f13d74",
            "interval": 100,
            "_dom_classes": [],
            "description": "bw",
            "_model_name": "PlayModel",
            "max": 20,
            "_view_module": "@jupyter-widgets/controls",
            "_model_module_version": "1.5.0",
            "value": 1,
            "_view_count": null,
            "disabled": false,
            "_repeat": true,
            "_view_module_version": "1.5.0",
            "show_repeat": true,
            "min": 1,
            "_playing": false,
            "step": 1,
            "description_tooltip": null,
            "_model_module": "@jupyter-widgets/controls",
            "layout": "IPY_MODEL_a83bf04ca92f49f5951125993cae542c"
          }
        },
        "5fbde20a64b246a2bb4c4aa072d08c6a": {
          "model_module": "@jupyter-widgets/output",
          "model_name": "OutputModel",
          "state": {
            "_view_name": "OutputView",
            "msg_id": "",
            "_dom_classes": [],
            "_model_name": "OutputModel",
            "outputs": [
              {
                "output_type": "display_data",
                "metadata": {
                  "tags": [],
                  "needs_background": "light"
                },
                "image/png": "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\n",
                "text/plain": "<Figure size 432x288 with 1 Axes>"
              }
            ],
            "_view_module": "@jupyter-widgets/output",
            "_model_module_version": "1.0.0",
            "_view_count": null,
            "_view_module_version": "1.0.0",
            "layout": "IPY_MODEL_f795b18bc87b4f7484cefb60ce8a4bcf",
            "_model_module": "@jupyter-widgets/output"
          }
        },
        "dc4e702085f44ce09343973ab5f13d74": {
          "model_module": "@jupyter-widgets/controls",
          "model_name": "DescriptionStyleModel",
          "state": {
            "_view_name": "StyleView",
            "_model_name": "DescriptionStyleModel",
            "description_width": "",
            "_view_module": "@jupyter-widgets/base",
            "_model_module_version": "1.5.0",
            "_view_count": null,
            "_view_module_version": "1.2.0",
            "_model_module": "@jupyter-widgets/controls"
          }
        },
        "a83bf04ca92f49f5951125993cae542c": {
          "model_module": "@jupyter-widgets/base",
          "model_name": "LayoutModel",
          "state": {
            "_view_name": "LayoutView",
            "grid_template_rows": null,
            "right": null,
            "justify_content": null,
            "_view_module": "@jupyter-widgets/base",
            "overflow": null,
            "_model_module_version": "1.2.0",
            "_view_count": null,
            "flex_flow": null,
            "width": null,
            "min_width": null,
            "border": null,
            "align_items": null,
            "bottom": null,
            "_model_module": "@jupyter-widgets/base",
            "top": null,
            "grid_column": null,
            "overflow_y": null,
            "overflow_x": null,
            "grid_auto_flow": null,
            "grid_area": null,
            "grid_template_columns": null,
            "flex": null,
            "_model_name": "LayoutModel",
            "justify_items": null,
            "grid_row": null,
            "max_height": null,
            "align_content": null,
            "visibility": null,
            "align_self": null,
            "height": null,
            "min_height": null,
            "padding": null,
            "grid_auto_rows": null,
            "grid_gap": null,
            "max_width": null,
            "order": null,
            "_view_module_version": "1.2.0",
            "grid_template_areas": null,
            "object_position": null,
            "object_fit": null,
            "grid_auto_columns": null,
            "margin": null,
            "display": null,
            "left": null
          }
        },
        "f795b18bc87b4f7484cefb60ce8a4bcf": {
          "model_module": "@jupyter-widgets/base",
          "model_name": "LayoutModel",
          "state": {
            "_view_name": "LayoutView",
            "grid_template_rows": null,
            "right": null,
            "justify_content": null,
            "_view_module": "@jupyter-widgets/base",
            "overflow": null,
            "_model_module_version": "1.2.0",
            "_view_count": null,
            "flex_flow": null,
            "width": null,
            "min_width": null,
            "border": null,
            "align_items": null,
            "bottom": null,
            "_model_module": "@jupyter-widgets/base",
            "top": null,
            "grid_column": null,
            "overflow_y": null,
            "overflow_x": null,
            "grid_auto_flow": null,
            "grid_area": null,
            "grid_template_columns": null,
            "flex": null,
            "_model_name": "LayoutModel",
            "justify_items": null,
            "grid_row": null,
            "max_height": null,
            "align_content": null,
            "visibility": null,
            "align_self": null,
            "height": null,
            "min_height": null,
            "padding": null,
            "grid_auto_rows": null,
            "grid_gap": null,
            "max_width": null,
            "order": null,
            "_view_module_version": "1.2.0",
            "grid_template_areas": null,
            "object_position": null,
            "object_fit": null,
            "grid_auto_columns": null,
            "margin": null,
            "display": null,
            "left": null
          }
        },
        "fd2c50d6558b4324a771b77c275e8c0b": {
          "model_module": "@jupyter-widgets/controls",
          "model_name": "VBoxModel",
          "state": {
            "_view_name": "VBoxView",
            "_dom_classes": [
              "widget-interact"
            ],
            "_model_name": "VBoxModel",
            "_view_module": "@jupyter-widgets/controls",
            "_model_module_version": "1.5.0",
            "_view_count": null,
            "_view_module_version": "1.5.0",
            "box_style": "",
            "layout": "IPY_MODEL_4798b5d0578b4a2195a68bb7a40177ec",
            "_model_module": "@jupyter-widgets/controls",
            "children": [
              "IPY_MODEL_933c33ba99004f43a7971dffefc991c0",
              "IPY_MODEL_74f88c32a71b4fac8af782d63aab6684"
            ]
          }
        },
        "4798b5d0578b4a2195a68bb7a40177ec": {
          "model_module": "@jupyter-widgets/base",
          "model_name": "LayoutModel",
          "state": {
            "_view_name": "LayoutView",
            "grid_template_rows": null,
            "right": null,
            "justify_content": null,
            "_view_module": "@jupyter-widgets/base",
            "overflow": null,
            "_model_module_version": "1.2.0",
            "_view_count": null,
            "flex_flow": null,
            "width": null,
            "min_width": null,
            "border": null,
            "align_items": null,
            "bottom": null,
            "_model_module": "@jupyter-widgets/base",
            "top": null,
            "grid_column": null,
            "overflow_y": null,
            "overflow_x": null,
            "grid_auto_flow": null,
            "grid_area": null,
            "grid_template_columns": null,
            "flex": null,
            "_model_name": "LayoutModel",
            "justify_items": null,
            "grid_row": null,
            "max_height": null,
            "align_content": null,
            "visibility": null,
            "align_self": null,
            "height": null,
            "min_height": null,
            "padding": null,
            "grid_auto_rows": null,
            "grid_gap": null,
            "max_width": null,
            "order": null,
            "_view_module_version": "1.2.0",
            "grid_template_areas": null,
            "object_position": null,
            "object_fit": null,
            "grid_auto_columns": null,
            "margin": null,
            "display": null,
            "left": null
          }
        },
        "933c33ba99004f43a7971dffefc991c0": {
          "model_module": "@jupyter-widgets/controls",
          "model_name": "PlayModel",
          "state": {
            "_view_name": "PlayView",
            "style": "IPY_MODEL_0cbd9af17a054e718a529586248729de",
            "interval": 100,
            "_dom_classes": [],
            "description": "bw",
            "_model_name": "PlayModel",
            "max": 20,
            "_view_module": "@jupyter-widgets/controls",
            "_model_module_version": "1.5.0",
            "value": 1,
            "_view_count": null,
            "disabled": false,
            "_repeat": false,
            "_view_module_version": "1.5.0",
            "show_repeat": true,
            "min": 1,
            "_playing": false,
            "step": 1,
            "description_tooltip": null,
            "_model_module": "@jupyter-widgets/controls",
            "layout": "IPY_MODEL_ae00c69b212a408cb8ab3b627ad047d4"
          }
        },
        "74f88c32a71b4fac8af782d63aab6684": {
          "model_module": "@jupyter-widgets/output",
          "model_name": "OutputModel",
          "state": {
            "_view_name": "OutputView",
            "msg_id": "",
            "_dom_classes": [],
            "_model_name": "OutputModel",
            "outputs": [
              {
                "output_type": "display_data",
                "metadata": {
                  "tags": [],
                  "needs_background": "light"
                },
                "image/png": "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\n",
                "text/plain": "<Figure size 432x288 with 1 Axes>"
              }
            ],
            "_view_module": "@jupyter-widgets/output",
            "_model_module_version": "1.0.0",
            "_view_count": null,
            "_view_module_version": "1.0.0",
            "layout": "IPY_MODEL_62c7760933dc48418b3118dc81397ba3",
            "_model_module": "@jupyter-widgets/output"
          }
        },
        "0cbd9af17a054e718a529586248729de": {
          "model_module": "@jupyter-widgets/controls",
          "model_name": "DescriptionStyleModel",
          "state": {
            "_view_name": "StyleView",
            "_model_name": "DescriptionStyleModel",
            "description_width": "",
            "_view_module": "@jupyter-widgets/base",
            "_model_module_version": "1.5.0",
            "_view_count": null,
            "_view_module_version": "1.2.0",
            "_model_module": "@jupyter-widgets/controls"
          }
        },
        "ae00c69b212a408cb8ab3b627ad047d4": {
          "model_module": "@jupyter-widgets/base",
          "model_name": "LayoutModel",
          "state": {
            "_view_name": "LayoutView",
            "grid_template_rows": null,
            "right": null,
            "justify_content": null,
            "_view_module": "@jupyter-widgets/base",
            "overflow": null,
            "_model_module_version": "1.2.0",
            "_view_count": null,
            "flex_flow": null,
            "width": null,
            "min_width": null,
            "border": null,
            "align_items": null,
            "bottom": null,
            "_model_module": "@jupyter-widgets/base",
            "top": null,
            "grid_column": null,
            "overflow_y": null,
            "overflow_x": null,
            "grid_auto_flow": null,
            "grid_area": null,
            "grid_template_columns": null,
            "flex": null,
            "_model_name": "LayoutModel",
            "justify_items": null,
            "grid_row": null,
            "max_height": null,
            "align_content": null,
            "visibility": null,
            "align_self": null,
            "height": null,
            "min_height": null,
            "padding": null,
            "grid_auto_rows": null,
            "grid_gap": null,
            "max_width": null,
            "order": null,
            "_view_module_version": "1.2.0",
            "grid_template_areas": null,
            "object_position": null,
            "object_fit": null,
            "grid_auto_columns": null,
            "margin": null,
            "display": null,
            "left": null
          }
        },
        "62c7760933dc48418b3118dc81397ba3": {
          "model_module": "@jupyter-widgets/base",
          "model_name": "LayoutModel",
          "state": {
            "_view_name": "LayoutView",
            "grid_template_rows": null,
            "right": null,
            "justify_content": null,
            "_view_module": "@jupyter-widgets/base",
            "overflow": null,
            "_model_module_version": "1.2.0",
            "_view_count": null,
            "flex_flow": null,
            "width": null,
            "min_width": null,
            "border": null,
            "align_items": null,
            "bottom": null,
            "_model_module": "@jupyter-widgets/base",
            "top": null,
            "grid_column": null,
            "overflow_y": null,
            "overflow_x": null,
            "grid_auto_flow": null,
            "grid_area": null,
            "grid_template_columns": null,
            "flex": null,
            "_model_name": "LayoutModel",
            "justify_items": null,
            "grid_row": null,
            "max_height": null,
            "align_content": null,
            "visibility": null,
            "align_self": null,
            "height": null,
            "min_height": null,
            "padding": null,
            "grid_auto_rows": null,
            "grid_gap": null,
            "max_width": null,
            "order": null,
            "_view_module_version": "1.2.0",
            "grid_template_areas": null,
            "object_position": null,
            "object_fit": null,
            "grid_auto_columns": null,
            "margin": null,
            "display": null,
            "left": null
          }
        },
        "a9042da3b73c4f0292827105211d7c77": {
          "model_module": "@jupyter-widgets/controls",
          "model_name": "ButtonModel",
          "state": {
            "_view_name": "ButtonView",
            "style": "IPY_MODEL_1fb64ec1d42d4a92b7db69c9a3d4e1c0",
            "_dom_classes": [],
            "description": "Click me",
            "_model_name": "ButtonModel",
            "button_style": "",
            "_view_module": "@jupyter-widgets/controls",
            "_model_module_version": "1.5.0",
            "tooltip": "Click me",
            "_view_count": null,
            "disabled": false,
            "_view_module_version": "1.5.0",
            "layout": "IPY_MODEL_65c207a735f34714b970c63ec13a76d4",
            "_model_module": "@jupyter-widgets/controls",
            "icon": "check"
          }
        },
        "1fb64ec1d42d4a92b7db69c9a3d4e1c0": {
          "model_module": "@jupyter-widgets/controls",
          "model_name": "ButtonStyleModel",
          "state": {
            "_view_name": "StyleView",
            "_model_name": "ButtonStyleModel",
            "_view_module": "@jupyter-widgets/base",
            "_model_module_version": "1.5.0",
            "_view_count": null,
            "button_color": null,
            "font_weight": "",
            "_view_module_version": "1.2.0",
            "_model_module": "@jupyter-widgets/controls"
          }
        },
        "65c207a735f34714b970c63ec13a76d4": {
          "model_module": "@jupyter-widgets/base",
          "model_name": "LayoutModel",
          "state": {
            "_view_name": "LayoutView",
            "grid_template_rows": null,
            "right": null,
            "justify_content": null,
            "_view_module": "@jupyter-widgets/base",
            "overflow": null,
            "_model_module_version": "1.2.0",
            "_view_count": null,
            "flex_flow": null,
            "width": null,
            "min_width": null,
            "border": null,
            "align_items": null,
            "bottom": null,
            "_model_module": "@jupyter-widgets/base",
            "top": null,
            "grid_column": null,
            "overflow_y": null,
            "overflow_x": null,
            "grid_auto_flow": null,
            "grid_area": null,
            "grid_template_columns": null,
            "flex": null,
            "_model_name": "LayoutModel",
            "justify_items": null,
            "grid_row": null,
            "max_height": null,
            "align_content": null,
            "visibility": null,
            "align_self": null,
            "height": null,
            "min_height": null,
            "padding": null,
            "grid_auto_rows": null,
            "grid_gap": null,
            "max_width": null,
            "order": null,
            "_view_module_version": "1.2.0",
            "grid_template_areas": null,
            "object_position": null,
            "object_fit": null,
            "grid_auto_columns": null,
            "margin": null,
            "display": null,
            "left": null
          }
        },
        "68132415e1394bd8b53e408fb35cb2f0": {
          "model_module": "@jupyter-widgets/controls",
          "model_name": "FloatTextModel",
          "state": {
            "_view_name": "FloatTextView",
            "style": "IPY_MODEL_40fa2628eafe48c084f8d4251b28f393",
            "_dom_classes": [],
            "description": "",
            "_model_name": "FloatTextModel",
            "_view_module": "@jupyter-widgets/controls",
            "_model_module_version": "1.5.0",
            "value": 30,
            "_view_count": null,
            "disabled": false,
            "_view_module_version": "1.5.0",
            "continuous_update": false,
            "step": null,
            "description_tooltip": null,
            "_model_module": "@jupyter-widgets/controls",
            "layout": "IPY_MODEL_f9a0b51db43f451899f27e496e3319e3"
          }
        },
        "40fa2628eafe48c084f8d4251b28f393": {
          "model_module": "@jupyter-widgets/controls",
          "model_name": "DescriptionStyleModel",
          "state": {
            "_view_name": "StyleView",
            "_model_name": "DescriptionStyleModel",
            "description_width": "",
            "_view_module": "@jupyter-widgets/base",
            "_model_module_version": "1.5.0",
            "_view_count": null,
            "_view_module_version": "1.2.0",
            "_model_module": "@jupyter-widgets/controls"
          }
        },
        "f9a0b51db43f451899f27e496e3319e3": {
          "model_module": "@jupyter-widgets/base",
          "model_name": "LayoutModel",
          "state": {
            "_view_name": "LayoutView",
            "grid_template_rows": null,
            "right": null,
            "justify_content": null,
            "_view_module": "@jupyter-widgets/base",
            "overflow": null,
            "_model_module_version": "1.2.0",
            "_view_count": null,
            "flex_flow": null,
            "width": null,
            "min_width": null,
            "border": null,
            "align_items": null,
            "bottom": null,
            "_model_module": "@jupyter-widgets/base",
            "top": null,
            "grid_column": null,
            "overflow_y": null,
            "overflow_x": null,
            "grid_auto_flow": null,
            "grid_area": null,
            "grid_template_columns": null,
            "flex": null,
            "_model_name": "LayoutModel",
            "justify_items": null,
            "grid_row": null,
            "max_height": null,
            "align_content": null,
            "visibility": null,
            "align_self": null,
            "height": null,
            "min_height": null,
            "padding": null,
            "grid_auto_rows": null,
            "grid_gap": null,
            "max_width": null,
            "order": null,
            "_view_module_version": "1.2.0",
            "grid_template_areas": null,
            "object_position": null,
            "object_fit": null,
            "grid_auto_columns": null,
            "margin": null,
            "display": null,
            "left": null
          }
        },
        "33686eba10dd4f0cb12fcd7078da1e0a": {
          "model_module": "@jupyter-widgets/controls",
          "model_name": "FloatLogSliderModel",
          "state": {
            "_view_name": "FloatLogSliderView",
            "orientation": "horizontal",
            "_view_module": "@jupyter-widgets/controls",
            "_model_module_version": "1.5.0",
            "_view_count": null,
            "disabled": false,
            "readout_format": ".3g",
            "_model_module": "@jupyter-widgets/controls",
            "style": "IPY_MODEL_16d3590f59d149b9b60eed4fbfee16e6",
            "layout": "IPY_MODEL_52932dfd3171499c9103dcd815229847",
            "min": 0,
            "continuous_update": true,
            "description_tooltip": null,
            "_dom_classes": [],
            "description": "",
            "_model_name": "FloatLogSliderModel",
            "max": 4,
            "readout": true,
            "step": 0.1,
            "base": 10,
            "value": 398.1071705534973,
            "_view_module_version": "1.5.0"
          }
        },
        "16d3590f59d149b9b60eed4fbfee16e6": {
          "model_module": "@jupyter-widgets/controls",
          "model_name": "SliderStyleModel",
          "state": {
            "_view_name": "StyleView",
            "handle_color": null,
            "_model_name": "SliderStyleModel",
            "description_width": "",
            "_view_module": "@jupyter-widgets/base",
            "_model_module_version": "1.5.0",
            "_view_count": null,
            "_view_module_version": "1.2.0",
            "_model_module": "@jupyter-widgets/controls"
          }
        },
        "52932dfd3171499c9103dcd815229847": {
          "model_module": "@jupyter-widgets/base",
          "model_name": "LayoutModel",
          "state": {
            "_view_name": "LayoutView",
            "grid_template_rows": null,
            "right": null,
            "justify_content": null,
            "_view_module": "@jupyter-widgets/base",
            "overflow": null,
            "_model_module_version": "1.2.0",
            "_view_count": null,
            "flex_flow": null,
            "width": null,
            "min_width": null,
            "border": null,
            "align_items": null,
            "bottom": null,
            "_model_module": "@jupyter-widgets/base",
            "top": null,
            "grid_column": null,
            "overflow_y": null,
            "overflow_x": null,
            "grid_auto_flow": null,
            "grid_area": null,
            "grid_template_columns": null,
            "flex": null,
            "_model_name": "LayoutModel",
            "justify_items": null,
            "grid_row": null,
            "max_height": null,
            "align_content": null,
            "visibility": null,
            "align_self": null,
            "height": null,
            "min_height": null,
            "padding": null,
            "grid_auto_rows": null,
            "grid_gap": null,
            "max_width": null,
            "order": null,
            "_view_module_version": "1.2.0",
            "grid_template_areas": null,
            "object_position": null,
            "object_fit": null,
            "grid_auto_columns": null,
            "margin": null,
            "display": null,
            "left": null
          }
        }
      }
    }
  },
  "cells": [
    {
      "cell_type": "markdown",
      "metadata": {
        "id": "view-in-github",
        "colab_type": "text"
      },
      "source": [
        "<a href=\"https://colab.research.google.com/github/nutdnuy/test_GIT/blob/master/ipywidgets.ipynb\" target=\"_parent\"><img src=\"https://colab.research.google.com/assets/colab-badge.svg\" alt=\"Open In Colab\"/></a>"
      ]
    },
    {
      "cell_type": "markdown",
      "metadata": {
        "id": "0mhCwO4XarMU"
      },
      "source": [
        "#Install"
      ]
    },
    {
      "cell_type": "code",
      "metadata": {
        "id": "f2-bS3p1aW_l",
        "colab": {
          "base_uri": "https://localhost:8080/"
        },
        "outputId": "7d7ea7a1-4903-4265-9422-b142d922ad87"
      },
      "source": [
        "pip install ipywidgets"
      ],
      "execution_count": 1,
      "outputs": [
        {
          "output_type": "stream",
          "text": [
            "Requirement already satisfied: ipywidgets in /usr/local/lib/python3.7/dist-packages (7.6.3)\n",
            "Requirement already satisfied: nbformat>=4.2.0 in /usr/local/lib/python3.7/dist-packages (from ipywidgets) (5.1.3)\n",
            "Requirement already satisfied: traitlets>=4.3.1 in /usr/local/lib/python3.7/dist-packages (from ipywidgets) (5.0.5)\n",
            "Requirement already satisfied: jupyterlab-widgets>=1.0.0; python_version >= \"3.6\" in /usr/local/lib/python3.7/dist-packages (from ipywidgets) (1.0.0)\n",
            "Requirement already satisfied: ipykernel>=4.5.1 in /usr/local/lib/python3.7/dist-packages (from ipywidgets) (4.10.1)\n",
            "Requirement already satisfied: widgetsnbextension~=3.5.0 in /usr/local/lib/python3.7/dist-packages (from ipywidgets) (3.5.1)\n",
            "Requirement already satisfied: ipython>=4.0.0; python_version >= \"3.3\" in /usr/local/lib/python3.7/dist-packages (from ipywidgets) (5.5.0)\n",
            "Requirement already satisfied: jupyter-core in /usr/local/lib/python3.7/dist-packages (from nbformat>=4.2.0->ipywidgets) (4.7.1)\n",
            "Requirement already satisfied: jsonschema!=2.5.0,>=2.4 in /usr/local/lib/python3.7/dist-packages (from nbformat>=4.2.0->ipywidgets) (2.6.0)\n",
            "Requirement already satisfied: ipython-genutils in /usr/local/lib/python3.7/dist-packages (from nbformat>=4.2.0->ipywidgets) (0.2.0)\n",
            "Requirement already satisfied: tornado>=4.0 in /usr/local/lib/python3.7/dist-packages (from ipykernel>=4.5.1->ipywidgets) (5.1.1)\n",
            "Requirement already satisfied: jupyter-client in /usr/local/lib/python3.7/dist-packages (from ipykernel>=4.5.1->ipywidgets) (5.3.5)\n",
            "Requirement already satisfied: notebook>=4.4.1 in /usr/local/lib/python3.7/dist-packages (from widgetsnbextension~=3.5.0->ipywidgets) (5.3.1)\n",
            "Requirement already satisfied: simplegeneric>0.8 in /usr/local/lib/python3.7/dist-packages (from ipython>=4.0.0; python_version >= \"3.3\"->ipywidgets) (0.8.1)\n",
            "Requirement already satisfied: pygments in /usr/local/lib/python3.7/dist-packages (from ipython>=4.0.0; python_version >= \"3.3\"->ipywidgets) (2.6.1)\n",
            "Requirement already satisfied: decorator in /usr/local/lib/python3.7/dist-packages (from ipython>=4.0.0; python_version >= \"3.3\"->ipywidgets) (4.4.2)\n",
            "Requirement already satisfied: pickleshare in /usr/local/lib/python3.7/dist-packages (from ipython>=4.0.0; python_version >= \"3.3\"->ipywidgets) (0.7.5)\n",
            "Requirement already satisfied: setuptools>=18.5 in /usr/local/lib/python3.7/dist-packages (from ipython>=4.0.0; python_version >= \"3.3\"->ipywidgets) (57.0.0)\n",
            "Requirement already satisfied: pexpect; sys_platform != \"win32\" in /usr/local/lib/python3.7/dist-packages (from ipython>=4.0.0; python_version >= \"3.3\"->ipywidgets) (4.8.0)\n",
            "Requirement already satisfied: prompt-toolkit<2.0.0,>=1.0.4 in /usr/local/lib/python3.7/dist-packages (from ipython>=4.0.0; python_version >= \"3.3\"->ipywidgets) (1.0.18)\n",
            "Requirement already satisfied: python-dateutil>=2.1 in /usr/local/lib/python3.7/dist-packages (from jupyter-client->ipykernel>=4.5.1->ipywidgets) (2.8.1)\n",
            "Requirement already satisfied: pyzmq>=13 in /usr/local/lib/python3.7/dist-packages (from jupyter-client->ipykernel>=4.5.1->ipywidgets) (22.0.3)\n",
            "Requirement already satisfied: nbconvert in /usr/local/lib/python3.7/dist-packages (from notebook>=4.4.1->widgetsnbextension~=3.5.0->ipywidgets) (5.6.1)\n",
            "Requirement already satisfied: terminado>=0.8.1 in /usr/local/lib/python3.7/dist-packages (from notebook>=4.4.1->widgetsnbextension~=3.5.0->ipywidgets) (0.10.0)\n",
            "Requirement already satisfied: jinja2 in /usr/local/lib/python3.7/dist-packages (from notebook>=4.4.1->widgetsnbextension~=3.5.0->ipywidgets) (2.11.3)\n",
            "Requirement already satisfied: Send2Trash in /usr/local/lib/python3.7/dist-packages (from notebook>=4.4.1->widgetsnbextension~=3.5.0->ipywidgets) (1.5.0)\n",
            "Requirement already satisfied: ptyprocess>=0.5 in /usr/local/lib/python3.7/dist-packages (from pexpect; sys_platform != \"win32\"->ipython>=4.0.0; python_version >= \"3.3\"->ipywidgets) (0.7.0)\n",
            "Requirement already satisfied: wcwidth in /usr/local/lib/python3.7/dist-packages (from prompt-toolkit<2.0.0,>=1.0.4->ipython>=4.0.0; python_version >= \"3.3\"->ipywidgets) (0.2.5)\n",
            "Requirement already satisfied: six>=1.9.0 in /usr/local/lib/python3.7/dist-packages (from prompt-toolkit<2.0.0,>=1.0.4->ipython>=4.0.0; python_version >= \"3.3\"->ipywidgets) (1.15.0)\n",
            "Requirement already satisfied: testpath in /usr/local/lib/python3.7/dist-packages (from nbconvert->notebook>=4.4.1->widgetsnbextension~=3.5.0->ipywidgets) (0.5.0)\n",
            "Requirement already satisfied: defusedxml in /usr/local/lib/python3.7/dist-packages (from nbconvert->notebook>=4.4.1->widgetsnbextension~=3.5.0->ipywidgets) (0.7.1)\n",
            "Requirement already satisfied: mistune<2,>=0.8.1 in /usr/local/lib/python3.7/dist-packages (from nbconvert->notebook>=4.4.1->widgetsnbextension~=3.5.0->ipywidgets) (0.8.4)\n",
            "Requirement already satisfied: pandocfilters>=1.4.1 in /usr/local/lib/python3.7/dist-packages (from nbconvert->notebook>=4.4.1->widgetsnbextension~=3.5.0->ipywidgets) (1.4.3)\n",
            "Requirement already satisfied: bleach in /usr/local/lib/python3.7/dist-packages (from nbconvert->notebook>=4.4.1->widgetsnbextension~=3.5.0->ipywidgets) (3.3.0)\n",
            "Requirement already satisfied: entrypoints>=0.2.2 in /usr/local/lib/python3.7/dist-packages (from nbconvert->notebook>=4.4.1->widgetsnbextension~=3.5.0->ipywidgets) (0.3)\n",
            "Requirement already satisfied: MarkupSafe>=0.23 in /usr/local/lib/python3.7/dist-packages (from jinja2->notebook>=4.4.1->widgetsnbextension~=3.5.0->ipywidgets) (2.0.1)\n",
            "Requirement already satisfied: webencodings in /usr/local/lib/python3.7/dist-packages (from bleach->nbconvert->notebook>=4.4.1->widgetsnbextension~=3.5.0->ipywidgets) (0.5.1)\n",
            "Requirement already satisfied: packaging in /usr/local/lib/python3.7/dist-packages (from bleach->nbconvert->notebook>=4.4.1->widgetsnbextension~=3.5.0->ipywidgets) (20.9)\n",
            "Requirement already satisfied: pyparsing>=2.0.2 in /usr/local/lib/python3.7/dist-packages (from packaging->bleach->nbconvert->notebook>=4.4.1->widgetsnbextension~=3.5.0->ipywidgets) (2.4.7)\n"
          ],
          "name": "stdout"
        }
      ]
    },
    {
      "cell_type": "code",
      "metadata": {
        "id": "Eqmbz_U5ahbO"
      },
      "source": [
        "import ipywidgets as widgets"
      ],
      "execution_count": 2,
      "outputs": []
    },
    {
      "cell_type": "markdown",
      "metadata": {
        "id": "aVOeufxsasi1"
      },
      "source": [
        "#SLIDE BAR"
      ]
    },
    {
      "cell_type": "code",
      "metadata": {
        "colab": {
          "base_uri": "https://localhost:8080/",
          "height": 49,
          "referenced_widgets": [
            "e27bad9115f94b638b2f9cdd3085d8ea",
            "9622f9b4e8684ee1a49d849ce6878cde",
            "84ad964cdd834294a945d8ac2cd7a02b"
          ]
        },
        "id": "tNMO_i1eako4",
        "outputId": "cb2aa29e-e74f-49d4-9de2-9a777d8a7102"
      },
      "source": [
        "widgets.IntSlider()"
      ],
      "execution_count": 3,
      "outputs": [
        {
          "output_type": "display_data",
          "data": {
            "application/vnd.jupyter.widget-view+json": {
              "model_id": "e27bad9115f94b638b2f9cdd3085d8ea",
              "version_minor": 0,
              "version_major": 2
            },
            "text/plain": [
              "IntSlider(value=0)"
            ]
          },
          "metadata": {
            "tags": []
          }
        }
      ]
    },
    {
      "cell_type": "code",
      "metadata": {
        "id": "IRkHMXl-bDxi"
      },
      "source": [
        "from IPython.display import display\n",
        "w = widgets.IntSlider()"
      ],
      "execution_count": 4,
      "outputs": []
    },
    {
      "cell_type": "code",
      "metadata": {
        "colab": {
          "base_uri": "https://localhost:8080/",
          "height": 49,
          "referenced_widgets": [
            "794a2bd4a2384cd7af06dc6852d1bd51",
            "f793ff02c8324f1899fb96ad9df95b0f",
            "fa4e976b0ebd45b78001cca60cec7644"
          ]
        },
        "id": "ywALXvq-bHBz",
        "outputId": "0a011ce1-0236-434d-970f-f93ba0b7b966"
      },
      "source": [
        "display(w)"
      ],
      "execution_count": 5,
      "outputs": [
        {
          "output_type": "display_data",
          "data": {
            "application/vnd.jupyter.widget-view+json": {
              "model_id": "794a2bd4a2384cd7af06dc6852d1bd51",
              "version_minor": 0,
              "version_major": 2
            },
            "text/plain": [
              "IntSlider(value=0)"
            ]
          },
          "metadata": {
            "tags": []
          }
        }
      ]
    },
    {
      "cell_type": "code",
      "metadata": {
        "colab": {
          "base_uri": "https://localhost:8080/",
          "height": 49,
          "referenced_widgets": [
            "7b5da48c15484c6aa01b274e1766bae3",
            "b73b6f71ca4e47d583e2d7e6405c7137",
            "a8332660c300402b91b422dd8c4b30e8"
          ]
        },
        "id": "w6PH1rxicPaq",
        "outputId": "31daac9b-694c-4103-922f-2bedfd9f485d"
      },
      "source": [
        "widgets.IntSlider(\n",
        "    value=7,\n",
        "    min=0,\n",
        "    max=10,\n",
        "    step=1)"
      ],
      "execution_count": 26,
      "outputs": [
        {
          "output_type": "display_data",
          "data": {
            "application/vnd.jupyter.widget-view+json": {
              "model_id": "7b5da48c15484c6aa01b274e1766bae3",
              "version_minor": 0,
              "version_major": 2
            },
            "text/plain": [
              "IntSlider(value=7, max=10)"
            ]
          },
          "metadata": {
            "tags": []
          }
        }
      ]
    },
    {
      "cell_type": "code",
      "metadata": {
        "colab": {
          "base_uri": "https://localhost:8080/",
          "height": 49,
          "referenced_widgets": [
            "8381455c1d3d4060b410e21893d50fc6",
            "e082fa886bfc433cb82b9b6280a5355e",
            "73aa867fe651474a8fab9296520037f2"
          ]
        },
        "id": "PWXmGkPEcbRk",
        "outputId": "75676a47-303f-4c36-ef7d-673ddd092fd4"
      },
      "source": [
        "month = widgets.IntSlider(\n",
        "    value = 1,\n",
        "    min = 1,\n",
        "    max= 12,\n",
        "    step = 1,\n",
        "    description='Month:',\n",
        ")\n",
        "month "
      ],
      "execution_count": 28,
      "outputs": [
        {
          "output_type": "display_data",
          "data": {
            "application/vnd.jupyter.widget-view+json": {
              "model_id": "8381455c1d3d4060b410e21893d50fc6",
              "version_minor": 0,
              "version_major": 2
            },
            "text/plain": [
              "IntSlider(value=1, description='Month:', max=12, min=1)"
            ]
          },
          "metadata": {
            "tags": []
          }
        }
      ]
    },
    {
      "cell_type": "code",
      "metadata": {
        "colab": {
          "base_uri": "https://localhost:8080/"
        },
        "id": "Me-ohcUBGudf",
        "outputId": "37890d51-25aa-42bf-f679-19b3e0db7698"
      },
      "source": [
        "month.keys"
      ],
      "execution_count": 22,
      "outputs": [
        {
          "output_type": "execute_result",
          "data": {
            "text/plain": [
              "['_dom_classes',\n",
              " '_model_module',\n",
              " '_model_module_version',\n",
              " '_model_name',\n",
              " '_view_count',\n",
              " '_view_module',\n",
              " '_view_module_version',\n",
              " '_view_name',\n",
              " 'continuous_update',\n",
              " 'description',\n",
              " 'description_tooltip',\n",
              " 'disabled',\n",
              " 'layout',\n",
              " 'max',\n",
              " 'min',\n",
              " 'orientation',\n",
              " 'readout',\n",
              " 'readout_format',\n",
              " 'step',\n",
              " 'style',\n",
              " 'value']"
            ]
          },
          "metadata": {
            "tags": []
          },
          "execution_count": 22
        }
      ]
    },
    {
      "cell_type": "code",
      "metadata": {
        "colab": {
          "base_uri": "https://localhost:8080/",
          "height": 221,
          "referenced_widgets": [
            "216a5db0b1f94f898c70dd509a9c7ed3",
            "c4754e3910a24096b046558cfde9ba5d",
            "8dfd4742718c468b947fdf76f4c9d6dc"
          ]
        },
        "id": "-gFt79wsdWZY",
        "outputId": "44e8756c-98b7-4b2b-e465-7093c1b07af7"
      },
      "source": [
        "month = widgets.IntSlider(\n",
        "    value = 6,\n",
        "    min = 1,\n",
        "    max= 12,\n",
        "    step = 1,\n",
        "    description='Month:',\n",
        "    disabled=False,\n",
        "    continuous_update=False,\n",
        "    orientation='vertical',\n",
        "    readout=True,\n",
        "    readout_format='d'\n",
        "\n",
        ")\n",
        "month "
      ],
      "execution_count": null,
      "outputs": [
        {
          "output_type": "display_data",
          "data": {
            "application/vnd.jupyter.widget-view+json": {
              "model_id": "216a5db0b1f94f898c70dd509a9c7ed3",
              "version_minor": 0,
              "version_major": 2
            },
            "text/plain": [
              "IntSlider(value=6, continuous_update=False, description='Month:', max=12, min=1, orientation='vertical')"
            ]
          },
          "metadata": {
            "tags": []
          }
        }
      ]
    },
    {
      "cell_type": "code",
      "metadata": {
        "colab": {
          "base_uri": "https://localhost:8080/",
          "height": 49,
          "referenced_widgets": [
            "896a2115998349c0b7d00a588c2fc27e",
            "5dd792e7a18b4d18ac29adf276509095",
            "d7e748fa6252445e818f15236215fec3"
          ]
        },
        "id": "2i2K0LtmeFIQ",
        "outputId": "d94ec589-9196-496f-9ef6-4e1a45d6a64c"
      },
      "source": [
        "month = widgets.IntRangeSlider(\n",
        "    value = [5, 7],\n",
        "    min = 1,\n",
        "    max= 12,\n",
        "    step = 1,\n",
        "    description='Month:',\n",
        "    disabled=False,\n",
        "    continuous_update=False,\n",
        "    orientation='horizontal',\n",
        "    readout=True,\n",
        "    readout_format='d'\n",
        "\n",
        ")\n",
        "month "
      ],
      "execution_count": 29,
      "outputs": [
        {
          "output_type": "display_data",
          "data": {
            "application/vnd.jupyter.widget-view+json": {
              "model_id": "896a2115998349c0b7d00a588c2fc27e",
              "version_minor": 0,
              "version_major": 2
            },
            "text/plain": [
              "IntRangeSlider(value=(5, 7), continuous_update=False, description='Month:', max=12, min=1)"
            ]
          },
          "metadata": {
            "tags": []
          }
        }
      ]
    },
    {
      "cell_type": "code",
      "metadata": {
        "colab": {
          "base_uri": "https://localhost:8080/",
          "height": 49,
          "referenced_widgets": [
            "966411ef01e14bafa3d862717fbcdd01",
            "66c49cca536c4deda26778147b9b4b74",
            "871ac3c062e447da9fdf02139e606c06"
          ]
        },
        "id": "-d0cyCtXd6Ph",
        "outputId": "48d56d21-67c9-4382-9f4d-d731d2339fa1"
      },
      "source": [
        "widgets.FloatLogSlider(\n",
        "    value=10,\n",
        "    base=10,\n",
        "    min=-10, # max exponent of base\n",
        "    max=10, # min exponent of base\n",
        "    step=0.2, # exponent step\n",
        "    description='Log Slider'\n",
        ")"
      ],
      "execution_count": null,
      "outputs": [
        {
          "output_type": "display_data",
          "data": {
            "application/vnd.jupyter.widget-view+json": {
              "model_id": "966411ef01e14bafa3d862717fbcdd01",
              "version_minor": 0,
              "version_major": 2
            },
            "text/plain": [
              "FloatLogSlider(value=10.0, description='Log Slider', max=10.0, min=-10.0, step=0.2)"
            ]
          },
          "metadata": {
            "tags": []
          }
        }
      ]
    },
    {
      "cell_type": "markdown",
      "metadata": {
        "id": "FWJyWBzRbU4L"
      },
      "source": [
        "#Text"
      ]
    },
    {
      "cell_type": "code",
      "metadata": {
        "colab": {
          "base_uri": "https://localhost:8080/",
          "height": 49,
          "referenced_widgets": [
            "ce2157a6359747928a0631ce993387fb",
            "bdcbd8aa97c14ca8811431b4ffcbd62e",
            "6e938e9177ec4d1bb85d1e3f464697c8"
          ]
        },
        "id": "kWn7CaJfa3gj",
        "outputId": "5b407999-6d09-4ffa-e910-bc39c9115efa"
      },
      "source": [
        "widgets.Text()"
      ],
      "execution_count": 30,
      "outputs": [
        {
          "output_type": "display_data",
          "data": {
            "application/vnd.jupyter.widget-view+json": {
              "model_id": "ce2157a6359747928a0631ce993387fb",
              "version_minor": 0,
              "version_major": 2
            },
            "text/plain": [
              "Text(value='')"
            ]
          },
          "metadata": {
            "tags": []
          }
        }
      ]
    },
    {
      "cell_type": "code",
      "metadata": {
        "colab": {
          "base_uri": "https://localhost:8080/"
        },
        "id": "a21c68L31tUo",
        "outputId": "4861be3b-c6eb-4a00-8890-0d7044cff8c5"
      },
      "source": [
        "A = widgets.Text()\n",
        "A.keys"
      ],
      "execution_count": 32,
      "outputs": [
        {
          "output_type": "execute_result",
          "data": {
            "text/plain": [
              "['_dom_classes',\n",
              " '_model_module',\n",
              " '_model_module_version',\n",
              " '_model_name',\n",
              " '_view_count',\n",
              " '_view_module',\n",
              " '_view_module_version',\n",
              " '_view_name',\n",
              " 'continuous_update',\n",
              " 'description',\n",
              " 'description_tooltip',\n",
              " 'disabled',\n",
              " 'layout',\n",
              " 'placeholder',\n",
              " 'style',\n",
              " 'value']"
            ]
          },
          "metadata": {
            "tags": []
          },
          "execution_count": 32
        }
      ]
    },
    {
      "cell_type": "code",
      "metadata": {
        "colab": {
          "base_uri": "https://localhost:8080/",
          "height": 49,
          "referenced_widgets": [
            "81a94a92acf0481f80520441d7435af6",
            "8480545408734df3a47666d8f62ca100",
            "5f7a7fddb297459ab8ffd49c048d93f8"
          ]
        },
        "id": "p48bZ4kubY1P",
        "outputId": "afb0db4b-8977-4da2-b40e-087a78796ebd"
      },
      "source": [
        "widgets.Text(value='Hello World!')"
      ],
      "execution_count": 34,
      "outputs": [
        {
          "output_type": "display_data",
          "data": {
            "application/vnd.jupyter.widget-view+json": {
              "model_id": "81a94a92acf0481f80520441d7435af6",
              "version_minor": 0,
              "version_major": 2
            },
            "text/plain": [
              "Text(value='Hello World!')"
            ]
          },
          "metadata": {
            "tags": []
          }
        }
      ]
    },
    {
      "cell_type": "code",
      "metadata": {
        "colab": {
          "base_uri": "https://localhost:8080/",
          "height": 49,
          "referenced_widgets": [
            "96c8852926df494cb367216ca7064564",
            "1b0627f828e1499589ebf768b64a9234",
            "b0963e189b1f43548f3f7bb832c0f68b"
          ]
        },
        "id": "fZ0rod1JbkEm",
        "outputId": "d099c637-e233-492c-b020-efe5359930f4"
      },
      "source": [
        "widgets.Text(value='Hello World!', disabled=True)"
      ],
      "execution_count": 35,
      "outputs": [
        {
          "output_type": "display_data",
          "data": {
            "application/vnd.jupyter.widget-view+json": {
              "model_id": "96c8852926df494cb367216ca7064564",
              "version_minor": 0,
              "version_major": 2
            },
            "text/plain": [
              "Text(value='Hello World!', disabled=True)"
            ]
          },
          "metadata": {
            "tags": []
          }
        }
      ]
    },
    {
      "cell_type": "markdown",
      "metadata": {
        "id": "kNZ85nYie9mW"
      },
      "source": [
        "BoundedIntText"
      ]
    },
    {
      "cell_type": "code",
      "metadata": {
        "colab": {
          "base_uri": "https://localhost:8080/",
          "height": 49,
          "referenced_widgets": [
            "220410beae8a4bd0b6326d4066d651f5",
            "6141c976d8e54286b06c5aa842314e31",
            "a0cb669c4c4544bfb51d3841822748dd"
          ]
        },
        "id": "uZhU08m0bnHU",
        "outputId": "973a07c5-d97e-46c0-e6d3-67a221860320"
      },
      "source": [
        "widgets.BoundedIntText(\n",
        "    value=7,\n",
        "    min=0,\n",
        "    max=10,\n",
        "    step=1,\n",
        "    description='Text:',\n",
        "    disabled=False\n",
        ")"
      ],
      "execution_count": null,
      "outputs": [
        {
          "output_type": "display_data",
          "data": {
            "application/vnd.jupyter.widget-view+json": {
              "model_id": "220410beae8a4bd0b6326d4066d651f5",
              "version_minor": 0,
              "version_major": 2
            },
            "text/plain": [
              "BoundedIntText(value=7, description='Text:', max=10)"
            ]
          },
          "metadata": {
            "tags": []
          }
        }
      ]
    },
    {
      "cell_type": "markdown",
      "metadata": {
        "id": "ssLWNKwDe-X5"
      },
      "source": [
        "BoundedFloatText\n"
      ]
    },
    {
      "cell_type": "code",
      "metadata": {
        "colab": {
          "base_uri": "https://localhost:8080/",
          "height": 49,
          "referenced_widgets": [
            "63c2cf07708f487d8829638220abc193",
            "91391069033b4d9dabc0010486386d75",
            "52b2e7147dcf456d949e0fb666b7db20"
          ]
        },
        "id": "fStELL2ce3Fy",
        "outputId": "dd0261f5-46fc-41e1-fb5b-a216941210e3"
      },
      "source": [
        "widgets.BoundedFloatText(\n",
        "    value=7.5,\n",
        "    min=0,\n",
        "    max=10.0,\n",
        "    step=0.1,\n",
        "    description='Text:',\n",
        "    disabled=False\n",
        ")"
      ],
      "execution_count": null,
      "outputs": [
        {
          "output_type": "display_data",
          "data": {
            "application/vnd.jupyter.widget-view+json": {
              "model_id": "63c2cf07708f487d8829638220abc193",
              "version_minor": 0,
              "version_major": 2
            },
            "text/plain": [
              "BoundedFloatText(value=7.5, description='Text:', max=10.0, step=0.1)"
            ]
          },
          "metadata": {
            "tags": []
          }
        }
      ]
    },
    {
      "cell_type": "markdown",
      "metadata": {
        "id": "CeYEv8vWfC10"
      },
      "source": [
        "IntText"
      ]
    },
    {
      "cell_type": "code",
      "metadata": {
        "id": "ud6hcFQ-e7Yl"
      },
      "source": [
        "import torch\n",
        "import matplotlib.pyplot as plt\n",
        "import ipywidgets as widgets\n",
        "from time import sleep\n",
        "# from IPython.display import display"
      ],
      "execution_count": null,
      "outputs": []
    },
    {
      "cell_type": "code",
      "metadata": {
        "id": "XNtDWafKzN29",
        "colab": {
          "base_uri": "https://localhost:8080/",
          "height": 49,
          "referenced_widgets": [
            "a4a6f10b8f3c4ea0a94173a2c7c4cda4",
            "363ebacfa8524ed2b11953ff9501bbe7",
            "770523f236ca49dc81770b78d8383bf6"
          ]
        },
        "outputId": "8b36f15f-18de-439b-b28a-2c8319297177"
      },
      "source": [
        "def print_message(p=0): print(\"Hello callback\")\n",
        "\n",
        "b = widgets.Button(description=\"Hello\")\n",
        "b"
      ],
      "execution_count": null,
      "outputs": [
        {
          "output_type": "display_data",
          "data": {
            "application/vnd.jupyter.widget-view+json": {
              "model_id": "a4a6f10b8f3c4ea0a94173a2c7c4cda4",
              "version_minor": 0,
              "version_major": 2
            },
            "text/plain": [
              "Button(description='Hello', style=ButtonStyle())"
            ]
          },
          "metadata": {
            "tags": []
          }
        }
      ]
    },
    {
      "cell_type": "markdown",
      "metadata": {
        "id": "WQcYuv6UIVp-"
      },
      "source": [
        "# Date"
      ]
    },
    {
      "cell_type": "code",
      "metadata": {
        "id": "rJ6O9YT2IVNO",
        "colab": {
          "base_uri": "https://localhost:8080/",
          "height": 49,
          "referenced_widgets": [
            "0c1941e8c46443e3b08f57fa04722f59",
            "fbb0db249a4d429797596ec45e335a3a",
            "005595602195499b8b93e38c83ff9e5b"
          ]
        },
        "outputId": "5ba2b1fe-1b63-4c9b-9ea7-fa5a5e59f107"
      },
      "source": [
        "widgets.DatePicker(\n",
        "    description='Pick a Date',\n",
        "    disabled=False\n",
        ")"
      ],
      "execution_count": 29,
      "outputs": [
        {
          "output_type": "display_data",
          "data": {
            "application/vnd.jupyter.widget-view+json": {
              "model_id": "0c1941e8c46443e3b08f57fa04722f59",
              "version_minor": 0,
              "version_major": 2
            },
            "text/plain": [
              "DatePicker(value=None, description='Pick a Date')"
            ]
          },
          "metadata": {
            "tags": []
          }
        }
      ]
    },
    {
      "cell_type": "markdown",
      "metadata": {
        "id": "ZK25D863TRk_"
      },
      "source": [
        "# Color picker"
      ]
    },
    {
      "cell_type": "code",
      "metadata": {
        "colab": {
          "base_uri": "https://localhost:8080/",
          "height": 49,
          "referenced_widgets": [
            "6b1149a2a33f417bb94e939fa3cccc6d",
            "a5dc295914e044f486dfc553b9bc96ab",
            "31b295beb48c4a9fa9f948dc916e1720"
          ]
        },
        "id": "Y7ePLCU8TQ9o",
        "outputId": "7e2f5e64-eb55-473c-dcc2-6cad74c09764"
      },
      "source": [
        "widgets.ColorPicker(\n",
        "    concise=False,\n",
        "    description='Pick a color',\n",
        "    value='blue',\n",
        "    disabled=False\n",
        ")"
      ],
      "execution_count": 30,
      "outputs": [
        {
          "output_type": "display_data",
          "data": {
            "application/vnd.jupyter.widget-view+json": {
              "model_id": "6b1149a2a33f417bb94e939fa3cccc6d",
              "version_minor": 0,
              "version_major": 2
            },
            "text/plain": [
              "ColorPicker(value='blue', description='Pick a color')"
            ]
          },
          "metadata": {
            "tags": []
          }
        }
      ]
    },
    {
      "cell_type": "markdown",
      "metadata": {
        "id": "8Z53HbePTXFj"
      },
      "source": [
        "# File Upload"
      ]
    },
    {
      "cell_type": "code",
      "metadata": {
        "colab": {
          "base_uri": "https://localhost:8080/",
          "height": 49,
          "referenced_widgets": [
            "522dd1854e744d02a9af42d21bcef968",
            "06c38134c13e4688a8ea4e2622b3d59e",
            "f960b44ac5de4d44b633f59be4b0b072"
          ]
        },
        "id": "qDwuiINfTWjb",
        "outputId": "5fcb44a1-e11e-4824-b40d-9751afe56414"
      },
      "source": [
        "widgets.FileUpload(\n",
        "    accept='',  # Accepted file extension e.g. '.txt', '.pdf', 'image/*', 'image/*,.pdf'\n",
        "    multiple=False  # True to accept multiple files upload else False\n",
        "\n",
        ")\n"
      ],
      "execution_count": 34,
      "outputs": [
        {
          "output_type": "display_data",
          "data": {
            "application/vnd.jupyter.widget-view+json": {
              "model_id": "522dd1854e744d02a9af42d21bcef968",
              "version_minor": 0,
              "version_major": 2
            },
            "text/plain": [
              "FileUpload(value={}, description='Upload')"
            ]
          },
          "metadata": {
            "tags": []
          }
        }
      ]
    },
    {
      "cell_type": "markdown",
      "metadata": {
        "id": "ib3QXvR9D5Z5"
      },
      "source": [
        "# case"
      ]
    },
    {
      "cell_type": "code",
      "metadata": {
        "id": "1EXx41Q-Ec8k",
        "colab": {
          "base_uri": "https://localhost:8080/",
          "height": 315,
          "referenced_widgets": [
            "8c78b392b7dc420cb4d719fd522acb04",
            "8974f8dcea014295bee9892d2ad56605",
            "4aea10bc6f3d49529916b7244f6dc836",
            "8c97becafad14038a75cf6e6f0930db9",
            "15e6702df99045f1838f0dd1c42b2dac",
            "c8ebfaa3287b41349034685eef33730e",
            "b5c4fe80c1de4256b2db6fb7d63f167d"
          ]
        },
        "outputId": "973f80e6-f572-4052-ff26-fb11b8a39475"
      },
      "source": [
        "import seaborn as sns\n",
        "from matplotlib import pyplot as plt\n",
        "\n",
        "cars = sns.load_dataset('mpg')\n",
        "\n",
        "def bandwidth_widget(bw=1):\n",
        "    sns.kdeplot(cars.horsepower, lw=3, fill=True, bw_adjust=bw)\n",
        "    plt.xlim(-30, 300)\n",
        "    plt.ylim(0, 0.03);\n",
        "\n",
        "\n",
        "widgets.interact(bandwidth_widget, bw=(.1, 3));"
      ],
      "execution_count": 36,
      "outputs": [
        {
          "output_type": "display_data",
          "data": {
            "application/vnd.jupyter.widget-view+json": {
              "model_id": "8c78b392b7dc420cb4d719fd522acb04",
              "version_minor": 0,
              "version_major": 2
            },
            "text/plain": [
              "interactive(children=(FloatSlider(value=1.0, description='bw', max=3.0, min=0.1), Output()), _dom_classes=('wi…"
            ]
          },
          "metadata": {
            "tags": []
          }
        }
      ]
    },
    {
      "cell_type": "code",
      "metadata": {
        "colab": {
          "base_uri": "https://localhost:8080/",
          "height": 315,
          "referenced_widgets": [
            "fd1d3d12954a4591b065971b77eb0528",
            "0b458ff13bc94b8c8254ba65efe7e2f8",
            "c992a7cb3ec6495cb75c527561f928fb",
            "4d92150f90e34412bf51aef89e00896f",
            "2e6dcefeffc24f40919001ae2e77461f",
            "e132cae7972141fba220e6d8c9b8cad4",
            "b964ee859a8d4147a6b829525494d0c7"
          ]
        },
        "id": "_40iu77fGaJb",
        "outputId": "d4e5832d-26cd-4605-fb6d-01b3f9021b5c"
      },
      "source": [
        "widgets.interact(bandwidth_widget, bw=(.1, 3));"
      ],
      "execution_count": null,
      "outputs": [
        {
          "output_type": "display_data",
          "data": {
            "application/vnd.jupyter.widget-view+json": {
              "model_id": "fd1d3d12954a4591b065971b77eb0528",
              "version_minor": 0,
              "version_major": 2
            },
            "text/plain": [
              "interactive(children=(FloatSlider(value=1.0, description='bw', max=3.0, min=0.1), Output()), _dom_classes=('wi…"
            ]
          },
          "metadata": {
            "tags": []
          }
        }
      ]
    },
    {
      "cell_type": "code",
      "metadata": {
        "colab": {
          "base_uri": "https://localhost:8080/",
          "height": 315,
          "referenced_widgets": [
            "56b6e4b4fd3c4a3f99488735a3c0fcbd",
            "19b6c6882bdc4062833553b8b69c3cbf",
            "1a7a7f19aa794009afb9fa2ef509bab1",
            "8bfbefdeac974faea90c878786f2b951",
            "cd551a978f244faeba582da2a78f6fa7",
            "44a82bff7a314f1c8a3a6a0822654d32",
            "22c58a21ac3d468ba3362ede6e629bce"
          ]
        },
        "id": "Y_mgoGCWGkkJ",
        "outputId": "7467de63-7d9a-4d10-afbc-a0fdc04953ed"
      },
      "source": [
        "@widgets.interact(bw=(.1, 3, .1))\n",
        "def bw_widget(bw=2):\n",
        "    sns.kdeplot(cars.horsepower, lw=3, fill=True, bw_adjust=bw)\n",
        "    plt.xlim(-30, 300)\n",
        "    plt.ylim(0, 0.03);"
      ],
      "execution_count": null,
      "outputs": [
        {
          "output_type": "display_data",
          "data": {
            "application/vnd.jupyter.widget-view+json": {
              "model_id": "56b6e4b4fd3c4a3f99488735a3c0fcbd",
              "version_minor": 0,
              "version_major": 2
            },
            "text/plain": [
              "interactive(children=(FloatSlider(value=2.0, description='bw', max=3.0, min=0.1), Output()), _dom_classes=('wi…"
            ]
          },
          "metadata": {
            "tags": []
          }
        }
      ]
    },
    {
      "cell_type": "code",
      "metadata": {
        "id": "SMku8mZdG_2u",
        "colab": {
          "base_uri": "https://localhost:8080/",
          "height": 347,
          "referenced_widgets": [
            "e7261350c79a4570836749cfe0ff775e",
            "dd3a603372e74b8db4ea0e3fcc34f3cb",
            "72669925473547bdbe1e498af26debee",
            "1394a289e1ab429ca15112bb54dfc8d6",
            "4d6fab4eeff1478a9801fe71d5c88f79",
            "812ead97fa9848bc81e48191511b11ba",
            "5672b92a12a54daea86897d6d2e2f68e",
            "12896c06f76a4f5c8ad181547ec67cfa",
            "a6446c5f072b481db3c36a9912d2cd0d",
            "5aad110f79854dffa5c4a4ad5b0b884d"
          ]
        },
        "outputId": "9bc6492a-9f86-4d89-c16c-c8e66a1e5aa8"
      },
      "source": [
        "def kde_widget(fill=True, color='blue'):\n",
        "    sns.kdeplot(cars.horsepower, color=color, lw=3, fill=fill)\n",
        "    plt.xlim(0, 300)\n",
        "    plt.ylim(0, 0.02)\n",
        "\n",
        "\n",
        "\n",
        "widgets.interact(kde_widget, \n",
        "                 fill=True,\n",
        "                 color=['blue', 'red', 'green', 'orange']\n",
        "                 );"
      ],
      "execution_count": 37,
      "outputs": [
        {
          "output_type": "display_data",
          "data": {
            "application/vnd.jupyter.widget-view+json": {
              "model_id": "e7261350c79a4570836749cfe0ff775e",
              "version_minor": 0,
              "version_major": 2
            },
            "text/plain": [
              "interactive(children=(Checkbox(value=True, description='fill'), Dropdown(description='color', options=('blue',…"
            ]
          },
          "metadata": {
            "tags": []
          }
        }
      ]
    },
    {
      "cell_type": "code",
      "metadata": {
        "colab": {
          "base_uri": "https://localhost:8080/",
          "height": 347,
          "referenced_widgets": [
            "dddddea913614007a6cdfa18e8e174f3",
            "b2b55cfd54f34a01ab78dd0705c4c612",
            "e6147e2ca96d49a092ddd0fbd82f38b0",
            "869c7e96e4b14e1f925f58a41042b013",
            "a0ee3e43a02b402bb0a891ade74b86d7",
            "6f2d3ae6585441bda90e5b2622ca29e5",
            "29df4b4158ec49dda0247f635ce0c058",
            "d17a3f5cf110473c8208e24b9f97f717",
            "b4f7c4395ea4497bbf258eb804ebf01d",
            "e4967adb1dd945f581da5f8334764358"
          ]
        },
        "id": "nHTbsRV9HCPs",
        "outputId": "d8fa7487-2222-4390-b869-ecb02fd2fa88"
      },
      "source": [
        "widgets.interact(kde_widget, \n",
        "                 fill=True,\n",
        "                 color=['blue', 'red', 'green', 'orange']\n",
        "                 );"
      ],
      "execution_count": null,
      "outputs": [
        {
          "output_type": "display_data",
          "data": {
            "application/vnd.jupyter.widget-view+json": {
              "model_id": "dddddea913614007a6cdfa18e8e174f3",
              "version_minor": 0,
              "version_major": 2
            },
            "text/plain": [
              "interactive(children=(Checkbox(value=True, description='fill'), Dropdown(description='color', options=('blue',…"
            ]
          },
          "metadata": {
            "tags": []
          }
        }
      ]
    },
    {
      "cell_type": "code",
      "metadata": {
        "id": "RvLeVq1FHGZr"
      },
      "source": [
        "import datetime\n",
        "from IPython.display import Image"
      ],
      "execution_count": null,
      "outputs": []
    },
    {
      "cell_type": "code",
      "metadata": {
        "id": "RWDqcs8HHfc1",
        "colab": {
          "base_uri": "https://localhost:8080/",
          "height": 315,
          "referenced_widgets": [
            "a018b3640a7c4645ad5d42ac29c1d5f4",
            "be882cbafa3643d39d61574e4b292aa6",
            "314b58fc09ff4496b073a21ea5658c5c",
            "5fbde20a64b246a2bb4c4aa072d08c6a",
            "dc4e702085f44ce09343973ab5f13d74",
            "a83bf04ca92f49f5951125993cae542c",
            "f795b18bc87b4f7484cefb60ce8a4bcf"
          ]
        },
        "outputId": "d4e95f8b-bc61-4fc9-f8e3-4048e41f8df2"
      },
      "source": [
        "def bandwidth_widget_scaled(bw=1):\n",
        "    sns.kdeplot(cars.horsepower, bw_adjust=bw*.1, lw=3, fill=True)\n",
        "    plt.xlim(-30, 300)\n",
        "    plt.ylim(0, .03)\n",
        "\n",
        "\n",
        "widgets.interact(bandwidth_widget_scaled, bw=widgets.Play(min=1, max=20));\n"
      ],
      "execution_count": 40,
      "outputs": [
        {
          "output_type": "display_data",
          "data": {
            "application/vnd.jupyter.widget-view+json": {
              "model_id": "a018b3640a7c4645ad5d42ac29c1d5f4",
              "version_minor": 0,
              "version_major": 2
            },
            "text/plain": [
              "interactive(children=(Play(value=1, description='bw', max=20, min=1), Output()), _dom_classes=('widget-interac…"
            ]
          },
          "metadata": {
            "tags": []
          }
        }
      ]
    },
    {
      "cell_type": "code",
      "metadata": {
        "colab": {
          "base_uri": "https://localhost:8080/",
          "height": 315,
          "referenced_widgets": [
            "fd2c50d6558b4324a771b77c275e8c0b",
            "4798b5d0578b4a2195a68bb7a40177ec",
            "933c33ba99004f43a7971dffefc991c0",
            "74f88c32a71b4fac8af782d63aab6684",
            "0cbd9af17a054e718a529586248729de",
            "ae00c69b212a408cb8ab3b627ad047d4",
            "62c7760933dc48418b3118dc81397ba3"
          ]
        },
        "id": "hOh4qll8Hhhv",
        "outputId": "5c155d76-86e1-41aa-99a2-d7b5ec32b62f"
      },
      "source": [
        "widgets.interact(bandwidth_widget_scaled, bw=widgets.Play(min=1, max=20));\n"
      ],
      "execution_count": 41,
      "outputs": [
        {
          "output_type": "display_data",
          "data": {
            "application/vnd.jupyter.widget-view+json": {
              "model_id": "fd2c50d6558b4324a771b77c275e8c0b",
              "version_minor": 0,
              "version_major": 2
            },
            "text/plain": [
              "interactive(children=(Play(value=1, description='bw', max=20, min=1), Output()), _dom_classes=('widget-interac…"
            ]
          },
          "metadata": {
            "tags": []
          }
        }
      ]
    },
    {
      "cell_type": "markdown",
      "metadata": {
        "id": "lQZOZz4qTDe7"
      },
      "source": [
        "# Button"
      ]
    },
    {
      "cell_type": "code",
      "metadata": {
        "colab": {
          "base_uri": "https://localhost:8080/",
          "height": 49,
          "referenced_widgets": [
            "a9042da3b73c4f0292827105211d7c77",
            "1fb64ec1d42d4a92b7db69c9a3d4e1c0",
            "65c207a735f34714b970c63ec13a76d4"
          ]
        },
        "id": "PPfZ8Z22TGbn",
        "outputId": "3e0385e5-1b59-428b-8550-6438d9f542eb"
      },
      "source": [
        "button = widgets.Button(\n",
        "    description='Click me',\n",
        "    disabled=False,\n",
        "    button_style='', # 'success', 'info', 'warning', 'danger' or ''\n",
        "    tooltip='Click me',\n",
        "    icon='check' # (FontAwesome names without the `fa-` prefix)\n",
        ")\n",
        "button"
      ],
      "execution_count": 28,
      "outputs": [
        {
          "output_type": "display_data",
          "data": {
            "application/vnd.jupyter.widget-view+json": {
              "model_id": "a9042da3b73c4f0292827105211d7c77",
              "version_minor": 0,
              "version_major": 2
            },
            "text/plain": [
              "Button(description='Click me', icon='check', style=ButtonStyle(), tooltip='Click me')"
            ]
          },
          "metadata": {
            "tags": []
          }
        }
      ]
    },
    {
      "cell_type": "markdown",
      "metadata": {
        "id": "a5C7hSwtRuLN"
      },
      "source": [
        "#  Link Widgets"
      ]
    },
    {
      "cell_type": "code",
      "metadata": {
        "colab": {
          "base_uri": "https://localhost:8080/",
          "height": 79,
          "referenced_widgets": [
            "68132415e1394bd8b53e408fb35cb2f0",
            "40fa2628eafe48c084f8d4251b28f393",
            "f9a0b51db43f451899f27e496e3319e3",
            "33686eba10dd4f0cb12fcd7078da1e0a",
            "16d3590f59d149b9b60eed4fbfee16e6",
            "52932dfd3171499c9103dcd815229847"
          ]
        },
        "id": "0aJsUV3lRt0X",
        "outputId": "16101414-50b6-48f4-df4e-760f4d82ddbb"
      },
      "source": [
        "# link widgets together\n",
        "\n",
        "a = ipywidgets.widgets.FloatText()\n",
        "b = ipywidgets.widgets.FloatLogSlider()\n",
        "display(a,b)\n",
        "\n",
        "link_widgets = ipywidgets.link((a, 'value'), (b, 'value'))"
      ],
      "execution_count": 24,
      "outputs": [
        {
          "output_type": "display_data",
          "data": {
            "application/vnd.jupyter.widget-view+json": {
              "model_id": "68132415e1394bd8b53e408fb35cb2f0",
              "version_minor": 0,
              "version_major": 2
            },
            "text/plain": [
              "FloatText(value=0.0)"
            ]
          },
          "metadata": {
            "tags": []
          }
        },
        {
          "output_type": "display_data",
          "data": {
            "application/vnd.jupyter.widget-view+json": {
              "model_id": "33686eba10dd4f0cb12fcd7078da1e0a",
              "version_minor": 0,
              "version_major": 2
            },
            "text/plain": [
              "FloatLogSlider(value=1.0)"
            ]
          },
          "metadata": {
            "tags": []
          }
        }
      ]
    },
    {
      "cell_type": "markdown",
      "metadata": {
        "id": "cPD3HNU4B7Sa"
      },
      "source": [
        "# ipywidgets for Input Information"
      ]
    },
    {
      "cell_type": "code",
      "metadata": {
        "id": "yKuaBAFxCFuI"
      },
      "source": [
        ""
      ],
      "execution_count": null,
      "outputs": []
    },
    {
      "cell_type": "markdown",
      "metadata": {
        "id": "GF5olMU4RL4X"
      },
      "source": [
        "# Casse"
      ]
    },
    {
      "cell_type": "code",
      "metadata": {
        "id": "H-_8HXNkRdsm"
      },
      "source": [
        ""
      ],
      "execution_count": null,
      "outputs": []
    }
  ]
}